{
 "cells": [
  {
   "cell_type": "code",
   "execution_count": 133,
   "metadata": {
    "collapsed": false
   },
   "outputs": [],
   "source": [
    "import numpy as np\n",
    "import matplotlib.pyplot as plt\n",
    "from sklearn import datasets\n",
    "from sklearn import linear_model\n",
    "from sklearn.linear_model import LinearRegression\n",
    "from sklearn.metrics import mean_squared_error\n",
    "from sklearn.cross_validation import cross_val_predict, LeaveOneOut\n",
    "from sklearn.cross_validation import KFold\n",
    "from itertools import combinations, chain\n",
    "%matplotlib inline\n"
   ]
  },
  {
   "cell_type": "markdown",
   "metadata": {},
   "source": [
    "Реализация методов отбора признаков Add (последовательное добавление признаков), Delete (последовательное удаление признаков), AddDelete (комбинации методов Add и Del) \n",
    "\n",
    "Используется линейная регрессия из библиотеки sklearn и совпадение ошибок в качестве критерия остановки, потому что и так все, что реализовано, работает за разумное время :"
   ]
  },
  {
   "cell_type": "code",
   "execution_count": 182,
   "metadata": {
    "collapsed": true
   },
   "outputs": [],
   "source": [
    "def Add(X, y, cv, added_signs = set(), mistake = float(\"inf\")):        \n",
    "    X_dim = X.shape[1]\n",
    "    all_signs = set(range(X_dim))\n",
    "    \n",
    "    while len(added_signs) < X_dim:\n",
    "        index_to_add = None\n",
    "        \n",
    "        for i in (all_signs - added_signs):\n",
    "            added_signs.add(i)\n",
    "            \n",
    "            lin_regression = LinearRegression()\n",
    "            y_predicted = cross_val_predict(lin_regression, X[:, np.array(list(added_signs))], y = y, cv = cv)\n",
    "            new_mistake = mean_squared_error(y_predicted, y)\n",
    "            \n",
    "            if new_mistake < mistake:\n",
    "                mistake = new_mistake\n",
    "                index_to_add = i\n",
    "                \n",
    "            added_signs.remove(i)\n",
    "            \n",
    "        if index_to_add is None:\n",
    "            break\n",
    "            \n",
    "        added_signs.add(index_to_add)\n",
    "        \n",
    "    return mistake, added_signs\n"
   ]
  },
  {
   "cell_type": "code",
   "execution_count": 183,
   "metadata": {
    "collapsed": false,
    "scrolled": true
   },
   "outputs": [],
   "source": [
    "def Delete(X, y, cv, added_signs = set(), mistake = float(\"inf\")):\n",
    "    X_dim = X.shape[1]\n",
    "    \n",
    "    if len(added_signs) == 0:\n",
    "        added_signs = set(range(X_dim))\n",
    "    \n",
    "    while len(added_signs) >= 2:\n",
    "        index_to_delete = None\n",
    "        \n",
    "        for i in added_signs:\n",
    "            added_signs.remove(i)\n",
    "            \n",
    "            lin_regression = LinearRegression()\n",
    "            y_predicted = cross_val_predict(lin_regression, X[:, np.array(list(added_signs))], y = y, cv = cv)\n",
    "            new_mistake = mean_squared_error(y_predicted, y)\n",
    "            \n",
    "            if new_mistake < mistake:\n",
    "                mistake = new_mistake\n",
    "                index_to_delete = i\n",
    "                \n",
    "            added_signs.add(i)\n",
    "            \n",
    "        if index_to_delete is None:\n",
    "            break\n",
    "            \n",
    "        added_signs.remove(index_to_delete)\n",
    "        \n",
    "    return mistake, added_signs"
   ]
  },
  {
   "cell_type": "code",
   "execution_count": 188,
   "metadata": {
    "collapsed": true
   },
   "outputs": [],
   "source": [
    "def AddDelete(X, y, cv):\n",
    "    added_signs = set()\n",
    "    mistake = float(\"inf\")\n",
    "    \n",
    "    while True:\n",
    "        new_mistake, added_signs = Add(X, y, cv, added_signs = added_signs, mistake = mistake)\n",
    "        new_mistake, added_signs = Delete(X, y, cv, added_signs = added_signs, mistake = new_mistake)\n",
    "        \n",
    "        if mistake == new_mistake:\n",
    "            break\n",
    "            \n",
    "        mistake = new_mistake\n",
    "            \n",
    "    return mistake, added_signs"
   ]
  },
  {
   "cell_type": "markdown",
   "metadata": {},
   "source": [
    "Реализация полного перебора для получения оптимального набора признаков :"
   ]
  },
  {
   "cell_type": "code",
   "execution_count": 185,
   "metadata": {
    "collapsed": true
   },
   "outputs": [],
   "source": [
    "def FullSearch(X, y, cv):\n",
    "    X_dim = X.shape[1]\n",
    "    mistake = float(\"inf\")\n",
    "    \n",
    "    result_signs = list()\n",
    "    all_subsets = list(chain(*[combinations(range(X_dim), i) for i in range(1, X_dim + 1)]))\n",
    "    \n",
    "    for subset in all_subsets:\n",
    "        lin_regression = LinearRegression()\n",
    "        y_predicted = cross_val_predict(lin_regression, X[:, np.array(list(subset))], y = y, cv = cv)\n",
    "        new_mistake = mean_squared_error(y_predicted, y)\n",
    "        \n",
    "        if new_mistake < mistake:\n",
    "            mistake = new_mistake\n",
    "            result_signs = subset\n",
    "            \n",
    "    return mistake, set(result_signs)"
   ]
  },
  {
   "cell_type": "markdown",
   "metadata": {},
   "source": [
    "Загрузка данных :"
   ]
  },
  {
   "cell_type": "code",
   "execution_count": 186,
   "metadata": {
    "collapsed": false,
    "scrolled": true
   },
   "outputs": [],
   "source": [
    "boston = datasets.load_boston()"
   ]
  },
  {
   "cell_type": "markdown",
   "metadata": {},
   "source": [
    "Запуск методов с критерием контроля по 20 блокам (sklearn.cross_validation.KFold) :"
   ]
  },
  {
   "cell_type": "code",
   "execution_count": 181,
   "metadata": {
    "collapsed": false
   },
   "outputs": [
    {
     "name": "stdout",
     "output_type": "stream",
     "text": [
      "(29.563348682882047, set([1, 3, 4, 5, 7, 10, 11, 12]))\n",
      "(29.53752708017085, set([0, 1, 3, 4, 6, 7, 8, 9, 10, 11, 12]))\n",
      "(29.563348682882047, set([1, 3, 4, 5, 7, 10, 11, 12]))\n",
      "(29.53752708017085, set([0, 1, 3, 4, 6, 7, 8, 9, 10, 11, 12]))\n"
     ]
    }
   ],
   "source": [
    "kf = KFold(len(boston.target), n_folds = 20)\n",
    "\n",
    "print Add(boston.data, boston.target, kf)\n",
    "print Delete(boston.data, boston.target, kf)\n",
    "print AddDelete(boston.data, boston.target, kf)\n",
    "print FullSearch(boston.data, boston.target, kf)"
   ]
  },
  {
   "cell_type": "markdown",
   "metadata": {},
   "source": [
    "Запуск методов с критерием Leave-one-out (sklearn.cross_validation.LeaveOneOut) :"
   ]
  },
  {
   "cell_type": "code",
   "execution_count": 187,
   "metadata": {
    "collapsed": false
   },
   "outputs": [
    {
     "name": "stdout",
     "output_type": "stream",
     "text": [
      "(23.516933914117438, set([0, 1, 3, 4, 5, 7, 8, 9, 10, 11, 12]))\n",
      "(23.516933914117438, set([0, 1, 3, 4, 5, 7, 8, 9, 10, 11, 12]))\n",
      "(23.516933914117438, set([0, 1, 3, 4, 5, 7, 8, 9, 10, 11, 12]))\n",
      "(23.516933914117438, set([0, 1, 3, 4, 5, 7, 8, 9, 10, 11, 12]))\n"
     ]
    }
   ],
   "source": [
    "loo = LeaveOneOut(len(boston.target))\n",
    "\n",
    "print Add(boston.data, boston.target, loo)\n",
    "print Delete(boston.data, boston.target, loo)\n",
    "print AddDelete(boston.data, boston.target, loo)\n",
    "print FullSearch(boston.data, boston.target, loo)"
   ]
  },
  {
   "cell_type": "code",
   "execution_count": null,
   "metadata": {
    "collapsed": true
   },
   "outputs": [],
   "source": []
  }
 ],
 "metadata": {
  "kernelspec": {
   "display_name": "Python 2",
   "language": "python",
   "name": "python2"
  }
 },
 "nbformat": 4,
 "nbformat_minor": 0
}
