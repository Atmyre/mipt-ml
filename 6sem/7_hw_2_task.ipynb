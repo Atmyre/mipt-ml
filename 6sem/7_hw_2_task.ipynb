{
 "cells": [
  {
   "cell_type": "markdown",
   "metadata": {},
   "source": [
    "## Задача №2"
   ]
  },
  {
   "cell_type": "markdown",
   "metadata": {},
   "source": [
    "### 1. Оценка максимального правдоподобия для $\\theta=p_1-p_2$:"
   ]
  },
  {
   "cell_type": "markdown",
   "metadata": {},
   "source": [
    "По определению оценки максимального правдоподобия: \n",
    "\n",
    "$$\\widehat\\theta = \\underset{\\theta}{argmax}(\\ln(L_{\\theta}))=\\underset{\\theta}{argmax}\\left(\\ln\\left(p_1^{X_1}(1-p_1)^{N_1-X_1}\\cdot p_2^{X_2}(1-p_2)^{N_2-X_2}\\right)\\right) = \\underset{\\theta}{argmax}\\left(X_1\\ln(p_1) + (N_1-X_1)\\ln(1-p_1) + X_2\\ln(p_2) + (N_2-X_2)\\ln(1-p_2)\\right),$$\n",
    "\n",
    "где $L_{\\theta}$ -- логарифмическая функция потерь.\n",
    "\n",
    "Найдем $p_1$ и $p_2$, приравняв к нулю производные логарифмической функции правдоподобия по $p_1$ и $p_2$ соответственно:\n",
    "\n",
    "$$0 = \\frac{\\partial L_{\\theta}}{\\partial p_1} = \\frac{X_1}{p_1} - \\frac{N_1 - X_1}{1 - p_1} \\Rightarrow p_1 = \\frac{X_1}{N_1}$$\n",
    "$$0 = \\frac{\\partial L_{\\theta}}{\\partial p_2} = \\frac{X_1}{p_2} - \\frac{N_2 - X_2}{1 - p_2} \\Rightarrow p_2 = \\frac{X_2}{N_2}$$\n",
    "\n",
    "Теперь можем найти $\\widehat\\theta$: $\\theta=p_1-p_2$, тогда\n",
    "$$\\widehat{\\theta} = \\frac{X_1}{N_1} - \\frac{X_2}{N_2}$$\n",
    "\n"
   ]
  },
  {
   "cell_type": "markdown",
   "metadata": {},
   "source": [
    "### 2. Состоятельная оценка для $\\mathrm{D}\\widehat{\\theta}$:"
   ]
  },
  {
   "cell_type": "markdown",
   "metadata": {},
   "source": [
    "$$\\mathrm{D}\\left(\\frac{X_1}{N_1}\\right) = \\frac{p_1(1 - p_1)}{N_1} \\xrightarrow{P_{p_1}} \\frac{X_1(N_1 - X_1)}{N_1^3},$$\n",
    "$$\\mathrm{D}\\left(\\frac{X_2}{N_2}\\right) = \\frac{p_2(1 - p_2)}{N_2} \\xrightarrow{P_{p_2}} \\frac{X_2(N_2 - X_2)}{N_2^3},$$\n",
    "\n",
    "поэтому \n",
    "$$\\mathrm{D}\\widehat{\\theta} = \\mathrm{D}\\left(\\frac{X_1}{N_1}\\right) + \\mathrm{D}\\left(\\frac{X_2}{N_2}\\right) \n",
    "= \\frac{X_1(N_1-X_1)}{N_1^3} + \\frac{X_2(N_2-X_2)}{N_2^3}$$"
   ]
  },
  {
   "cell_type": "markdown",
   "metadata": {},
   "source": [
    "### 3. Асимптотические доверительные интервалы для $𝑝_1$ и $𝑝_2$:"
   ]
  },
  {
   "cell_type": "markdown",
   "metadata": {},
   "source": [
    "По ЦПТ:\n",
    "$$\\frac{\\frac{X_1}{N_1} - p_1}{\\sqrt{N_1\\frac{X_1}{N_1}(1 - \\frac{X_1}{N_1})}}\\xrightarrow{d}\\frac{\\frac{X_1}{N_1} - p_1}{\\sqrt{N_1\\cdot p_1(1 - p_1)}}\\xrightarrow{d}\\mathcal{N}(0,1),$$\n",
    "\n",
    "откуда\n",
    "\n",
    "$$\\mathrm{P}\\left(-1 + \\frac{\\varepsilon}{2} < \\frac{\\frac{X_1}{N_1} - p_1}{\\sqrt{N_1\\frac{X_1}{N_1}(1 - \\frac{X_1}{N_1})}}<1 - \\frac{\\varepsilon}{2}\\right) = $$\n",
    "\n",
    "$$\\mathrm{P}\\left(\\frac{X_1}{N_1} - (1 - \\frac{\\varepsilon}{2})\\cdot\\sqrt{\\frac{\\frac{X_1}{N_1}(1 - \\frac{X_1}{N_1})}{N_1}}<p_1<\\frac{X_1}{N_1}+(1 - \\frac{\\varepsilon}{2})\\cdot\\sqrt{\\frac{\\frac{X_1}{N_1}(1 - \\frac{X_1}{N_1})}{N_1}}\\right) \\rightarrow$$\n",
    "\n",
    "$$ \\rightarrow 2\\Phi(1 - \\frac{\\varepsilon}{2})-1.$$\n",
    "\n",
    "Для $p_2$ аналогично."
   ]
  },
  {
   "cell_type": "markdown",
   "metadata": {},
   "source": [
    "Доверительный интервал ~95% для $\\theta$ получается:\n",
    "\n",
    "$$\\left(\\widehat{\\theta}-2\\sqrt{\\mathrm{D}\\widehat{\\theta}}, \\ \\widehat{\\theta}+2\\sqrt{\\mathrm{D}\\widehat{\\theta}} \\right)$$"
   ]
  },
  {
   "cell_type": "markdown",
   "metadata": {
    "collapsed": true
   },
   "source": [
    "### 4. Построение интервалов, используя бутстрепную оценку дисперсии:"
   ]
  },
  {
   "cell_type": "code",
   "execution_count": 8,
   "metadata": {
    "collapsed": true
   },
   "outputs": [],
   "source": [
    "import numpy as np"
   ]
  },
  {
   "cell_type": "markdown",
   "metadata": {},
   "source": [
    "Значения N1, N2, X1, X2:"
   ]
  },
  {
   "cell_type": "code",
   "execution_count": 13,
   "metadata": {
    "collapsed": true
   },
   "outputs": [],
   "source": [
    "arguments = [[58, 89, 10, 12], [58, 89, 15, 12], [58, 89, 21, 12]]"
   ]
  },
  {
   "cell_type": "markdown",
   "metadata": {},
   "source": [
    "в samples[i] запишем данные, соответствующие i-й выборке данных X1, N1, X2, N2;"
   ]
  },
  {
   "cell_type": "code",
   "execution_count": 14,
   "metadata": {
    "collapsed": false
   },
   "outputs": [],
   "source": [
    "samples = [[] for i in range(len(arguments))]\n",
    "\n",
    "for i in range(len(arguments)):\n",
    "    N1 = arguments[i][0]\n",
    "    N2 = arguments[i][1]\n",
    "    X1 = arguments[i][2]\n",
    "    X2 = arguments[i][3]\n",
    "    \n",
    "    samples[i].append(np.hstack([np.zeros(N1 - X1), np.ones(X1)]))\n",
    "    samples[i].append(np.hstack([np.zeros(N2 - X2), np.ones(X2)]))"
   ]
  },
  {
   "cell_type": "markdown",
   "metadata": {},
   "source": [
    "Генерация bootstrap'ной выборки:"
   ]
  },
  {
   "cell_type": "code",
   "execution_count": 22,
   "metadata": {
    "collapsed": false
   },
   "outputs": [
    {
     "name": "stdout",
     "output_type": "stream",
     "text": [
      "\n"
     ]
    }
   ],
   "source": [
    "def get_bootstrap_sample(sample):   \n",
    "    new_sample_value = np.floor(np.random.rand(len(sample)) * len(sample)).astype(int)\n",
    "    new_sample = np.array(sample[new_sample_value])\n",
    "    return new_sample"
   ]
  },
  {
   "cell_type": "markdown",
   "metadata": {},
   "source": [
    "Функция, по i возвращающая $\\widehat{\\theta}$ по выборкам sample1, sample2:"
   ]
  },
  {
   "cell_type": "code",
   "execution_count": 29,
   "metadata": {
    "collapsed": false
   },
   "outputs": [
    {
     "name": "stdout",
     "output_type": "stream",
     "text": [
      "\n"
     ]
    }
   ],
   "source": [
    "def get_thetta(sample1, sample2):\n",
    "    this_X1 = np.count_nonzero(sample1)\n",
    "    this_X2 = np.count_nonzero(sample2)\n",
    "    \n",
    "    return float(this_X1) / len(sample1) - float(this_X2) / len(sample2)"
   ]
  },
  {
   "cell_type": "markdown",
   "metadata": {},
   "source": [
    "Вычисление дисперсии выборки samples[i]:"
   ]
  },
  {
   "cell_type": "code",
   "execution_count": 32,
   "metadata": {
    "collapsed": false
   },
   "outputs": [
    {
     "name": "stdout",
     "output_type": "stream",
     "text": [
      "\n"
     ]
    }
   ],
   "source": [
    "def get_bootstrap_variance(i):\n",
    "    thettas = []\n",
    "    for j in range(1000):\n",
    "        thettas.append(get_thetta(get_bootstrap_sample(samples[i][0]),\\\n",
    "                                  get_bootstrap_sample(samples[i][1])))\n",
    "        \n",
    "    return np.var(thettas)"
   ]
  },
  {
   "cell_type": "markdown",
   "metadata": {},
   "source": [
    "#### Построение выборочной оценки дисперсии оценки параметра $\\theta$ для каждого набора данных и сравнение с данными, полученными теоретически:"
   ]
  },
  {
   "cell_type": "code",
   "execution_count": 35,
   "metadata": {
    "collapsed": false
   },
   "outputs": [
    {
     "name": "stdout",
     "output_type": "stream",
     "text": [
      "Number of data: 1\n",
      "N1: 58 X1: 10 N2: 89 X2: 12\n",
      "Theory: 0.00377082139771\n",
      "Bootstrap: 0.00378944364538\n",
      "\n",
      "Number of data: 2\n",
      "N1: 58 X1: 15 N2: 89 X2: 12\n",
      "Theory: 0.00461648952678\n",
      "Bootstrap: 0.00456192270997\n",
      "\n",
      "Number of data: 3\n",
      "N1: 58 X1: 21 N2: 89 X2: 12\n",
      "Theory: 0.00529302403004\n",
      "Bootstrap: 0.00530314759919\n",
      "\n"
     ]
    }
   ],
   "source": [
    "for i in range(len(arguments)):\n",
    "    print \"Number of data:\", i + 1\n",
    "    \n",
    "    N1 = arguments[i][0]\n",
    "    N2 = arguments[i][1]\n",
    "    X1 = arguments[i][2]\n",
    "    X2 = arguments[i][3]\n",
    "    \n",
    "    print 'N1:', N1, 'X1:', X1, 'N2:', N2, 'X2:', X2\n",
    "    print 'Theory:', float(X1 * (N1 - X1)) / (N1 ** 3) + float(X2 * (N2 - X2)) / (N2 ** 3)\n",
    "    print 'Bootstrap:', get_bootstrap_variance(i)\n",
    "    print"
   ]
  },
  {
   "cell_type": "markdown",
   "metadata": {},
   "source": [
    "#### Построение доверительного интервала $(\\widehat{\\theta} - 2\\sigma, \\widehat{\\theta} - 2\\sigma)$, используя в качестве $\\sigma$ бутстрепную дисперсию. \n",
    "P -- вероятность покрытия $\\theta$ этим интервалом."
   ]
  },
  {
   "cell_type": "code",
   "execution_count": 39,
   "metadata": {
    "collapsed": false
   },
   "outputs": [
    {
     "name": "stdout",
     "output_type": "stream",
     "text": [
      "Number of data: 1\n",
      "N1: 58 X1: 10 N2: 89 X2: 12\n",
      "Pr[theta is in confidence segment] = 0.9542\n",
      "\n",
      "Number of data: 2\n",
      "N1: 58 X1: 15 N2: 89 X2: 12\n",
      "Pr[theta is in confidence segment] = 0.9532\n",
      "\n",
      "Number of data: 3\n",
      "N1: 58 X1: 21 N2: 89 X2: 12\n",
      "Pr[theta is in confidence segment] = 0.9629\n",
      "\n"
     ]
    }
   ],
   "source": [
    "for i in range(len(arguments)):\n",
    "    print \"Number of data:\", i + 1\n",
    "    \n",
    "    N1 = arguments[i][0]\n",
    "    N2 = arguments[i][1]\n",
    "    X1 = arguments[i][2]\n",
    "    X2 = arguments[i][3]\n",
    "    \n",
    "    print 'N1:', N1, 'X1:', X1, 'N2:', N2, 'X2:', X2\n",
    "    thetta = get_thetta(samples[i][0], samples[i][1])\n",
    "    variance = get_bootstrap_variance(i)\n",
    "\n",
    "    good_cases_number = 0\n",
    "    for j in range(10000):\n",
    "        bootstrap_thetta = get_thetta(get_bootstrap_sample(samples[i][0]), \\\n",
    "                           get_bootstrap_sample(samples[i][1]))\n",
    "        \n",
    "        # if inside confidence segment\n",
    "        if abs(bootstrap_thetta - thetta) < 2 * np.sqrt(variance):\n",
    "            good_cases_number += 1\n",
    "            \n",
    "    print 'Pr[theta is in confidence segment] =', float(good_cases_number) / 10000.\n",
    "    print"
   ]
  }
 ],
 "metadata": {
  "kernelspec": {
   "display_name": "Python 2",
   "language": "python",
   "name": "python2"
  },
  "language_info": {
   "codemirror_mode": {
    "name": "ipython",
    "version": 2
   },
   "file_extension": ".py",
   "mimetype": "text/x-python",
   "name": "python",
   "nbconvert_exporter": "python",
   "pygments_lexer": "ipython2",
   "version": "2.7.11"
  }
 },
 "nbformat": 4,
 "nbformat_minor": 0
}
