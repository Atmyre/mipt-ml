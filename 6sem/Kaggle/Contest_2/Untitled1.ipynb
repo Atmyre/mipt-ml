{
 "cells": [
  {
   "cell_type": "code",
   "execution_count": 308,
   "metadata": {
    "collapsed": true
   },
   "outputs": [],
   "source": [
    "import xgboost as xgb\n",
    "import pandas as pd\n",
    "import numpy as np\n",
    "import matplotlib.pyplot as plt\n",
    "from sklearn import preprocessing\n",
    "from sklearn.cross_validation import train_test_split\n",
    "from sklearn.metrics import mean_squared_error\n",
    "from sklearn import svm, grid_search, datasets\n",
    "import operator\n",
    "from sklearn.metrics import roc_auc_score, f1_score\n",
    "from sklearn.ensemble import GradientBoostingRegressor, RandomForestRegressor, RandomForestClassifier\n",
    "from sklearn.linear_model import LinearRegression, LogisticRegression\n",
    "\n",
    "from hyperopt import hp\n",
    "from hyperopt import fmin, tpe, hp, STATUS_OK, Trials\n",
    "%matplotlib inline"
   ]
  },
  {
   "cell_type": "code",
   "execution_count": 309,
   "metadata": {
    "collapsed": false
   },
   "outputs": [
    {
     "data": {
      "text/html": [
       "<div>\n",
       "<table border=\"1\" class=\"dataframe\">\n",
       "  <thead>\n",
       "    <tr style=\"text-align: right;\">\n",
       "      <th></th>\n",
       "      <th>age</th>\n",
       "      <th>workclass</th>\n",
       "      <th>fnlwgt</th>\n",
       "      <th>education</th>\n",
       "      <th>education-num</th>\n",
       "      <th>marital-status</th>\n",
       "      <th>occupation</th>\n",
       "      <th>relationship</th>\n",
       "      <th>race</th>\n",
       "      <th>sex</th>\n",
       "      <th>capital-gain</th>\n",
       "      <th>capital-loss</th>\n",
       "      <th>hours-per-week</th>\n",
       "      <th>native-country</th>\n",
       "    </tr>\n",
       "  </thead>\n",
       "  <tbody>\n",
       "    <tr>\n",
       "      <th>0</th>\n",
       "      <td>39</td>\n",
       "      <td>State-gov</td>\n",
       "      <td>77516</td>\n",
       "      <td>Bachelors</td>\n",
       "      <td>13</td>\n",
       "      <td>Never-married</td>\n",
       "      <td>Adm-clerical</td>\n",
       "      <td>Not-in-family</td>\n",
       "      <td>White</td>\n",
       "      <td>Male</td>\n",
       "      <td>2174</td>\n",
       "      <td>0</td>\n",
       "      <td>40</td>\n",
       "      <td>United-States</td>\n",
       "    </tr>\n",
       "    <tr>\n",
       "      <th>1</th>\n",
       "      <td>50</td>\n",
       "      <td>Self-emp-not-inc</td>\n",
       "      <td>83311</td>\n",
       "      <td>Bachelors</td>\n",
       "      <td>13</td>\n",
       "      <td>Married-civ-spouse</td>\n",
       "      <td>Exec-managerial</td>\n",
       "      <td>Husband</td>\n",
       "      <td>White</td>\n",
       "      <td>Male</td>\n",
       "      <td>0</td>\n",
       "      <td>0</td>\n",
       "      <td>13</td>\n",
       "      <td>United-States</td>\n",
       "    </tr>\n",
       "    <tr>\n",
       "      <th>2</th>\n",
       "      <td>38</td>\n",
       "      <td>Private</td>\n",
       "      <td>215646</td>\n",
       "      <td>HS-grad</td>\n",
       "      <td>9</td>\n",
       "      <td>Divorced</td>\n",
       "      <td>Handlers-cleaners</td>\n",
       "      <td>Not-in-family</td>\n",
       "      <td>White</td>\n",
       "      <td>Male</td>\n",
       "      <td>0</td>\n",
       "      <td>0</td>\n",
       "      <td>40</td>\n",
       "      <td>United-States</td>\n",
       "    </tr>\n",
       "    <tr>\n",
       "      <th>3</th>\n",
       "      <td>53</td>\n",
       "      <td>Private</td>\n",
       "      <td>234721</td>\n",
       "      <td>11th</td>\n",
       "      <td>7</td>\n",
       "      <td>Married-civ-spouse</td>\n",
       "      <td>Handlers-cleaners</td>\n",
       "      <td>Husband</td>\n",
       "      <td>Black</td>\n",
       "      <td>Male</td>\n",
       "      <td>0</td>\n",
       "      <td>0</td>\n",
       "      <td>40</td>\n",
       "      <td>United-States</td>\n",
       "    </tr>\n",
       "    <tr>\n",
       "      <th>4</th>\n",
       "      <td>28</td>\n",
       "      <td>Private</td>\n",
       "      <td>338409</td>\n",
       "      <td>Bachelors</td>\n",
       "      <td>13</td>\n",
       "      <td>Married-civ-spouse</td>\n",
       "      <td>Prof-specialty</td>\n",
       "      <td>Wife</td>\n",
       "      <td>Black</td>\n",
       "      <td>Female</td>\n",
       "      <td>0</td>\n",
       "      <td>0</td>\n",
       "      <td>40</td>\n",
       "      <td>Cuba</td>\n",
       "    </tr>\n",
       "  </tbody>\n",
       "</table>\n",
       "</div>"
      ],
      "text/plain": [
       "    age          workclass   fnlwgt   education   education-num  \\\n",
       "0    39          State-gov    77516   Bachelors              13   \n",
       "1    50   Self-emp-not-inc    83311   Bachelors              13   \n",
       "2    38            Private   215646     HS-grad               9   \n",
       "3    53            Private   234721        11th               7   \n",
       "4    28            Private   338409   Bachelors              13   \n",
       "\n",
       "        marital-status          occupation    relationship    race      sex  \\\n",
       "0        Never-married        Adm-clerical   Not-in-family   White     Male   \n",
       "1   Married-civ-spouse     Exec-managerial         Husband   White     Male   \n",
       "2             Divorced   Handlers-cleaners   Not-in-family   White     Male   \n",
       "3   Married-civ-spouse   Handlers-cleaners         Husband   Black     Male   \n",
       "4   Married-civ-spouse      Prof-specialty            Wife   Black   Female   \n",
       "\n",
       "    capital-gain   capital-loss   hours-per-week  native-country  \n",
       "0           2174              0               40   United-States  \n",
       "1              0              0               13   United-States  \n",
       "2              0              0               40   United-States  \n",
       "3              0              0               40   United-States  \n",
       "4              0              0               40            Cuba  "
      ]
     },
     "execution_count": 309,
     "metadata": {},
     "output_type": "execute_result"
    }
   ],
   "source": [
    "train_data = pd.read_csv('train.txt')\n",
    "train_data = train_data.drop('id', axis=1)\n",
    "train_label = pd.read_csv('target_train.txt', index_col='id')\n",
    "train_data.head()"
   ]
  },
  {
   "cell_type": "code",
   "execution_count": 361,
   "metadata": {
    "collapsed": true
   },
   "outputs": [],
   "source": [
    "train_label = pd.read_csv('target_train.txt', index_col='id')\n",
    "train_label = train_label[1:]"
   ]
  },
  {
   "cell_type": "code",
   "execution_count": 310,
   "metadata": {
    "collapsed": false
   },
   "outputs": [],
   "source": [
    "accord_edu = {}\n",
    "for i in range(len(train_data[[4]])):\n",
    "    if accord_edu.get(train_data[[3]].loc[i][0]):\n",
    "        if not accord_edu[train_data[[3]].loc[i][0]] == train_data[[4]].loc[i][0]:\n",
    "            print train_data[[3]].loc[i][0], accord_edu[train_data[[3]].loc[i][0]], train_data[[4]].loc[i][0]\n",
    "    else:\n",
    "        accord_edu[train_data[[3]].loc[i][0]] = train_data[[4]].loc[i][0]"
   ]
  },
  {
   "cell_type": "code",
   "execution_count": 311,
   "metadata": {
    "collapsed": false
   },
   "outputs": [],
   "source": [
    "num_to_names = {0: ' age', 1: ' workclass', 2: ' fnlwgt', 3: ' education', 4: ' education-num', 5: ' marital-status', \n",
    "        6: ' occupation', 7: ' relationship', 8: ' race', 9: ' sex', 10: ' capital-gain', 11: ' captal-loss', \n",
    "        12: ' hours-per-week', 13: ' native-country'}\n",
    "\n",
    "names_to_num = {'age': 0, 'workclass': 1, 'fnlwgt': 2, 'education': 3, 'education-num': 4, 'marital-status': 5, \n",
    "        'occupation': 6, 'relationship': 7, 'race': 8, 'sex': 9, 'capital-gain': 10, 'captal-loss': 11, \n",
    "        'hours-per-week': 12, 'native-country': 13}"
   ]
  },
  {
   "cell_type": "code",
   "execution_count": 312,
   "metadata": {
    "collapsed": true
   },
   "outputs": [],
   "source": [
    "def count_frequency(data, i):\n",
    "    frequency = {}\n",
    "    for j in range(len(data[[i]])):\n",
    "        count = frequency.get(data[[i]].loc[j][0], 0)\n",
    "        count += 1\n",
    "        frequency[data[[i]].loc[j][0]] = count\n",
    "    print num_to_names[i], frequency\n",
    "    return frequency"
   ]
  },
  {
   "cell_type": "code",
   "execution_count": 313,
   "metadata": {
    "collapsed": false,
    "scrolled": true
   },
   "outputs": [
    {
     "name": "stdout",
     "output_type": "stream",
     "text": [
      " workclass {' Private': 15680, ' Self-emp-inc': 767, ' State-gov': 883, ' Local-gov': 1468, ' Without-pay': 8, ' Self-emp-not-inc': 1798, ' Federal-gov': 684, ' Never-worked': 4, ' ?': 1269}\n",
      " workclass {' Private': 15680, 'Rare': 12, ' Self-emp-inc': 767, ' State-gov': 883, ' Local-gov': 1468, ' Self-emp-not-inc': 1798, ' Federal-gov': 684, ' ?': 1269}\n",
      "\n",
      " education {' 7th-8th': 442, ' Prof-school': 380, ' 1st-4th': 111, ' Assoc-voc': 951, ' Masters': 1185, ' Assoc-acdm': 714, ' 9th': 351, ' Doctorate': 282, ' Bachelors': 3738, ' 5th-6th': 224, ' Some-college': 5050, ' 10th': 652, ' 11th': 818, ' HS-grad': 7353, ' Preschool': 32, ' 12th': 278}\n",
      " education {' 7th-8th': 442, ' Prof-school': 380, 'Rare': 143, ' Assoc-voc': 951, ' Masters': 1185, ' Assoc-acdm': 714, ' 9th': 351, ' Doctorate': 282, ' Bachelors': 3738, ' 5th-6th': 224, ' Some-college': 5050, ' 10th': 652, ' 11th': 818, ' HS-grad': 7353, ' 12th': 278}\n",
      "\n",
      " marital-status {' Separated': 703, ' Divorced': 3104, ' Married-spouse-absent': 303, ' Widowed': 691, ' Married-AF-spouse': 15, ' Never-married': 7413, ' Married-civ-spouse': 10332}\n",
      " marital-status {' Separated': 703, 'Rare': 15, ' Divorced': 3104, ' Married-spouse-absent': 303, ' Widowed': 691, ' Never-married': 7413, ' Married-civ-spouse': 10332}\n",
      "\n",
      " occupation {' Armed-Forces': 7, ' Craft-repair': 2829, ' Other-service': 2297, ' Transport-moving': 1103, ' Prof-specialty': 2877, ' Sales': 2538, ' Machine-op-inspct': 1410, ' Exec-managerial': 2749, ' Handlers-cleaners': 909, ' Protective-serv': 451, ' Adm-clerical': 2684, ' Tech-support': 637, ' ?': 1273, ' Farming-fishing': 683, ' Priv-house-serv': 114}\n",
      " occupation {'Rare': 121, ' Craft-repair': 2829, ' Other-service': 2297, ' Transport-moving': 1103, ' Prof-specialty': 2877, ' Sales': 2538, ' Machine-op-inspct': 1410, ' Exec-managerial': 2749, ' Handlers-cleaners': 909, ' Protective-serv': 451, ' Adm-clerical': 2684, ' Tech-support': 637, ' ?': 1273, ' Farming-fishing': 683}\n",
      "\n",
      " relationship {' Wife': 1111, ' Own-child': 3500, ' Unmarried': 2367, ' Husband': 9073, ' Other-relative': 671, ' Not-in-family': 5839}\n",
      " relationship {' Wife': 1111, ' Own-child': 3500, ' Unmarried': 2367, ' Husband': 9073, ' Other-relative': 671, ' Not-in-family': 5839}\n",
      "\n",
      " race {' Asian-Pac-Islander': 705, ' White': 19297, ' Other': 193, ' Amer-Indian-Eskimo': 220, ' Black': 2146}\n",
      " race {' Asian-Pac-Islander': 705, ' White': 19297, ' Other': 193, ' Amer-Indian-Eskimo': 220, ' Black': 2146}\n",
      "\n",
      " sex {' Male': 15096, ' Female': 7465}\n",
      " sex {' Male': 15096, ' Female': 7465}\n",
      "\n",
      " native-country {' Iran': 34, ' Cuba': 68, ' Puerto-Rico': 88, ' Outlying-US(Guam-USVI-etc)': 8, ' El-Salvador': 65, ' Guatemala': 48, ' Holand-Netherlands': 1, ' United-States': 20217, ' China': 53, ' Thailand': 14, ' Haiti': 35, ' Germany': 93, ' Columbia': 39, ' Hungary': 8, ' Dominican-Republic': 49, ' Poland': 47, ' Philippines': 136, ' Trinadad&Tobago': 9, ' Vietnam': 47, ' South': 59, ' Honduras': 8, ' Mexico': 437, ' Portugal': 27, ' England': 69, ' Jamaica': 54, ' India': 59, ' Yugoslavia': 10, ' Greece': 21, ' Japan': 45, ' Taiwan': 37, ' ?': 401, ' Nicaragua': 22, ' Canada': 91, ' Hong': 10, ' Italy': 47, ' Scotland': 9, ' France': 18, ' Cambodia': 15, ' Ecuador': 19, ' Laos': 7, ' Peru': 18, ' Ireland': 19}\n",
      " native-country {' Mexico': 437, 'Rare': 1506, ' ?': 401, ' United-States': 20217}\n",
      "\n"
     ]
    }
   ],
   "source": [
    "def process_rare(data):\n",
    "    for i in [1, 3, 5, 6, 7, 8, 9, 13]:\n",
    "        frequency = count_frequency(data, i)\n",
    "\n",
    "        summa = sum(frequency.values())\n",
    "        for key, value in frequency.iteritems():\n",
    "            if float(value) > 0.007*summa:\n",
    "                continue\n",
    "\n",
    "            data[num_to_names[i]].replace(to_replace=key, value='Rare', inplace=True)\n",
    "        count_frequency(data, i)\n",
    "        print \n",
    "    return data\n",
    "        \n",
    "train_data = process_rare(train_data)"
   ]
  },
  {
   "cell_type": "code",
   "execution_count": 314,
   "metadata": {
    "collapsed": true
   },
   "outputs": [],
   "source": [
    "data = train_data"
   ]
  },
  {
   "cell_type": "code",
   "execution_count": 316,
   "metadata": {
    "collapsed": false
   },
   "outputs": [],
   "source": [
    "train_data[num_to_names[4]].replace(to_replace=accord_edu[' Preschool'], value= accord_edu[' 1st-4th'], inplace=True)"
   ]
  },
  {
   "cell_type": "code",
   "execution_count": 317,
   "metadata": {
    "collapsed": false
   },
   "outputs": [],
   "source": [
    "data = train_data"
   ]
  },
  {
   "cell_type": "code",
   "execution_count": 318,
   "metadata": {
    "collapsed": false
   },
   "outputs": [
    {
     "data": {
      "text/html": [
       "<div>\n",
       "<table border=\"1\" class=\"dataframe\">\n",
       "  <thead>\n",
       "    <tr style=\"text-align: right;\">\n",
       "      <th></th>\n",
       "      <th>age</th>\n",
       "      <th>workclass</th>\n",
       "      <th>fnlwgt</th>\n",
       "      <th>education-num</th>\n",
       "      <th>marital-status</th>\n",
       "      <th>occupation</th>\n",
       "      <th>relationship</th>\n",
       "      <th>race</th>\n",
       "      <th>sex</th>\n",
       "      <th>capital-gain</th>\n",
       "      <th>capital-loss</th>\n",
       "      <th>hours-per-week</th>\n",
       "      <th>native-country</th>\n",
       "    </tr>\n",
       "  </thead>\n",
       "  <tbody>\n",
       "    <tr>\n",
       "      <th>0</th>\n",
       "      <td>39</td>\n",
       "      <td>State-gov</td>\n",
       "      <td>77516</td>\n",
       "      <td>13</td>\n",
       "      <td>Never-married</td>\n",
       "      <td>Adm-clerical</td>\n",
       "      <td>Not-in-family</td>\n",
       "      <td>White</td>\n",
       "      <td>Male</td>\n",
       "      <td>2174</td>\n",
       "      <td>0</td>\n",
       "      <td>40</td>\n",
       "      <td>United-States</td>\n",
       "    </tr>\n",
       "    <tr>\n",
       "      <th>1</th>\n",
       "      <td>50</td>\n",
       "      <td>Self-emp-not-inc</td>\n",
       "      <td>83311</td>\n",
       "      <td>13</td>\n",
       "      <td>Married-civ-spouse</td>\n",
       "      <td>Exec-managerial</td>\n",
       "      <td>Husband</td>\n",
       "      <td>White</td>\n",
       "      <td>Male</td>\n",
       "      <td>0</td>\n",
       "      <td>0</td>\n",
       "      <td>13</td>\n",
       "      <td>United-States</td>\n",
       "    </tr>\n",
       "    <tr>\n",
       "      <th>2</th>\n",
       "      <td>38</td>\n",
       "      <td>Private</td>\n",
       "      <td>215646</td>\n",
       "      <td>9</td>\n",
       "      <td>Divorced</td>\n",
       "      <td>Handlers-cleaners</td>\n",
       "      <td>Not-in-family</td>\n",
       "      <td>White</td>\n",
       "      <td>Male</td>\n",
       "      <td>0</td>\n",
       "      <td>0</td>\n",
       "      <td>40</td>\n",
       "      <td>United-States</td>\n",
       "    </tr>\n",
       "    <tr>\n",
       "      <th>3</th>\n",
       "      <td>53</td>\n",
       "      <td>Private</td>\n",
       "      <td>234721</td>\n",
       "      <td>7</td>\n",
       "      <td>Married-civ-spouse</td>\n",
       "      <td>Handlers-cleaners</td>\n",
       "      <td>Husband</td>\n",
       "      <td>Black</td>\n",
       "      <td>Male</td>\n",
       "      <td>0</td>\n",
       "      <td>0</td>\n",
       "      <td>40</td>\n",
       "      <td>United-States</td>\n",
       "    </tr>\n",
       "    <tr>\n",
       "      <th>4</th>\n",
       "      <td>28</td>\n",
       "      <td>Private</td>\n",
       "      <td>338409</td>\n",
       "      <td>13</td>\n",
       "      <td>Married-civ-spouse</td>\n",
       "      <td>Prof-specialty</td>\n",
       "      <td>Wife</td>\n",
       "      <td>Black</td>\n",
       "      <td>Female</td>\n",
       "      <td>0</td>\n",
       "      <td>0</td>\n",
       "      <td>40</td>\n",
       "      <td>Rare</td>\n",
       "    </tr>\n",
       "  </tbody>\n",
       "</table>\n",
       "</div>"
      ],
      "text/plain": [
       "    age          workclass   fnlwgt   education-num       marital-status  \\\n",
       "0    39          State-gov    77516              13        Never-married   \n",
       "1    50   Self-emp-not-inc    83311              13   Married-civ-spouse   \n",
       "2    38            Private   215646               9             Divorced   \n",
       "3    53            Private   234721               7   Married-civ-spouse   \n",
       "4    28            Private   338409              13   Married-civ-spouse   \n",
       "\n",
       "           occupation    relationship    race      sex   capital-gain  \\\n",
       "0        Adm-clerical   Not-in-family   White     Male           2174   \n",
       "1     Exec-managerial         Husband   White     Male              0   \n",
       "2   Handlers-cleaners   Not-in-family   White     Male              0   \n",
       "3   Handlers-cleaners         Husband   Black     Male              0   \n",
       "4      Prof-specialty            Wife   Black   Female              0   \n",
       "\n",
       "    capital-loss   hours-per-week  native-country  \n",
       "0              0               40   United-States  \n",
       "1              0               13   United-States  \n",
       "2              0               40   United-States  \n",
       "3              0               40   United-States  \n",
       "4              0               40            Rare  "
      ]
     },
     "execution_count": 318,
     "metadata": {},
     "output_type": "execute_result"
    }
   ],
   "source": [
    "train_data = train_data.drop(' education', axis=1)\n",
    "train_data.head()"
   ]
  },
  {
   "cell_type": "code",
   "execution_count": 159,
   "metadata": {
    "collapsed": false
   },
   "outputs": [
    {
     "name": "stdout",
     "output_type": "stream",
     "text": [
      "[20713, 5, 13, 17, 2, 7, 1, 3, 20, 4, 9, 29, 2, 192, 7, 63, 2, 19, 1, 8, 2, 22, 25, 1, 3, 11, 3, 1, 15, 3, 3, 37, 6, 13, 168, 8, 1, 13, 14, 3, 223, 17, 21, 64, 19, 9, 4, 2, 6, 17, 4, 36, 12, 33, 5, 8, 20, 3, 4, 3, 29, 4, 4, 55, 3, 3, 5, 8, 5, 10, 1, 24, 18, 6, 8, 15, 4, 6, 2, 8, 4, 10, 2, 3, 9, 6, 4, 2, 1, 6, 15, 5, 3, 2, 6, 5, 48, 9, 2, 8, 5, 4, 35, 1, 1, 3, 3, 1, 5, 1, 2, 32, 7, 1, 1, 3]\n"
     ]
    }
   ],
   "source": [
    "all_money = []\n",
    "for i in range(len(train_data[[9]])):\n",
    "    if int(train_data[[9]].loc[i][0]) != 99999:\n",
    "        all_money.append(int(train_data[[9]].loc[i][0]))\n",
    "\n",
    "money = {}\n",
    "for i in range(len(all_money)):\n",
    "    amount = money.get(all_money[i], 0)\n",
    "    amount += 1\n",
    "    money[all_money[i]] = amount\n",
    "print money.values()\n",
    "\n",
    "train_data[' capital-gain'].replace(to_replace=99999, value=money.values()[0], inplace=True)"
   ]
  },
  {
   "cell_type": "code",
   "execution_count": 160,
   "metadata": {
    "collapsed": false
   },
   "outputs": [
    {
     "name": "stdout",
     "output_type": "stream",
     "text": [
      "[21506, 1, 3, 12, 21, 1, 4, 12, 33, 6, 28, 4, 3, 6, 120, 10, 1, 2, 1, 1, 10, 2, 6, 2, 5, 11, 2, 18, 25, 3, 1, 1, 8, 5, 16, 13, 2, 3, 5, 2, 27, 13, 17, 3, 1, 13, 3, 3, 2, 6, 2, 2, 13, 2, 2, 1, 33, 1, 2, 9, 34, 6, 96, 4, 4, 143, 36, 5, 1, 14, 6, 1, 2, 2, 11, 1, 17, 36, 2, 17, 15, 15, 3, 3, 2, 6, 9]\n"
     ]
    }
   ],
   "source": [
    "all_lost_money = []\n",
    "for i in range(len(train_data[[10]])):\n",
    "    if int(train_data[[10]].loc[i][0]) != 99999:\n",
    "        all_lost_money.append(int(train_data[[10]].loc[i][0]))\n",
    "\n",
    "money = {}\n",
    "for i in range(len(all_lost_money)):\n",
    "    amount = money.get(all_lost_money[i], 0)\n",
    "    amount += 1\n",
    "    money[all_lost_money[i]] = amount\n",
    "print money.values()"
   ]
  },
  {
   "cell_type": "code",
   "execution_count": 319,
   "metadata": {
    "collapsed": true
   },
   "outputs": [],
   "source": [
    "data_2 = train_data"
   ]
  },
  {
   "cell_type": "code",
   "execution_count": 164,
   "metadata": {
    "collapsed": true
   },
   "outputs": [],
   "source": [
    "train_data[' capital-gain'].replace(to_replace=0, value=1, inplace=True)\n",
    "train_data[' capital-loss'].replace(to_replace=0, value=1, inplace=True)\n",
    "train_data[' hours-per-week'].replace(to_replace=0, value=1, inplace=True)\n",
    "train_data[' fnlwgt'].replace(to_replace=0, value=1, inplace=True)"
   ]
  },
  {
   "cell_type": "code",
   "execution_count": 165,
   "metadata": {
    "collapsed": false
   },
   "outputs": [],
   "source": [
    "train_data[' hours-per-week'] = np.log(train_data[' hours-per-week'])\n",
    "train_data[' capital-gain'] = np.log(train_data[' capital-gain'])\n",
    "train_data[' capital-loss'] = np.log(train_data[' capital-loss'])\n",
    "train_data[' fnlwgt'] = np.log(train_data[' fnlwgt'])"
   ]
  },
  {
   "cell_type": "code",
   "execution_count": 237,
   "metadata": {
    "collapsed": false
   },
   "outputs": [],
   "source": [
    "def normalize(data, features):\n",
    "    data_norm = data\n",
    "    for feature in features:\n",
    "        data_norm[feature] = (data[feature] - data[feature].mean()) / (data[feature].max() - data[feature].min())\n",
    "    return data_norm\n",
    "    \n",
    "train_data_norm = normalize(train_data, [' hours-per-week', ' capital-gain', ' capital-loss', ' fnlwgt'])"
   ]
  },
  {
   "cell_type": "code",
   "execution_count": 241,
   "metadata": {
    "collapsed": false
   },
   "outputs": [
    {
     "data": {
      "text/html": [
       "<div>\n",
       "<table border=\"1\" class=\"dataframe\">\n",
       "  <thead>\n",
       "    <tr style=\"text-align: right;\">\n",
       "      <th></th>\n",
       "      <th>age</th>\n",
       "      <th>workclass</th>\n",
       "      <th>fnlwgt</th>\n",
       "      <th>education-num</th>\n",
       "      <th>marital-status</th>\n",
       "      <th>occupation</th>\n",
       "      <th>relationship</th>\n",
       "      <th>race</th>\n",
       "      <th>sex</th>\n",
       "      <th>capital-gain</th>\n",
       "      <th>capital-loss</th>\n",
       "      <th>hours-per-week</th>\n",
       "      <th>native-country</th>\n",
       "    </tr>\n",
       "  </thead>\n",
       "  <tbody>\n",
       "    <tr>\n",
       "      <th>0</th>\n",
       "      <td>39</td>\n",
       "      <td>State-gov</td>\n",
       "      <td>-0.151398</td>\n",
       "      <td>13</td>\n",
       "      <td>Never-married</td>\n",
       "      <td>Adm-clerical</td>\n",
       "      <td>Not-in-family</td>\n",
       "      <td>White</td>\n",
       "      <td>Male</td>\n",
       "      <td>0.655708</td>\n",
       "      <td>-0.041865</td>\n",
       "      <td>0.011540</td>\n",
       "      <td>United-States</td>\n",
       "    </tr>\n",
       "    <tr>\n",
       "      <th>1</th>\n",
       "      <td>50</td>\n",
       "      <td>Self-emp-not-inc</td>\n",
       "      <td>-0.136361</td>\n",
       "      <td>13</td>\n",
       "      <td>Married-civ-spouse</td>\n",
       "      <td>Exec-managerial</td>\n",
       "      <td>Husband</td>\n",
       "      <td>White</td>\n",
       "      <td>Male</td>\n",
       "      <td>-0.067260</td>\n",
       "      <td>-0.041865</td>\n",
       "      <td>-0.233052</td>\n",
       "      <td>United-States</td>\n",
       "    </tr>\n",
       "    <tr>\n",
       "      <th>2</th>\n",
       "      <td>38</td>\n",
       "      <td>Private</td>\n",
       "      <td>0.061999</td>\n",
       "      <td>9</td>\n",
       "      <td>Divorced</td>\n",
       "      <td>Handlers-cleaners</td>\n",
       "      <td>Not-in-family</td>\n",
       "      <td>White</td>\n",
       "      <td>Male</td>\n",
       "      <td>-0.067260</td>\n",
       "      <td>-0.041865</td>\n",
       "      <td>0.011540</td>\n",
       "      <td>United-States</td>\n",
       "    </tr>\n",
       "    <tr>\n",
       "      <th>3</th>\n",
       "      <td>53</td>\n",
       "      <td>Private</td>\n",
       "      <td>0.079678</td>\n",
       "      <td>7</td>\n",
       "      <td>Married-civ-spouse</td>\n",
       "      <td>Handlers-cleaners</td>\n",
       "      <td>Husband</td>\n",
       "      <td>Black</td>\n",
       "      <td>Male</td>\n",
       "      <td>-0.067260</td>\n",
       "      <td>-0.041865</td>\n",
       "      <td>0.011540</td>\n",
       "      <td>United-States</td>\n",
       "    </tr>\n",
       "    <tr>\n",
       "      <th>4</th>\n",
       "      <td>28</td>\n",
       "      <td>Private</td>\n",
       "      <td>0.155984</td>\n",
       "      <td>13</td>\n",
       "      <td>Married-civ-spouse</td>\n",
       "      <td>Prof-specialty</td>\n",
       "      <td>Wife</td>\n",
       "      <td>Black</td>\n",
       "      <td>Female</td>\n",
       "      <td>-0.067260</td>\n",
       "      <td>-0.041865</td>\n",
       "      <td>0.011540</td>\n",
       "      <td>Rare</td>\n",
       "    </tr>\n",
       "  </tbody>\n",
       "</table>\n",
       "</div>"
      ],
      "text/plain": [
       "    age          workclass    fnlwgt   education-num       marital-status  \\\n",
       "0    39          State-gov -0.151398              13        Never-married   \n",
       "1    50   Self-emp-not-inc -0.136361              13   Married-civ-spouse   \n",
       "2    38            Private  0.061999               9             Divorced   \n",
       "3    53            Private  0.079678               7   Married-civ-spouse   \n",
       "4    28            Private  0.155984              13   Married-civ-spouse   \n",
       "\n",
       "           occupation    relationship    race      sex   capital-gain  \\\n",
       "0        Adm-clerical   Not-in-family   White     Male       0.655708   \n",
       "1     Exec-managerial         Husband   White     Male      -0.067260   \n",
       "2   Handlers-cleaners   Not-in-family   White     Male      -0.067260   \n",
       "3   Handlers-cleaners         Husband   Black     Male      -0.067260   \n",
       "4      Prof-specialty            Wife   Black   Female      -0.067260   \n",
       "\n",
       "    capital-loss   hours-per-week  native-country  \n",
       "0      -0.041865         0.011540   United-States  \n",
       "1      -0.041865        -0.233052   United-States  \n",
       "2      -0.041865         0.011540   United-States  \n",
       "3      -0.041865         0.011540   United-States  \n",
       "4      -0.041865         0.011540            Rare  "
      ]
     },
     "execution_count": 241,
     "metadata": {},
     "output_type": "execute_result"
    }
   ],
   "source": [
    "train_data = data_2\n",
    "train_data_norm.head()"
   ]
  },
  {
   "cell_type": "code",
   "execution_count": 320,
   "metadata": {
    "collapsed": false
   },
   "outputs": [],
   "source": [
    "def replace_quest(data, features):\n",
    "    for feature in features:\n",
    "        dictionary = {}\n",
    "        for j in range(len(data[feature])):\n",
    "            count = dictionary.get(data[feature].loc[j][0], 0)\n",
    "            count += 1\n",
    "            dictionary[data[feature].loc[j][0]] = count\n",
    "            \n",
    "            median_value = np.median(dictionary.values())\n",
    "            for key, value in dictionary.iteritems():\n",
    "                if value == median_value:\n",
    "                    data[feature].replace(to_replace=' ?', value=key, inplace=True)\n",
    "                    break\n",
    "    return data\n",
    "    \n",
    "train_data = replace_quest(train_data, [' workclass', ' marital-status', ' occupation', ' relationship', \n",
    "                                                 ' race', ' sex', ' native-country'])"
   ]
  },
  {
   "cell_type": "code",
   "execution_count": 321,
   "metadata": {
    "collapsed": false
   },
   "outputs": [
    {
     "data": {
      "text/html": [
       "<div>\n",
       "<table border=\"1\" class=\"dataframe\">\n",
       "  <thead>\n",
       "    <tr style=\"text-align: right;\">\n",
       "      <th></th>\n",
       "      <th>age</th>\n",
       "      <th>workclass</th>\n",
       "      <th>fnlwgt</th>\n",
       "      <th>education-num</th>\n",
       "      <th>marital-status</th>\n",
       "      <th>occupation</th>\n",
       "      <th>relationship</th>\n",
       "      <th>race</th>\n",
       "      <th>sex</th>\n",
       "      <th>capital-gain</th>\n",
       "      <th>capital-loss</th>\n",
       "      <th>hours-per-week</th>\n",
       "      <th>native-country</th>\n",
       "    </tr>\n",
       "  </thead>\n",
       "  <tbody>\n",
       "    <tr>\n",
       "      <th>0</th>\n",
       "      <td>39</td>\n",
       "      <td>State-gov</td>\n",
       "      <td>77516</td>\n",
       "      <td>13</td>\n",
       "      <td>Never-married</td>\n",
       "      <td>Adm-clerical</td>\n",
       "      <td>Not-in-family</td>\n",
       "      <td>White</td>\n",
       "      <td>Male</td>\n",
       "      <td>2174</td>\n",
       "      <td>0</td>\n",
       "      <td>40</td>\n",
       "      <td>United-States</td>\n",
       "    </tr>\n",
       "    <tr>\n",
       "      <th>1</th>\n",
       "      <td>50</td>\n",
       "      <td>Self-emp-not-inc</td>\n",
       "      <td>83311</td>\n",
       "      <td>13</td>\n",
       "      <td>Married-civ-spouse</td>\n",
       "      <td>Exec-managerial</td>\n",
       "      <td>Husband</td>\n",
       "      <td>White</td>\n",
       "      <td>Male</td>\n",
       "      <td>0</td>\n",
       "      <td>0</td>\n",
       "      <td>13</td>\n",
       "      <td>United-States</td>\n",
       "    </tr>\n",
       "    <tr>\n",
       "      <th>2</th>\n",
       "      <td>38</td>\n",
       "      <td>Private</td>\n",
       "      <td>215646</td>\n",
       "      <td>9</td>\n",
       "      <td>Divorced</td>\n",
       "      <td>Handlers-cleaners</td>\n",
       "      <td>Not-in-family</td>\n",
       "      <td>White</td>\n",
       "      <td>Male</td>\n",
       "      <td>0</td>\n",
       "      <td>0</td>\n",
       "      <td>40</td>\n",
       "      <td>United-States</td>\n",
       "    </tr>\n",
       "    <tr>\n",
       "      <th>3</th>\n",
       "      <td>53</td>\n",
       "      <td>Private</td>\n",
       "      <td>234721</td>\n",
       "      <td>7</td>\n",
       "      <td>Married-civ-spouse</td>\n",
       "      <td>Handlers-cleaners</td>\n",
       "      <td>Husband</td>\n",
       "      <td>Black</td>\n",
       "      <td>Male</td>\n",
       "      <td>0</td>\n",
       "      <td>0</td>\n",
       "      <td>40</td>\n",
       "      <td>United-States</td>\n",
       "    </tr>\n",
       "    <tr>\n",
       "      <th>4</th>\n",
       "      <td>28</td>\n",
       "      <td>Private</td>\n",
       "      <td>338409</td>\n",
       "      <td>13</td>\n",
       "      <td>Married-civ-spouse</td>\n",
       "      <td>Prof-specialty</td>\n",
       "      <td>Wife</td>\n",
       "      <td>Black</td>\n",
       "      <td>Female</td>\n",
       "      <td>0</td>\n",
       "      <td>0</td>\n",
       "      <td>40</td>\n",
       "      <td>Rare</td>\n",
       "    </tr>\n",
       "  </tbody>\n",
       "</table>\n",
       "</div>"
      ],
      "text/plain": [
       "    age          workclass   fnlwgt   education-num       marital-status  \\\n",
       "0    39          State-gov    77516              13        Never-married   \n",
       "1    50   Self-emp-not-inc    83311              13   Married-civ-spouse   \n",
       "2    38            Private   215646               9             Divorced   \n",
       "3    53            Private   234721               7   Married-civ-spouse   \n",
       "4    28            Private   338409              13   Married-civ-spouse   \n",
       "\n",
       "           occupation    relationship    race      sex   capital-gain  \\\n",
       "0        Adm-clerical   Not-in-family   White     Male           2174   \n",
       "1     Exec-managerial         Husband   White     Male              0   \n",
       "2   Handlers-cleaners   Not-in-family   White     Male              0   \n",
       "3   Handlers-cleaners         Husband   Black     Male              0   \n",
       "4      Prof-specialty            Wife   Black   Female              0   \n",
       "\n",
       "    capital-loss   hours-per-week  native-country  \n",
       "0              0               40   United-States  \n",
       "1              0               13   United-States  \n",
       "2              0               40   United-States  \n",
       "3              0               40   United-States  \n",
       "4              0               40            Rare  "
      ]
     },
     "execution_count": 321,
     "metadata": {},
     "output_type": "execute_result"
    }
   ],
   "source": [
    "train_data.head()"
   ]
  },
  {
   "cell_type": "code",
   "execution_count": 322,
   "metadata": {
    "collapsed": false
   },
   "outputs": [
    {
     "data": {
      "text/html": [
       "<div>\n",
       "<table border=\"1\" class=\"dataframe\">\n",
       "  <thead>\n",
       "    <tr style=\"text-align: right;\">\n",
       "      <th></th>\n",
       "      <th>age</th>\n",
       "      <th>workclass</th>\n",
       "      <th>fnlwgt</th>\n",
       "      <th>education-num</th>\n",
       "      <th>marital-status</th>\n",
       "      <th>occupation</th>\n",
       "      <th>relationship</th>\n",
       "      <th>race</th>\n",
       "      <th>sex</th>\n",
       "      <th>capital-gain</th>\n",
       "      <th>capital-loss</th>\n",
       "      <th>hours-per-week</th>\n",
       "      <th>native-country</th>\n",
       "    </tr>\n",
       "  </thead>\n",
       "  <tbody>\n",
       "    <tr>\n",
       "      <th>0</th>\n",
       "      <td>39</td>\n",
       "      <td>6</td>\n",
       "      <td>77516</td>\n",
       "      <td>13</td>\n",
       "      <td>3</td>\n",
       "      <td>1</td>\n",
       "      <td>1</td>\n",
       "      <td>4</td>\n",
       "      <td>1</td>\n",
       "      <td>2174</td>\n",
       "      <td>0</td>\n",
       "      <td>40</td>\n",
       "      <td>2</td>\n",
       "    </tr>\n",
       "    <tr>\n",
       "      <th>1</th>\n",
       "      <td>50</td>\n",
       "      <td>5</td>\n",
       "      <td>83311</td>\n",
       "      <td>13</td>\n",
       "      <td>1</td>\n",
       "      <td>3</td>\n",
       "      <td>0</td>\n",
       "      <td>4</td>\n",
       "      <td>1</td>\n",
       "      <td>0</td>\n",
       "      <td>0</td>\n",
       "      <td>13</td>\n",
       "      <td>2</td>\n",
       "    </tr>\n",
       "    <tr>\n",
       "      <th>2</th>\n",
       "      <td>38</td>\n",
       "      <td>3</td>\n",
       "      <td>215646</td>\n",
       "      <td>9</td>\n",
       "      <td>0</td>\n",
       "      <td>5</td>\n",
       "      <td>1</td>\n",
       "      <td>4</td>\n",
       "      <td>1</td>\n",
       "      <td>0</td>\n",
       "      <td>0</td>\n",
       "      <td>40</td>\n",
       "      <td>2</td>\n",
       "    </tr>\n",
       "    <tr>\n",
       "      <th>3</th>\n",
       "      <td>53</td>\n",
       "      <td>3</td>\n",
       "      <td>234721</td>\n",
       "      <td>7</td>\n",
       "      <td>1</td>\n",
       "      <td>5</td>\n",
       "      <td>0</td>\n",
       "      <td>2</td>\n",
       "      <td>1</td>\n",
       "      <td>0</td>\n",
       "      <td>0</td>\n",
       "      <td>40</td>\n",
       "      <td>2</td>\n",
       "    </tr>\n",
       "    <tr>\n",
       "      <th>4</th>\n",
       "      <td>28</td>\n",
       "      <td>3</td>\n",
       "      <td>338409</td>\n",
       "      <td>13</td>\n",
       "      <td>1</td>\n",
       "      <td>8</td>\n",
       "      <td>5</td>\n",
       "      <td>2</td>\n",
       "      <td>0</td>\n",
       "      <td>0</td>\n",
       "      <td>0</td>\n",
       "      <td>40</td>\n",
       "      <td>3</td>\n",
       "    </tr>\n",
       "  </tbody>\n",
       "</table>\n",
       "</div>"
      ],
      "text/plain": [
       "    age   workclass   fnlwgt   education-num   marital-status   occupation  \\\n",
       "0    39           6    77516              13                3            1   \n",
       "1    50           5    83311              13                1            3   \n",
       "2    38           3   215646               9                0            5   \n",
       "3    53           3   234721               7                1            5   \n",
       "4    28           3   338409              13                1            8   \n",
       "\n",
       "    relationship   race   sex   capital-gain   capital-loss   hours-per-week  \\\n",
       "0              1      4     1           2174              0               40   \n",
       "1              0      4     1              0              0               13   \n",
       "2              1      4     1              0              0               40   \n",
       "3              0      2     1              0              0               40   \n",
       "4              5      2     0              0              0               40   \n",
       "\n",
       "    native-country  \n",
       "0                2  \n",
       "1                2  \n",
       "2                2  \n",
       "3                2  \n",
       "4                3  "
      ]
     },
     "execution_count": 322,
     "metadata": {},
     "output_type": "execute_result"
    }
   ],
   "source": [
    "def number_encode_features(train_data):\n",
    "    result = train_data.copy()\n",
    "    encoders = {}\n",
    "    for column in result.columns:\n",
    "        if result.dtypes[column] == np.object:\n",
    "            encoders[column] = preprocessing.LabelEncoder()\n",
    "            result[column] = encoders[column].fit_transform(result[column])\n",
    "    return result, encoders\n",
    "\n",
    "encoded_data, encoders = number_encode_features(train_data)\n",
    "train_data = encoded_data\n",
    "train_data.head()"
   ]
  },
  {
   "cell_type": "code",
   "execution_count": 180,
   "metadata": {
    "collapsed": false
   },
   "outputs": [],
   "source": [
    "train_data_norm = pd.get_dummies(train_data_norm, columns=[' workclass', ' marital-status', ' occupation', ' relationship', \n",
    "                                                 ' race', ' sex', ' native-country'])"
   ]
  },
  {
   "cell_type": "code",
   "execution_count": 369,
   "metadata": {
    "collapsed": false
   },
   "outputs": [
    {
     "data": {
      "text/html": [
       "<div>\n",
       "<table border=\"1\" class=\"dataframe\">\n",
       "  <thead>\n",
       "    <tr style=\"text-align: right;\">\n",
       "      <th></th>\n",
       "      <th>age</th>\n",
       "      <th>workclass</th>\n",
       "      <th>fnlwgt</th>\n",
       "      <th>education-num</th>\n",
       "      <th>marital-status</th>\n",
       "      <th>occupation</th>\n",
       "      <th>relationship</th>\n",
       "      <th>race</th>\n",
       "      <th>sex</th>\n",
       "      <th>capital-gain</th>\n",
       "      <th>capital-loss</th>\n",
       "      <th>hours-per-week</th>\n",
       "      <th>native-country</th>\n",
       "    </tr>\n",
       "  </thead>\n",
       "  <tbody>\n",
       "    <tr>\n",
       "      <th>0</th>\n",
       "      <td>39</td>\n",
       "      <td>6</td>\n",
       "      <td>77516</td>\n",
       "      <td>13</td>\n",
       "      <td>3</td>\n",
       "      <td>1</td>\n",
       "      <td>1</td>\n",
       "      <td>4</td>\n",
       "      <td>1</td>\n",
       "      <td>2174</td>\n",
       "      <td>0</td>\n",
       "      <td>40</td>\n",
       "      <td>2</td>\n",
       "    </tr>\n",
       "    <tr>\n",
       "      <th>1</th>\n",
       "      <td>50</td>\n",
       "      <td>5</td>\n",
       "      <td>83311</td>\n",
       "      <td>13</td>\n",
       "      <td>1</td>\n",
       "      <td>3</td>\n",
       "      <td>0</td>\n",
       "      <td>4</td>\n",
       "      <td>1</td>\n",
       "      <td>0</td>\n",
       "      <td>0</td>\n",
       "      <td>13</td>\n",
       "      <td>2</td>\n",
       "    </tr>\n",
       "    <tr>\n",
       "      <th>2</th>\n",
       "      <td>38</td>\n",
       "      <td>3</td>\n",
       "      <td>215646</td>\n",
       "      <td>9</td>\n",
       "      <td>0</td>\n",
       "      <td>5</td>\n",
       "      <td>1</td>\n",
       "      <td>4</td>\n",
       "      <td>1</td>\n",
       "      <td>0</td>\n",
       "      <td>0</td>\n",
       "      <td>40</td>\n",
       "      <td>2</td>\n",
       "    </tr>\n",
       "    <tr>\n",
       "      <th>3</th>\n",
       "      <td>53</td>\n",
       "      <td>3</td>\n",
       "      <td>234721</td>\n",
       "      <td>7</td>\n",
       "      <td>1</td>\n",
       "      <td>5</td>\n",
       "      <td>0</td>\n",
       "      <td>2</td>\n",
       "      <td>1</td>\n",
       "      <td>0</td>\n",
       "      <td>0</td>\n",
       "      <td>40</td>\n",
       "      <td>2</td>\n",
       "    </tr>\n",
       "    <tr>\n",
       "      <th>4</th>\n",
       "      <td>28</td>\n",
       "      <td>3</td>\n",
       "      <td>338409</td>\n",
       "      <td>13</td>\n",
       "      <td>1</td>\n",
       "      <td>8</td>\n",
       "      <td>5</td>\n",
       "      <td>2</td>\n",
       "      <td>0</td>\n",
       "      <td>0</td>\n",
       "      <td>0</td>\n",
       "      <td>40</td>\n",
       "      <td>3</td>\n",
       "    </tr>\n",
       "  </tbody>\n",
       "</table>\n",
       "</div>"
      ],
      "text/plain": [
       "    age   workclass   fnlwgt   education-num   marital-status   occupation  \\\n",
       "0    39           6    77516              13                3            1   \n",
       "1    50           5    83311              13                1            3   \n",
       "2    38           3   215646               9                0            5   \n",
       "3    53           3   234721               7                1            5   \n",
       "4    28           3   338409              13                1            8   \n",
       "\n",
       "    relationship   race   sex   capital-gain   capital-loss   hours-per-week  \\\n",
       "0              1      4     1           2174              0               40   \n",
       "1              0      4     1              0              0               13   \n",
       "2              1      4     1              0              0               40   \n",
       "3              0      2     1              0              0               40   \n",
       "4              5      2     0              0              0               40   \n",
       "\n",
       "    native-country  \n",
       "0                2  \n",
       "1                2  \n",
       "2                2  \n",
       "3                2  \n",
       "4                3  "
      ]
     },
     "execution_count": 369,
     "metadata": {},
     "output_type": "execute_result"
    }
   ],
   "source": [
    "train_data.head()"
   ]
  },
  {
   "cell_type": "code",
   "execution_count": 367,
   "metadata": {
    "collapsed": false
   },
   "outputs": [],
   "source": [
    "from sklearn.linear_model import SGDRegressor\n",
    "sgd = SGDRegressor(loss='huber', n_iter=100)\n",
    "sgd.fit(train_data, np.ravel(train_label))\n",
    "\n",
    "train = np.array(train_data)\n",
    "train = np.hstack((train, sgd.predict(train_data)[None].T))"
   ]
  },
  {
   "cell_type": "code",
   "execution_count": 368,
   "metadata": {
    "collapsed": false
   },
   "outputs": [
    {
     "data": {
      "text/plain": [
       "array([[  3.90000000e+01,   6.00000000e+00,   7.75160000e+04, ...,\n",
       "          4.00000000e+01,   2.00000000e+00,  -2.13953427e+05],\n",
       "       [  5.00000000e+01,   5.00000000e+00,   8.33110000e+04, ...,\n",
       "          1.30000000e+01,   2.00000000e+00,  -2.31416483e+05],\n",
       "       [  3.80000000e+01,   3.00000000e+00,   2.15646000e+05, ...,\n",
       "          4.00000000e+01,   2.00000000e+00,  -5.99106922e+05],\n",
       "       ..., \n",
       "       [  4.20000000e+01,   3.00000000e+00,   6.84690000e+04, ...,\n",
       "          4.00000000e+01,   2.00000000e+00,  -1.90141182e+05],\n",
       "       [  6.30000000e+01,   5.00000000e+00,   2.76530000e+04, ...,\n",
       "          3.50000000e+01,   2.00000000e+00,  -7.67102276e+04],\n",
       "       [  2.10000000e+01,   3.00000000e+00,   4.10439000e+05, ...,\n",
       "          2.40000000e+01,   2.00000000e+00,  -1.14042359e+06]])"
      ]
     },
     "execution_count": 368,
     "metadata": {},
     "output_type": "execute_result"
    }
   ],
   "source": [
    "train"
   ]
  },
  {
   "cell_type": "code",
   "execution_count": 370,
   "metadata": {
    "collapsed": false
   },
   "outputs": [],
   "source": [
    "from sklearn.cluster import KMeans\n",
    "k7 = KMeans(n_clusters=7, precompute_distances = True, n_jobs=-1)\n",
    "k7.fit(train)\n",
    "k3 = KMeans(n_clusters=3, precompute_distances = True, n_jobs=-1)\n",
    "k3.fit(train)\n",
    "\n",
    "train = np.hstack((train, k7.predict(train)[None].T, k3.predict(train)[None].T))"
   ]
  },
  {
   "cell_type": "code",
   "execution_count": 371,
   "metadata": {
    "collapsed": false
   },
   "outputs": [
    {
     "data": {
      "text/plain": [
       "array([[  3.90000000e+01,   6.00000000e+00,   7.75160000e+04, ...,\n",
       "         -2.13953427e+05,   0.00000000e+00,   0.00000000e+00],\n",
       "       [  5.00000000e+01,   5.00000000e+00,   8.33110000e+04, ...,\n",
       "         -2.31416483e+05,   0.00000000e+00,   0.00000000e+00],\n",
       "       [  3.80000000e+01,   3.00000000e+00,   2.15646000e+05, ...,\n",
       "         -5.99106922e+05,   2.00000000e+00,   2.00000000e+00],\n",
       "       ..., \n",
       "       [  4.20000000e+01,   3.00000000e+00,   6.84690000e+04, ...,\n",
       "         -1.90141182e+05,   0.00000000e+00,   0.00000000e+00],\n",
       "       [  6.30000000e+01,   5.00000000e+00,   2.76530000e+04, ...,\n",
       "         -7.67102276e+04,   0.00000000e+00,   0.00000000e+00],\n",
       "       [  2.10000000e+01,   3.00000000e+00,   4.10439000e+05, ...,\n",
       "         -1.14042359e+06,   5.00000000e+00,   1.00000000e+00]])"
      ]
     },
     "execution_count": 371,
     "metadata": {},
     "output_type": "execute_result"
    }
   ],
   "source": [
    "train"
   ]
  },
  {
   "cell_type": "code",
   "execution_count": 324,
   "metadata": {
    "collapsed": true
   },
   "outputs": [],
   "source": [
    "test_data = pd.read_csv('test.txt')\n",
    "test_data = test_data.drop('id', axis=1)"
   ]
  },
  {
   "cell_type": "code",
   "execution_count": 325,
   "metadata": {
    "collapsed": false,
    "scrolled": true
   },
   "outputs": [
    {
     "name": "stdout",
     "output_type": "stream",
     "text": [
      " workclass {' Private': 7016, ' Self-emp-inc': 349, ' State-gov': 415, ' Local-gov': 625, ' Without-pay': 6, ' Self-emp-not-inc': 743, ' Federal-gov': 276, ' Never-worked': 3, ' ?': 567}\n",
      " workclass {' Private': 7016, 'Rare': 9, ' Self-emp-inc': 349, ' State-gov': 415, ' Local-gov': 625, ' Self-emp-not-inc': 743, ' Federal-gov': 276, ' ?': 567}\n",
      "\n",
      " education {' 7th-8th': 204, ' Prof-school': 196, ' 1st-4th': 57, ' 9th': 163, ' Assoc-voc': 431, ' Masters': 538, ' Assoc-acdm': 353, ' 12th': 155, ' Doctorate': 131, ' Bachelors': 1617, ' 5th-6th': 109, ' Some-college': 2241, ' 10th': 281, ' 11th': 357, ' HS-grad': 3148, ' Preschool': 19}\n",
      " education {' 7th-8th': 204, ' Prof-school': 196, 'Rare': 76, ' 9th': 163, ' Assoc-voc': 431, ' Masters': 538, ' Assoc-acdm': 353, ' 12th': 155, ' Doctorate': 131, ' Bachelors': 1617, ' 5th-6th': 109, ' Some-college': 2241, ' 10th': 281, ' 11th': 357, ' HS-grad': 3148}\n",
      "\n",
      " marital-status {' Separated': 322, ' Divorced': 1339, ' Married-spouse-absent': 115, ' Widowed': 302, ' Married-AF-spouse': 8, ' Never-married': 3270, ' Married-civ-spouse': 4644}\n",
      " marital-status {' Separated': 322, 'Rare': 8, ' Divorced': 1339, ' Married-spouse-absent': 115, ' Widowed': 302, ' Never-married': 3270, ' Married-civ-spouse': 4644}\n",
      "\n",
      " occupation {' Priv-house-serv': 35, ' Craft-repair': 1270, ' Other-service': 998, ' Transport-moving': 494, ' Prof-specialty': 1263, ' Sales': 1112, ' Farming-fishing': 311, ' Exec-managerial': 1317, ' Handlers-cleaners': 461, ' Protective-serv': 198, ' Adm-clerical': 1086, ' Tech-support': 291, ' ?': 570, ' Machine-op-inspct': 592, ' Armed-Forces': 2}\n",
      " occupation {'Rare': 37, ' Craft-repair': 1270, ' Other-service': 998, ' Transport-moving': 494, ' Prof-specialty': 1263, ' Sales': 1112, ' Farming-fishing': 311, ' Exec-managerial': 1317, ' Handlers-cleaners': 461, ' Protective-serv': 198, ' Adm-clerical': 1086, ' Tech-support': 291, ' ?': 570, ' Machine-op-inspct': 592}\n",
      "\n",
      " relationship {' Wife': 457, ' Own-child': 1568, ' Unmarried': 1079, ' Husband': 4120, ' Other-relative': 310, ' Not-in-family': 2466}\n",
      " relationship {' Wife': 457, ' Own-child': 1568, ' Unmarried': 1079, ' Husband': 4120, ' Other-relative': 310, ' Not-in-family': 2466}\n",
      "\n",
      " race {' Other': 78, ' White': 8519, ' Black': 978, ' Amer-Indian-Eskimo': 91, ' Asian-Pac-Islander': 334}\n",
      " race {' Other': 78, ' White': 8519, ' Black': 978, ' Amer-Indian-Eskimo': 91, ' Asian-Pac-Islander': 334}\n",
      "\n",
      " sex {' Male': 6694, ' Female': 3306}\n",
      " sex {' Male': 6694, ' Female': 3306}\n",
      "\n",
      " native-country {' Greece': 8, ' Cuba': 27, ' Puerto-Rico': 26, ' Columbia': 20, ' Outlying-US(Guam-USVI-etc)': 6, ' El-Salvador': 41, ' Guatemala': 16, ' United-States': 8953, ' China': 22, ' Thailand': 4, ' Haiti': 9, ' Germany': 44, ' Iran': 9, ' Dominican-Republic': 21, ' Poland': 13, ' Philippines': 62, ' Trinadad&Tobago': 10, ' Vietnam': 20, ' South': 21, ' Honduras': 5, ' Mexico': 206, ' Portugal': 10, ' England': 21, ' Jamaica': 27, ' India': 41, ' Yugoslavia': 6, ' Hungary': 5, ' Japan': 17, ' Taiwan': 14, ' ?': 182, ' Nicaragua': 12, ' Canada': 30, ' Hong': 10, ' Italy': 26, ' Scotland': 3, ' France': 11, ' Cambodia': 4, ' Ecuador': 9, ' Laos': 11, ' Peru': 13, ' Ireland': 5}\n",
      " native-country {' Mexico': 206, 'Rare': 659, ' ?': 182, ' United-States': 8953}\n",
      "\n"
     ]
    }
   ],
   "source": [
    "test_data = process_rare(test_data)"
   ]
  },
  {
   "cell_type": "code",
   "execution_count": 326,
   "metadata": {
    "collapsed": false
   },
   "outputs": [],
   "source": [
    "test_data[num_to_names[4]].replace(to_replace=2, value=1, inplace=True)"
   ]
  },
  {
   "cell_type": "code",
   "execution_count": 327,
   "metadata": {
    "collapsed": false
   },
   "outputs": [
    {
     "data": {
      "text/html": [
       "<div>\n",
       "<table border=\"1\" class=\"dataframe\">\n",
       "  <thead>\n",
       "    <tr style=\"text-align: right;\">\n",
       "      <th></th>\n",
       "      <th>age</th>\n",
       "      <th>workclass</th>\n",
       "      <th>fnlwgt</th>\n",
       "      <th>education</th>\n",
       "      <th>education-num</th>\n",
       "      <th>marital-status</th>\n",
       "      <th>occupation</th>\n",
       "      <th>relationship</th>\n",
       "      <th>race</th>\n",
       "      <th>sex</th>\n",
       "      <th>capital-gain</th>\n",
       "      <th>capital-loss</th>\n",
       "      <th>hours-per-week</th>\n",
       "      <th>native-country</th>\n",
       "    </tr>\n",
       "  </thead>\n",
       "  <tbody>\n",
       "    <tr>\n",
       "      <th>0</th>\n",
       "      <td>28</td>\n",
       "      <td>Private</td>\n",
       "      <td>37821</td>\n",
       "      <td>Assoc-voc</td>\n",
       "      <td>11</td>\n",
       "      <td>Never-married</td>\n",
       "      <td>Sales</td>\n",
       "      <td>Unmarried</td>\n",
       "      <td>White</td>\n",
       "      <td>Female</td>\n",
       "      <td>0</td>\n",
       "      <td>0</td>\n",
       "      <td>55</td>\n",
       "      <td>?</td>\n",
       "    </tr>\n",
       "    <tr>\n",
       "      <th>1</th>\n",
       "      <td>45</td>\n",
       "      <td>Private</td>\n",
       "      <td>228570</td>\n",
       "      <td>HS-grad</td>\n",
       "      <td>9</td>\n",
       "      <td>Married-civ-spouse</td>\n",
       "      <td>Sales</td>\n",
       "      <td>Wife</td>\n",
       "      <td>White</td>\n",
       "      <td>Female</td>\n",
       "      <td>0</td>\n",
       "      <td>0</td>\n",
       "      <td>35</td>\n",
       "      <td>United-States</td>\n",
       "    </tr>\n",
       "    <tr>\n",
       "      <th>2</th>\n",
       "      <td>21</td>\n",
       "      <td>Private</td>\n",
       "      <td>141453</td>\n",
       "      <td>HS-grad</td>\n",
       "      <td>9</td>\n",
       "      <td>Never-married</td>\n",
       "      <td>Other-service</td>\n",
       "      <td>Own-child</td>\n",
       "      <td>White</td>\n",
       "      <td>Female</td>\n",
       "      <td>0</td>\n",
       "      <td>0</td>\n",
       "      <td>40</td>\n",
       "      <td>United-States</td>\n",
       "    </tr>\n",
       "    <tr>\n",
       "      <th>3</th>\n",
       "      <td>34</td>\n",
       "      <td>Private</td>\n",
       "      <td>88215</td>\n",
       "      <td>Masters</td>\n",
       "      <td>14</td>\n",
       "      <td>Married-civ-spouse</td>\n",
       "      <td>Prof-specialty</td>\n",
       "      <td>Wife</td>\n",
       "      <td>Asian-Pac-Islander</td>\n",
       "      <td>Female</td>\n",
       "      <td>0</td>\n",
       "      <td>0</td>\n",
       "      <td>40</td>\n",
       "      <td>Rare</td>\n",
       "    </tr>\n",
       "    <tr>\n",
       "      <th>4</th>\n",
       "      <td>53</td>\n",
       "      <td>Private</td>\n",
       "      <td>48641</td>\n",
       "      <td>12th</td>\n",
       "      <td>8</td>\n",
       "      <td>Never-married</td>\n",
       "      <td>Other-service</td>\n",
       "      <td>Not-in-family</td>\n",
       "      <td>Other</td>\n",
       "      <td>Female</td>\n",
       "      <td>0</td>\n",
       "      <td>0</td>\n",
       "      <td>35</td>\n",
       "      <td>United-States</td>\n",
       "    </tr>\n",
       "  </tbody>\n",
       "</table>\n",
       "</div>"
      ],
      "text/plain": [
       "    age  workclass   fnlwgt   education   education-num       marital-status  \\\n",
       "0    28    Private    37821   Assoc-voc              11        Never-married   \n",
       "1    45    Private   228570     HS-grad               9   Married-civ-spouse   \n",
       "2    21    Private   141453     HS-grad               9        Never-married   \n",
       "3    34    Private    88215     Masters              14   Married-civ-spouse   \n",
       "4    53    Private    48641        12th               8        Never-married   \n",
       "\n",
       "        occupation    relationship                 race      sex  \\\n",
       "0            Sales       Unmarried                White   Female   \n",
       "1            Sales            Wife                White   Female   \n",
       "2    Other-service       Own-child                White   Female   \n",
       "3   Prof-specialty            Wife   Asian-Pac-Islander   Female   \n",
       "4    Other-service   Not-in-family                Other   Female   \n",
       "\n",
       "    capital-gain   capital-loss   hours-per-week  native-country  \n",
       "0              0              0               55               ?  \n",
       "1              0              0               35   United-States  \n",
       "2              0              0               40   United-States  \n",
       "3              0              0               40            Rare  \n",
       "4              0              0               35   United-States  "
      ]
     },
     "execution_count": 327,
     "metadata": {},
     "output_type": "execute_result"
    }
   ],
   "source": [
    "test_data_norm = test_data.drop(' education', axis=1)\n",
    "#test_data_norm\n",
    "test_data.head()"
   ]
  },
  {
   "cell_type": "code",
   "execution_count": 207,
   "metadata": {
    "collapsed": true
   },
   "outputs": [],
   "source": [
    "test_data[' capital-gain'].replace(to_replace=99999, value=money.values()[0], inplace=True)"
   ]
  },
  {
   "cell_type": "code",
   "execution_count": 208,
   "metadata": {
    "collapsed": true
   },
   "outputs": [],
   "source": [
    "test_data[' capital-gain'].replace(to_replace=0, value=1, inplace=True)\n",
    "test_data[' capital-loss'].replace(to_replace=0, value=1, inplace=True)\n",
    "test_data[' hours-per-week'].replace(to_replace=0, value=1, inplace=True)\n",
    "test_data[' fnlwgt'].replace(to_replace=0, value=1, inplace=True)"
   ]
  },
  {
   "cell_type": "code",
   "execution_count": 209,
   "metadata": {
    "collapsed": true
   },
   "outputs": [],
   "source": [
    "test_data[' hours-per-week'] = np.log(test_data[' hours-per-week'])\n",
    "test_data[' capital-gain'] = np.log(test_data[' capital-gain'])\n",
    "test_data[' capital-loss'] = np.log(test_data[' capital-loss'])\n",
    "test_data[' fnlwgt'] = np.log(test_data[' fnlwgt'])"
   ]
  },
  {
   "cell_type": "code",
   "execution_count": 245,
   "metadata": {
    "collapsed": true
   },
   "outputs": [],
   "source": [
    "test_data_norm = normalize(test_data, [' hours-per-week', ' capital-gain', ' capital-loss', ' fnlwgt'])"
   ]
  },
  {
   "cell_type": "code",
   "execution_count": 328,
   "metadata": {
    "collapsed": true
   },
   "outputs": [],
   "source": [
    "test_data = replace_quest(test_data_norm, [' workclass', ' marital-status', ' occupation', ' relationship', \n",
    "                                                 ' race', ' sex', ' native-country'])"
   ]
  },
  {
   "cell_type": "code",
   "execution_count": 329,
   "metadata": {
    "collapsed": false
   },
   "outputs": [
    {
     "ename": "ValueError",
     "evalue": "labels [' education'] not contained in axis",
     "output_type": "error",
     "traceback": [
      "\u001b[1;31m---------------------------------------------------------------------------\u001b[0m",
      "\u001b[1;31mValueError\u001b[0m                                Traceback (most recent call last)",
      "\u001b[1;32m<ipython-input-329-a50c610a1844>\u001b[0m in \u001b[0;36m<module>\u001b[1;34m()\u001b[0m\n\u001b[1;32m----> 1\u001b[1;33m \u001b[0mtest_data\u001b[0m \u001b[1;33m=\u001b[0m \u001b[0mtest_data\u001b[0m\u001b[1;33m.\u001b[0m\u001b[0mdrop\u001b[0m\u001b[1;33m(\u001b[0m\u001b[1;34m' education'\u001b[0m\u001b[1;33m,\u001b[0m \u001b[0maxis\u001b[0m\u001b[1;33m=\u001b[0m\u001b[1;36m1\u001b[0m\u001b[1;33m)\u001b[0m\u001b[1;33m\u001b[0m\u001b[0m\n\u001b[0m",
      "\u001b[1;32m/home/tatiana/anaconda2/lib/python2.7/site-packages/pandas/core/generic.pyc\u001b[0m in \u001b[0;36mdrop\u001b[1;34m(self, labels, axis, level, inplace, errors)\u001b[0m\n\u001b[0;32m   1615\u001b[0m                 \u001b[0mnew_axis\u001b[0m \u001b[1;33m=\u001b[0m \u001b[0maxis\u001b[0m\u001b[1;33m.\u001b[0m\u001b[0mdrop\u001b[0m\u001b[1;33m(\u001b[0m\u001b[0mlabels\u001b[0m\u001b[1;33m,\u001b[0m \u001b[0mlevel\u001b[0m\u001b[1;33m=\u001b[0m\u001b[0mlevel\u001b[0m\u001b[1;33m,\u001b[0m \u001b[0merrors\u001b[0m\u001b[1;33m=\u001b[0m\u001b[0merrors\u001b[0m\u001b[1;33m)\u001b[0m\u001b[1;33m\u001b[0m\u001b[0m\n\u001b[0;32m   1616\u001b[0m             \u001b[1;32melse\u001b[0m\u001b[1;33m:\u001b[0m\u001b[1;33m\u001b[0m\u001b[0m\n\u001b[1;32m-> 1617\u001b[1;33m                 \u001b[0mnew_axis\u001b[0m \u001b[1;33m=\u001b[0m \u001b[0maxis\u001b[0m\u001b[1;33m.\u001b[0m\u001b[0mdrop\u001b[0m\u001b[1;33m(\u001b[0m\u001b[0mlabels\u001b[0m\u001b[1;33m,\u001b[0m \u001b[0merrors\u001b[0m\u001b[1;33m=\u001b[0m\u001b[0merrors\u001b[0m\u001b[1;33m)\u001b[0m\u001b[1;33m\u001b[0m\u001b[0m\n\u001b[0m\u001b[0;32m   1618\u001b[0m             \u001b[0mdropped\u001b[0m \u001b[1;33m=\u001b[0m \u001b[0mself\u001b[0m\u001b[1;33m.\u001b[0m\u001b[0mreindex\u001b[0m\u001b[1;33m(\u001b[0m\u001b[1;33m**\u001b[0m\u001b[1;33m{\u001b[0m\u001b[0maxis_name\u001b[0m\u001b[1;33m:\u001b[0m \u001b[0mnew_axis\u001b[0m\u001b[1;33m}\u001b[0m\u001b[1;33m)\u001b[0m\u001b[1;33m\u001b[0m\u001b[0m\n\u001b[0;32m   1619\u001b[0m             \u001b[1;32mtry\u001b[0m\u001b[1;33m:\u001b[0m\u001b[1;33m\u001b[0m\u001b[0m\n",
      "\u001b[1;32m/home/tatiana/anaconda2/lib/python2.7/site-packages/pandas/core/index.pyc\u001b[0m in \u001b[0;36mdrop\u001b[1;34m(self, labels, errors)\u001b[0m\n\u001b[0;32m   2801\u001b[0m         \u001b[1;32mif\u001b[0m \u001b[0mmask\u001b[0m\u001b[1;33m.\u001b[0m\u001b[0many\u001b[0m\u001b[1;33m(\u001b[0m\u001b[1;33m)\u001b[0m\u001b[1;33m:\u001b[0m\u001b[1;33m\u001b[0m\u001b[0m\n\u001b[0;32m   2802\u001b[0m             \u001b[1;32mif\u001b[0m \u001b[0merrors\u001b[0m \u001b[1;33m!=\u001b[0m \u001b[1;34m'ignore'\u001b[0m\u001b[1;33m:\u001b[0m\u001b[1;33m\u001b[0m\u001b[0m\n\u001b[1;32m-> 2803\u001b[1;33m                 \u001b[1;32mraise\u001b[0m \u001b[0mValueError\u001b[0m\u001b[1;33m(\u001b[0m\u001b[1;34m'labels %s not contained in axis'\u001b[0m \u001b[1;33m%\u001b[0m \u001b[0mlabels\u001b[0m\u001b[1;33m[\u001b[0m\u001b[0mmask\u001b[0m\u001b[1;33m]\u001b[0m\u001b[1;33m)\u001b[0m\u001b[1;33m\u001b[0m\u001b[0m\n\u001b[0m\u001b[0;32m   2804\u001b[0m             \u001b[0mindexer\u001b[0m \u001b[1;33m=\u001b[0m \u001b[0mindexer\u001b[0m\u001b[1;33m[\u001b[0m\u001b[1;33m~\u001b[0m\u001b[0mmask\u001b[0m\u001b[1;33m]\u001b[0m\u001b[1;33m\u001b[0m\u001b[0m\n\u001b[0;32m   2805\u001b[0m         \u001b[1;32mreturn\u001b[0m \u001b[0mself\u001b[0m\u001b[1;33m.\u001b[0m\u001b[0mdelete\u001b[0m\u001b[1;33m(\u001b[0m\u001b[0mindexer\u001b[0m\u001b[1;33m)\u001b[0m\u001b[1;33m\u001b[0m\u001b[0m\n",
      "\u001b[1;31mValueError\u001b[0m: labels [' education'] not contained in axis"
     ]
    }
   ],
   "source": [
    "test_data = test_data.drop(' education', axis=1)"
   ]
  },
  {
   "cell_type": "code",
   "execution_count": 212,
   "metadata": {
    "collapsed": true
   },
   "outputs": [],
   "source": [
    "test_data_norm = pd.get_dummies(test_data_norm, columns=[' workclass', ' marital-status', ' occupation', ' relationship', \n",
    "                                                 ' race', ' sex', ' native-country'])"
   ]
  },
  {
   "cell_type": "code",
   "execution_count": 330,
   "metadata": {
    "collapsed": true
   },
   "outputs": [],
   "source": [
    "encoded_data, encoders = number_encode_features(test_data)\n",
    "test_data_norm = encoded_data"
   ]
  },
  {
   "cell_type": "code",
   "execution_count": 331,
   "metadata": {
    "collapsed": false
   },
   "outputs": [
    {
     "data": {
      "text/html": [
       "<div>\n",
       "<table border=\"1\" class=\"dataframe\">\n",
       "  <thead>\n",
       "    <tr style=\"text-align: right;\">\n",
       "      <th></th>\n",
       "      <th>age</th>\n",
       "      <th>workclass</th>\n",
       "      <th>fnlwgt</th>\n",
       "      <th>education-num</th>\n",
       "      <th>marital-status</th>\n",
       "      <th>occupation</th>\n",
       "      <th>relationship</th>\n",
       "      <th>race</th>\n",
       "      <th>sex</th>\n",
       "      <th>capital-gain</th>\n",
       "      <th>capital-loss</th>\n",
       "      <th>hours-per-week</th>\n",
       "      <th>native-country</th>\n",
       "    </tr>\n",
       "  </thead>\n",
       "  <tbody>\n",
       "    <tr>\n",
       "      <th>0</th>\n",
       "      <td>28</td>\n",
       "      <td>3</td>\n",
       "      <td>37821</td>\n",
       "      <td>11</td>\n",
       "      <td>3</td>\n",
       "      <td>10</td>\n",
       "      <td>4</td>\n",
       "      <td>4</td>\n",
       "      <td>0</td>\n",
       "      <td>0</td>\n",
       "      <td>0</td>\n",
       "      <td>55</td>\n",
       "      <td>0</td>\n",
       "    </tr>\n",
       "    <tr>\n",
       "      <th>1</th>\n",
       "      <td>45</td>\n",
       "      <td>3</td>\n",
       "      <td>228570</td>\n",
       "      <td>9</td>\n",
       "      <td>1</td>\n",
       "      <td>10</td>\n",
       "      <td>5</td>\n",
       "      <td>4</td>\n",
       "      <td>0</td>\n",
       "      <td>0</td>\n",
       "      <td>0</td>\n",
       "      <td>35</td>\n",
       "      <td>2</td>\n",
       "    </tr>\n",
       "    <tr>\n",
       "      <th>2</th>\n",
       "      <td>21</td>\n",
       "      <td>3</td>\n",
       "      <td>141453</td>\n",
       "      <td>9</td>\n",
       "      <td>3</td>\n",
       "      <td>7</td>\n",
       "      <td>3</td>\n",
       "      <td>4</td>\n",
       "      <td>0</td>\n",
       "      <td>0</td>\n",
       "      <td>0</td>\n",
       "      <td>40</td>\n",
       "      <td>2</td>\n",
       "    </tr>\n",
       "    <tr>\n",
       "      <th>3</th>\n",
       "      <td>34</td>\n",
       "      <td>3</td>\n",
       "      <td>88215</td>\n",
       "      <td>14</td>\n",
       "      <td>1</td>\n",
       "      <td>8</td>\n",
       "      <td>5</td>\n",
       "      <td>1</td>\n",
       "      <td>0</td>\n",
       "      <td>0</td>\n",
       "      <td>0</td>\n",
       "      <td>40</td>\n",
       "      <td>3</td>\n",
       "    </tr>\n",
       "    <tr>\n",
       "      <th>4</th>\n",
       "      <td>53</td>\n",
       "      <td>3</td>\n",
       "      <td>48641</td>\n",
       "      <td>8</td>\n",
       "      <td>3</td>\n",
       "      <td>7</td>\n",
       "      <td>1</td>\n",
       "      <td>3</td>\n",
       "      <td>0</td>\n",
       "      <td>0</td>\n",
       "      <td>0</td>\n",
       "      <td>35</td>\n",
       "      <td>2</td>\n",
       "    </tr>\n",
       "  </tbody>\n",
       "</table>\n",
       "</div>"
      ],
      "text/plain": [
       "    age   workclass   fnlwgt   education-num   marital-status   occupation  \\\n",
       "0    28           3    37821              11                3           10   \n",
       "1    45           3   228570               9                1           10   \n",
       "2    21           3   141453               9                3            7   \n",
       "3    34           3    88215              14                1            8   \n",
       "4    53           3    48641               8                3            7   \n",
       "\n",
       "    relationship   race   sex   capital-gain   capital-loss   hours-per-week  \\\n",
       "0              4      4     0              0              0               55   \n",
       "1              5      4     0              0              0               35   \n",
       "2              3      4     0              0              0               40   \n",
       "3              5      1     0              0              0               40   \n",
       "4              1      3     0              0              0               35   \n",
       "\n",
       "    native-country  \n",
       "0                0  \n",
       "1                2  \n",
       "2                2  \n",
       "3                3  \n",
       "4                2  "
      ]
     },
     "execution_count": 331,
     "metadata": {},
     "output_type": "execute_result"
    }
   ],
   "source": [
    "test_data_norm.head()"
   ]
  },
  {
   "cell_type": "code",
   "execution_count": 352,
   "metadata": {
    "collapsed": true
   },
   "outputs": [],
   "source": [
    "test  = np.hstack((test_data_norm, sgd.predict(test_data_norm)[None].T))"
   ]
  },
  {
   "cell_type": "code",
   "execution_count": 353,
   "metadata": {
    "collapsed": true
   },
   "outputs": [],
   "source": [
    "test  = np.hstack((test,  k7.predict(test)[None].T,  k3.predict(test)[None].T))"
   ]
  },
  {
   "cell_type": "code",
   "execution_count": 268,
   "metadata": {
    "collapsed": false
   },
   "outputs": [],
   "source": [
    "X_train, X_test, y_train, y_test = train_test_split(train_data_norm, train_label[1:], test_size=0.2, random_state=1234)"
   ]
  },
  {
   "cell_type": "code",
   "execution_count": 254,
   "metadata": {
    "collapsed": true
   },
   "outputs": [],
   "source": [
    "def prediction(x, prob):\n",
    "    return 0 if x <= prob else 1\n",
    "prediction = np.vectorize(prediction)"
   ]
  },
  {
   "cell_type": "code",
   "execution_count": 255,
   "metadata": {
    "collapsed": false
   },
   "outputs": [],
   "source": [
    "def score(params):\n",
    "    print \"Training with params : \"\n",
    "    print params\n",
    "    num_round = int(params['n_estimators'])\n",
    "    del params['n_estimators']\n",
    "    dtrain = xgb.DMatrix(X_train, label=y_train)\n",
    "    dvalid = xgb.DMatrix(X_test, label=y_test)\n",
    "    # watchlist = [(dvalid, 'eval'), (dtrain, 'train')]\n",
    "    model = xgb.train(params, dtrain, num_round)\n",
    "    predictions = model.predict(dvalid)\n",
    "    y = prediction(predictions, 0.4)\n",
    "    score = f1_score(y_test, y)\n",
    "    print \"\\tScore {0}\\n\\n\".format(score)\n",
    "    return {'loss': score, 'status': STATUS_OK}"
   ]
  },
  {
   "cell_type": "code",
   "execution_count": 258,
   "metadata": {
    "collapsed": false
   },
   "outputs": [],
   "source": [
    "def optimize(trials):\n",
    "    space = {\n",
    "             'n_estimators' : hp.quniform('n_estimators', 500, 1500, 100),\n",
    "             'eta' : hp.quniform('eta', 0.005, 0., 0.005),\n",
    "             'max_depth' : hp.quniform('max_depth', 1, 13, 1),\n",
    "             'min_child_weight' : hp.quniform('min_child_weight', 1, 6, 1),\n",
    "             'subsample' : hp.quniform('subsample', 0.5, 1, 0.05),\n",
    "             'gamma' : hp.quniform('gamma', 0.1, 1, 0.05),\n",
    "             'lambda' : hp.quniform('lambda', 0.1, 1, 0.05),\n",
    "             'alpha' : hp.quniform('alpha', 0.1, 1, 0.05),\n",
    "             'colsample_bytree' : hp.quniform('colsample_bytree', 0.5, 1, 0.05),\n",
    "             'eval_metric': 'ndcg',\n",
    "             'objective': 'binary:logistic',\n",
    "             'nthread' : 6,\n",
    "             'silent' : 1\n",
    "             }\n",
    "\n",
    "    best = fmin(score, space, algo=tpe.suggest, trials=trials, max_evals=400)\n",
    "\n",
    "    print best"
   ]
  },
  {
   "cell_type": "code",
   "execution_count": 259,
   "metadata": {
    "collapsed": false,
    "scrolled": true
   },
   "outputs": [
    {
     "name": "stdout",
     "output_type": "stream",
     "text": [
      "Training with params : \n",
      "{'colsample_bytree': 0.8500000000000001, 'silent': 1, 'eval_metric': 'ndcg', 'nthread': 6, 'min_child_weight': 2.0, 'n_estimators': 500.0, 'subsample': 0.8500000000000001, 'eta': 0.195, 'objective': 'binary:logistic', 'alpha': 0.55, 'max_depth': 8.0, 'gamma': 0.5, 'lambda': 0.75}\n",
      "\tScore 0.67192575406\n",
      "\n",
      "\n",
      "Training with params : \n",
      "{'colsample_bytree': 0.7000000000000001, 'silent': 1, 'eval_metric': 'ndcg', 'nthread': 6, 'min_child_weight': 4.0, 'n_estimators': 900.0, 'subsample': 0.55, 'eta': 0.135, 'objective': 'binary:logistic', 'alpha': 0.35000000000000003, 'max_depth': 6.0, 'gamma': 0.35000000000000003, 'lambda': 0.45}\n",
      "\tScore 0.670914883933\n",
      "\n",
      "\n",
      "Training with params : \n",
      "{'colsample_bytree': 0.7000000000000001, 'silent': 1, 'eval_metric': 'ndcg', 'nthread': 6, 'min_child_weight': 4.0, 'n_estimators': 300.0, 'subsample': 0.75, 'eta': 0.105, 'objective': 'binary:logistic', 'alpha': 0.6000000000000001, 'max_depth': 3.0, 'gamma': 0.8, 'lambda': 0.2}\n",
      "\tScore 0.700689655172\n",
      "\n",
      "\n",
      "Training with params : \n",
      "{'colsample_bytree': 0.5, 'silent': 1, 'eval_metric': 'ndcg', 'nthread': 6, 'min_child_weight': 1.0, 'n_estimators': 300.0, 'subsample': 0.55, 'eta': 0.12, 'objective': 'binary:logistic', 'alpha': 0.5, 'max_depth': 2.0, 'gamma': 0.45, 'lambda': 0.75}\n",
      "\tScore 0.691026827012\n",
      "\n",
      "\n",
      "Training with params : \n",
      "{'colsample_bytree': 0.8500000000000001, 'silent': 1, 'eval_metric': 'ndcg', 'nthread': 6, 'min_child_weight': 2.0, 'n_estimators': 200.0, 'subsample': 0.75, 'eta': 0.09, 'objective': 'binary:logistic', 'alpha': 0.7000000000000001, 'max_depth': 10.0, 'gamma': 0.2, 'lambda': 0.6000000000000001}\n",
      "\tScore 0.680967594706\n",
      "\n",
      "\n",
      "Training with params : \n",
      "{'colsample_bytree': 0.8, 'silent': 1, 'eval_metric': 'ndcg', 'nthread': 6, 'min_child_weight': 2.0, 'n_estimators': 400.0, 'subsample': 0.9500000000000001, 'eta': 0.16, 'objective': 'binary:logistic', 'alpha': 0.4, 'max_depth': 1.0, 'gamma': 0.7000000000000001, 'lambda': 0.30000000000000004}\n",
      "\tScore 0.670112781955\n",
      "\n",
      "\n",
      "Training with params : \n",
      "{'colsample_bytree': 0.55, 'silent': 1, 'eval_metric': 'ndcg', 'nthread': 6, 'min_child_weight': 4.0, 'n_estimators': 400.0, 'subsample': 0.8, 'eta': 0.18, 'objective': 'binary:logistic', 'alpha': 0.2, 'max_depth': 2.0, 'gamma': 0.55, 'lambda': 1.0}\n",
      "\tScore 0.697482837529\n",
      "\n",
      "\n",
      "Training with params : \n",
      "{'colsample_bytree': 0.55, 'silent': 1, 'eval_metric': 'ndcg', 'nthread': 6, 'min_child_weight': 4.0, 'n_estimators': 500.0, 'subsample': 0.55, 'eta': 0.08, 'objective': 'binary:logistic', 'alpha': 1.0, 'max_depth': 3.0, 'gamma': 0.9500000000000001, 'lambda': 0.55}\n",
      "\tScore 0.70245677889\n",
      "\n",
      "\n",
      "Training with params : \n",
      "{'colsample_bytree': 0.65, 'silent': 1, 'eval_metric': 'ndcg', 'nthread': 6, 'min_child_weight': 3.0, 'n_estimators': 1100.0, 'subsample': 0.8500000000000001, 'eta': 0.05, 'objective': 'binary:logistic', 'alpha': 0.5, 'max_depth': 9.0, 'gamma': 0.2, 'lambda': 0.7000000000000001}\n",
      "\tScore 0.671579917089\n",
      "\n",
      "\n",
      "Training with params : \n",
      "{'colsample_bytree': 0.7000000000000001, 'silent': 1, 'eval_metric': 'ndcg', 'nthread': 6, 'min_child_weight': 5.0, 'n_estimators': 500.0, 'subsample': 0.9, 'eta': 0.195, 'objective': 'binary:logistic', 'alpha': 0.8500000000000001, 'max_depth': 10.0, 'gamma': 0.4, 'lambda': 0.8}\n",
      "\tScore 0.66605756053\n",
      "\n",
      "\n",
      "Training with params : \n",
      "{'colsample_bytree': 0.65, 'silent': 1, 'eval_metric': 'ndcg', 'nthread': 6, 'min_child_weight': 2.0, 'n_estimators': 300.0, 'subsample': 0.7000000000000001, 'eta': 0.045, 'objective': 'binary:logistic', 'alpha': 0.6000000000000001, 'max_depth': 3.0, 'gamma': 0.75, 'lambda': 0.5}\n",
      "\tScore 0.694123091161\n",
      "\n",
      "\n",
      "Training with params : \n",
      "{'colsample_bytree': 0.8500000000000001, 'silent': 1, 'eval_metric': 'ndcg', 'nthread': 6, 'min_child_weight': 4.0, 'n_estimators': 600.0, 'subsample': 0.9, 'eta': 0.145, 'objective': 'binary:logistic', 'alpha': 0.2, 'max_depth': 12.0, 'gamma': 0.9, 'lambda': 0.7000000000000001}\n",
      "\tScore 0.669410150892\n",
      "\n",
      "\n",
      "Training with params : \n",
      "{'colsample_bytree': 1.0, 'silent': 1, 'eval_metric': 'ndcg', 'nthread': 6, 'min_child_weight': 2.0, 'n_estimators': 500.0, 'subsample': 0.8500000000000001, 'eta': 0.105, 'objective': 'binary:logistic', 'alpha': 0.15000000000000002, 'max_depth': 11.0, 'gamma': 0.25, 'lambda': 0.8}\n",
      "\tScore 0.671607225567\n",
      "\n",
      "\n",
      "Training with params : \n",
      "{'colsample_bytree': 0.75, 'silent': 1, 'eval_metric': 'ndcg', 'nthread': 6, 'min_child_weight': 2.0, 'n_estimators': 300.0, 'subsample': 0.6000000000000001, 'eta': 0.075, 'objective': 'binary:logistic', 'alpha': 0.75, 'max_depth': 3.0, 'gamma': 0.4, 'lambda': 0.30000000000000004}\n",
      "\tScore 0.699770114943\n",
      "\n",
      "\n",
      "Training with params : \n",
      "{'colsample_bytree': 0.55, 'silent': 1, 'eval_metric': 'ndcg', 'nthread': 6, 'min_child_weight': 4.0, 'n_estimators': 300.0, 'subsample': 0.9500000000000001, 'eta': 0.18, 'objective': 'binary:logistic', 'alpha': 0.8500000000000001, 'max_depth': 9.0, 'gamma': 0.55, 'lambda': 0.55}\n",
      "\tScore 0.676056338028\n",
      "\n",
      "\n",
      "Training with params : \n",
      "{'colsample_bytree': 0.6000000000000001, 'silent': 1, 'eval_metric': 'ndcg', 'nthread': 6, 'min_child_weight': 3.0, 'n_estimators': 800.0, 'subsample': 0.8500000000000001, 'eta': 0.08, 'objective': 'binary:logistic', 'alpha': 0.9500000000000001, 'max_depth': 12.0, 'gamma': 0.15000000000000002, 'lambda': 0.8500000000000001}\n"
     ]
    },
    {
     "ename": "KeyboardInterrupt",
     "evalue": "",
     "output_type": "error",
     "traceback": [
      "\u001b[1;31m---------------------------------------------------------------------------\u001b[0m",
      "\u001b[1;31mKeyboardInterrupt\u001b[0m                         Traceback (most recent call last)",
      "\u001b[1;32m<ipython-input-259-1279a9ceb156>\u001b[0m in \u001b[0;36m<module>\u001b[1;34m()\u001b[0m\n\u001b[0;32m      1\u001b[0m \u001b[0mtrials\u001b[0m \u001b[1;33m=\u001b[0m \u001b[0mTrials\u001b[0m\u001b[1;33m(\u001b[0m\u001b[1;33m)\u001b[0m\u001b[1;33m\u001b[0m\u001b[0m\n\u001b[0;32m      2\u001b[0m \u001b[1;33m\u001b[0m\u001b[0m\n\u001b[1;32m----> 3\u001b[1;33m \u001b[0moptimize\u001b[0m\u001b[1;33m(\u001b[0m\u001b[0mtrials\u001b[0m\u001b[1;33m)\u001b[0m\u001b[1;33m\u001b[0m\u001b[0m\n\u001b[0m",
      "\u001b[1;32m<ipython-input-258-1957be6408ee>\u001b[0m in \u001b[0;36moptimize\u001b[1;34m(trials)\u001b[0m\n\u001b[0;32m     16\u001b[0m              }\n\u001b[0;32m     17\u001b[0m \u001b[1;33m\u001b[0m\u001b[0m\n\u001b[1;32m---> 18\u001b[1;33m     \u001b[0mbest\u001b[0m \u001b[1;33m=\u001b[0m \u001b[0mfmin\u001b[0m\u001b[1;33m(\u001b[0m\u001b[0mscore\u001b[0m\u001b[1;33m,\u001b[0m \u001b[0mspace\u001b[0m\u001b[1;33m,\u001b[0m \u001b[0malgo\u001b[0m\u001b[1;33m=\u001b[0m\u001b[0mtpe\u001b[0m\u001b[1;33m.\u001b[0m\u001b[0msuggest\u001b[0m\u001b[1;33m,\u001b[0m \u001b[0mtrials\u001b[0m\u001b[1;33m=\u001b[0m\u001b[0mtrials\u001b[0m\u001b[1;33m,\u001b[0m \u001b[0mmax_evals\u001b[0m\u001b[1;33m=\u001b[0m\u001b[1;36m400\u001b[0m\u001b[1;33m)\u001b[0m\u001b[1;33m\u001b[0m\u001b[0m\n\u001b[0m\u001b[0;32m     19\u001b[0m \u001b[1;33m\u001b[0m\u001b[0m\n\u001b[0;32m     20\u001b[0m     \u001b[1;32mprint\u001b[0m \u001b[0mbest\u001b[0m\u001b[1;33m\u001b[0m\u001b[0m\n",
      "\u001b[1;32m/home/tatiana/anaconda2/lib/python2.7/site-packages/hyperopt/fmin.pyc\u001b[0m in \u001b[0;36mfmin\u001b[1;34m(fn, space, algo, max_evals, trials, rseed)\u001b[0m\n\u001b[0;32m    332\u001b[0m \u001b[1;33m\u001b[0m\u001b[0m\n\u001b[0;32m    333\u001b[0m     \u001b[0mrval\u001b[0m \u001b[1;33m=\u001b[0m \u001b[0mFMinIter\u001b[0m\u001b[1;33m(\u001b[0m\u001b[0malgo\u001b[0m\u001b[1;33m,\u001b[0m \u001b[0mdomain\u001b[0m\u001b[1;33m,\u001b[0m \u001b[0mtrials\u001b[0m\u001b[1;33m,\u001b[0m \u001b[0mmax_evals\u001b[0m\u001b[1;33m=\u001b[0m\u001b[0mmax_evals\u001b[0m\u001b[1;33m)\u001b[0m\u001b[1;33m\u001b[0m\u001b[0m\n\u001b[1;32m--> 334\u001b[1;33m     \u001b[0mrval\u001b[0m\u001b[1;33m.\u001b[0m\u001b[0mexhaust\u001b[0m\u001b[1;33m(\u001b[0m\u001b[1;33m)\u001b[0m\u001b[1;33m\u001b[0m\u001b[0m\n\u001b[0m\u001b[0;32m    335\u001b[0m     \u001b[1;32mreturn\u001b[0m \u001b[0mtrials\u001b[0m\u001b[1;33m.\u001b[0m\u001b[0margmin\u001b[0m\u001b[1;33m\u001b[0m\u001b[0m\n\u001b[0;32m    336\u001b[0m \u001b[1;33m\u001b[0m\u001b[0m\n",
      "\u001b[1;32m/home/tatiana/anaconda2/lib/python2.7/site-packages/hyperopt/fmin.pyc\u001b[0m in \u001b[0;36mexhaust\u001b[1;34m(self)\u001b[0m\n\u001b[0;32m    292\u001b[0m     \u001b[1;32mdef\u001b[0m \u001b[0mexhaust\u001b[0m\u001b[1;33m(\u001b[0m\u001b[0mself\u001b[0m\u001b[1;33m)\u001b[0m\u001b[1;33m:\u001b[0m\u001b[1;33m\u001b[0m\u001b[0m\n\u001b[0;32m    293\u001b[0m         \u001b[0mn_done\u001b[0m \u001b[1;33m=\u001b[0m \u001b[0mlen\u001b[0m\u001b[1;33m(\u001b[0m\u001b[0mself\u001b[0m\u001b[1;33m.\u001b[0m\u001b[0mtrials\u001b[0m\u001b[1;33m)\u001b[0m\u001b[1;33m\u001b[0m\u001b[0m\n\u001b[1;32m--> 294\u001b[1;33m         \u001b[0mself\u001b[0m\u001b[1;33m.\u001b[0m\u001b[0mrun\u001b[0m\u001b[1;33m(\u001b[0m\u001b[0mself\u001b[0m\u001b[1;33m.\u001b[0m\u001b[0mmax_evals\u001b[0m \u001b[1;33m-\u001b[0m \u001b[0mn_done\u001b[0m\u001b[1;33m,\u001b[0m \u001b[0mblock_until_done\u001b[0m\u001b[1;33m=\u001b[0m\u001b[0mself\u001b[0m\u001b[1;33m.\u001b[0m\u001b[0masync\u001b[0m\u001b[1;33m)\u001b[0m\u001b[1;33m\u001b[0m\u001b[0m\n\u001b[0m\u001b[0;32m    295\u001b[0m         \u001b[0mself\u001b[0m\u001b[1;33m.\u001b[0m\u001b[0mtrials\u001b[0m\u001b[1;33m.\u001b[0m\u001b[0mrefresh\u001b[0m\u001b[1;33m(\u001b[0m\u001b[1;33m)\u001b[0m\u001b[1;33m\u001b[0m\u001b[0m\n\u001b[0;32m    296\u001b[0m         \u001b[1;32mreturn\u001b[0m \u001b[0mself\u001b[0m\u001b[1;33m\u001b[0m\u001b[0m\n",
      "\u001b[1;32m/home/tatiana/anaconda2/lib/python2.7/site-packages/hyperopt/fmin.pyc\u001b[0m in \u001b[0;36mrun\u001b[1;34m(self, N, block_until_done)\u001b[0m\n\u001b[0;32m    266\u001b[0m             \u001b[1;32melse\u001b[0m\u001b[1;33m:\u001b[0m\u001b[1;33m\u001b[0m\u001b[0m\n\u001b[0;32m    267\u001b[0m                 \u001b[1;31m# -- loop over trials and do the jobs directly\u001b[0m\u001b[1;33m\u001b[0m\u001b[1;33m\u001b[0m\u001b[0m\n\u001b[1;32m--> 268\u001b[1;33m                 \u001b[0mself\u001b[0m\u001b[1;33m.\u001b[0m\u001b[0mserial_evaluate\u001b[0m\u001b[1;33m(\u001b[0m\u001b[1;33m)\u001b[0m\u001b[1;33m\u001b[0m\u001b[0m\n\u001b[0m\u001b[0;32m    269\u001b[0m \u001b[1;33m\u001b[0m\u001b[0m\n\u001b[0;32m    270\u001b[0m             \u001b[1;32mif\u001b[0m \u001b[0mstopped\u001b[0m\u001b[1;33m:\u001b[0m\u001b[1;33m\u001b[0m\u001b[0m\n",
      "\u001b[1;32m/home/tatiana/anaconda2/lib/python2.7/site-packages/hyperopt/fmin.pyc\u001b[0m in \u001b[0;36mserial_evaluate\u001b[1;34m(self, N)\u001b[0m\n\u001b[0;32m    185\u001b[0m                 \u001b[0mctrl\u001b[0m \u001b[1;33m=\u001b[0m \u001b[0mbase\u001b[0m\u001b[1;33m.\u001b[0m\u001b[0mCtrl\u001b[0m\u001b[1;33m(\u001b[0m\u001b[0mself\u001b[0m\u001b[1;33m.\u001b[0m\u001b[0mtrials\u001b[0m\u001b[1;33m,\u001b[0m \u001b[0mcurrent_trial\u001b[0m\u001b[1;33m=\u001b[0m\u001b[0mtrial\u001b[0m\u001b[1;33m)\u001b[0m\u001b[1;33m\u001b[0m\u001b[0m\n\u001b[0;32m    186\u001b[0m                 \u001b[1;32mtry\u001b[0m\u001b[1;33m:\u001b[0m\u001b[1;33m\u001b[0m\u001b[0m\n\u001b[1;32m--> 187\u001b[1;33m                     \u001b[0mresult\u001b[0m \u001b[1;33m=\u001b[0m \u001b[0mself\u001b[0m\u001b[1;33m.\u001b[0m\u001b[0mdomain\u001b[0m\u001b[1;33m.\u001b[0m\u001b[0mevaluate\u001b[0m\u001b[1;33m(\u001b[0m\u001b[0mspec\u001b[0m\u001b[1;33m,\u001b[0m \u001b[0mctrl\u001b[0m\u001b[1;33m)\u001b[0m\u001b[1;33m\u001b[0m\u001b[0m\n\u001b[0m\u001b[0;32m    188\u001b[0m                 \u001b[1;32mexcept\u001b[0m \u001b[0mException\u001b[0m\u001b[1;33m,\u001b[0m \u001b[0me\u001b[0m\u001b[1;33m:\u001b[0m\u001b[1;33m\u001b[0m\u001b[0m\n\u001b[0;32m    189\u001b[0m                     \u001b[0mlogger\u001b[0m\u001b[1;33m.\u001b[0m\u001b[0minfo\u001b[0m\u001b[1;33m(\u001b[0m\u001b[1;34m'job exception: %s'\u001b[0m \u001b[1;33m%\u001b[0m \u001b[0mstr\u001b[0m\u001b[1;33m(\u001b[0m\u001b[0me\u001b[0m\u001b[1;33m)\u001b[0m\u001b[1;33m)\u001b[0m\u001b[1;33m\u001b[0m\u001b[0m\n",
      "\u001b[1;32m/home/tatiana/anaconda2/lib/python2.7/site-packages/hyperopt/fmin.pyc\u001b[0m in \u001b[0;36mevaluate\u001b[1;34m(self, config, ctrl, attach_attachments)\u001b[0m\n\u001b[0;32m    112\u001b[0m             pyll_rval = pyll.rec_eval(self.expr, memo=memo,\n\u001b[0;32m    113\u001b[0m                     print_node_on_error=self.rec_eval_print_node_on_error)\n\u001b[1;32m--> 114\u001b[1;33m             \u001b[0mrval\u001b[0m \u001b[1;33m=\u001b[0m \u001b[0mself\u001b[0m\u001b[1;33m.\u001b[0m\u001b[0mfn\u001b[0m\u001b[1;33m(\u001b[0m\u001b[0mpyll_rval\u001b[0m\u001b[1;33m)\u001b[0m\u001b[1;33m\u001b[0m\u001b[0m\n\u001b[0m\u001b[0;32m    115\u001b[0m \u001b[1;33m\u001b[0m\u001b[0m\n\u001b[0;32m    116\u001b[0m         \u001b[1;32mif\u001b[0m \u001b[0misinstance\u001b[0m\u001b[1;33m(\u001b[0m\u001b[0mrval\u001b[0m\u001b[1;33m,\u001b[0m \u001b[1;33m(\u001b[0m\u001b[0mfloat\u001b[0m\u001b[1;33m,\u001b[0m \u001b[0mint\u001b[0m\u001b[1;33m,\u001b[0m \u001b[0mnp\u001b[0m\u001b[1;33m.\u001b[0m\u001b[0mnumber\u001b[0m\u001b[1;33m)\u001b[0m\u001b[1;33m)\u001b[0m\u001b[1;33m:\u001b[0m\u001b[1;33m\u001b[0m\u001b[0m\n",
      "\u001b[1;32m<ipython-input-255-49f46ee52144>\u001b[0m in \u001b[0;36mscore\u001b[1;34m(params)\u001b[0m\n\u001b[0;32m      7\u001b[0m     \u001b[0mdvalid\u001b[0m \u001b[1;33m=\u001b[0m \u001b[0mxgb\u001b[0m\u001b[1;33m.\u001b[0m\u001b[0mDMatrix\u001b[0m\u001b[1;33m(\u001b[0m\u001b[0mX_test\u001b[0m\u001b[1;33m,\u001b[0m \u001b[0mlabel\u001b[0m\u001b[1;33m=\u001b[0m\u001b[0my_test\u001b[0m\u001b[1;33m)\u001b[0m\u001b[1;33m\u001b[0m\u001b[0m\n\u001b[0;32m      8\u001b[0m     \u001b[1;31m# watchlist = [(dvalid, 'eval'), (dtrain, 'train')]\u001b[0m\u001b[1;33m\u001b[0m\u001b[1;33m\u001b[0m\u001b[0m\n\u001b[1;32m----> 9\u001b[1;33m     \u001b[0mmodel\u001b[0m \u001b[1;33m=\u001b[0m \u001b[0mxgb\u001b[0m\u001b[1;33m.\u001b[0m\u001b[0mtrain\u001b[0m\u001b[1;33m(\u001b[0m\u001b[0mparams\u001b[0m\u001b[1;33m,\u001b[0m \u001b[0mdtrain\u001b[0m\u001b[1;33m,\u001b[0m \u001b[0mnum_round\u001b[0m\u001b[1;33m)\u001b[0m\u001b[1;33m\u001b[0m\u001b[0m\n\u001b[0m\u001b[0;32m     10\u001b[0m     \u001b[0mpredictions\u001b[0m \u001b[1;33m=\u001b[0m \u001b[0mmodel\u001b[0m\u001b[1;33m.\u001b[0m\u001b[0mpredict\u001b[0m\u001b[1;33m(\u001b[0m\u001b[0mdvalid\u001b[0m\u001b[1;33m)\u001b[0m\u001b[1;33m\u001b[0m\u001b[0m\n\u001b[0;32m     11\u001b[0m     \u001b[0my\u001b[0m \u001b[1;33m=\u001b[0m \u001b[0mprediction\u001b[0m\u001b[1;33m(\u001b[0m\u001b[0mpredictions\u001b[0m\u001b[1;33m,\u001b[0m \u001b[1;36m0.4\u001b[0m\u001b[1;33m)\u001b[0m\u001b[1;33m\u001b[0m\u001b[0m\n",
      "\u001b[1;32m/home/tatiana/anaconda2/lib/python2.7/site-packages/xgboost/training.pyc\u001b[0m in \u001b[0;36mtrain\u001b[1;34m(params, dtrain, num_boost_round, evals, obj, feval, maximize, early_stopping_rounds, evals_result, verbose_eval, learning_rates, xgb_model)\u001b[0m\n\u001b[0;32m    119\u001b[0m     \u001b[1;32mif\u001b[0m \u001b[1;32mnot\u001b[0m \u001b[0mearly_stopping_rounds\u001b[0m\u001b[1;33m:\u001b[0m\u001b[1;33m\u001b[0m\u001b[0m\n\u001b[0;32m    120\u001b[0m         \u001b[1;32mfor\u001b[0m \u001b[0mi\u001b[0m \u001b[1;32min\u001b[0m \u001b[0mrange\u001b[0m\u001b[1;33m(\u001b[0m\u001b[0mnum_boost_round\u001b[0m\u001b[1;33m)\u001b[0m\u001b[1;33m:\u001b[0m\u001b[1;33m\u001b[0m\u001b[0m\n\u001b[1;32m--> 121\u001b[1;33m             \u001b[0mbst\u001b[0m\u001b[1;33m.\u001b[0m\u001b[0mupdate\u001b[0m\u001b[1;33m(\u001b[0m\u001b[0mdtrain\u001b[0m\u001b[1;33m,\u001b[0m \u001b[0mi\u001b[0m\u001b[1;33m,\u001b[0m \u001b[0mobj\u001b[0m\u001b[1;33m)\u001b[0m\u001b[1;33m\u001b[0m\u001b[0m\n\u001b[0m\u001b[0;32m    122\u001b[0m             \u001b[0mnboost\u001b[0m \u001b[1;33m+=\u001b[0m \u001b[1;36m1\u001b[0m\u001b[1;33m\u001b[0m\u001b[0m\n\u001b[0;32m    123\u001b[0m             \u001b[1;32mif\u001b[0m \u001b[0mlen\u001b[0m\u001b[1;33m(\u001b[0m\u001b[0mevals\u001b[0m\u001b[1;33m)\u001b[0m \u001b[1;33m!=\u001b[0m \u001b[1;36m0\u001b[0m\u001b[1;33m:\u001b[0m\u001b[1;33m\u001b[0m\u001b[0m\n",
      "\u001b[1;32m/home/tatiana/anaconda2/lib/python2.7/site-packages/xgboost/core.pyc\u001b[0m in \u001b[0;36mupdate\u001b[1;34m(self, dtrain, iteration, fobj)\u001b[0m\n\u001b[0;32m    692\u001b[0m \u001b[1;33m\u001b[0m\u001b[0m\n\u001b[0;32m    693\u001b[0m         \u001b[1;32mif\u001b[0m \u001b[0mfobj\u001b[0m \u001b[1;32mis\u001b[0m \u001b[0mNone\u001b[0m\u001b[1;33m:\u001b[0m\u001b[1;33m\u001b[0m\u001b[0m\n\u001b[1;32m--> 694\u001b[1;33m             \u001b[0m_check_call\u001b[0m\u001b[1;33m(\u001b[0m\u001b[0m_LIB\u001b[0m\u001b[1;33m.\u001b[0m\u001b[0mXGBoosterUpdateOneIter\u001b[0m\u001b[1;33m(\u001b[0m\u001b[0mself\u001b[0m\u001b[1;33m.\u001b[0m\u001b[0mhandle\u001b[0m\u001b[1;33m,\u001b[0m \u001b[0miteration\u001b[0m\u001b[1;33m,\u001b[0m \u001b[0mdtrain\u001b[0m\u001b[1;33m.\u001b[0m\u001b[0mhandle\u001b[0m\u001b[1;33m)\u001b[0m\u001b[1;33m)\u001b[0m\u001b[1;33m\u001b[0m\u001b[0m\n\u001b[0m\u001b[0;32m    695\u001b[0m         \u001b[1;32melse\u001b[0m\u001b[1;33m:\u001b[0m\u001b[1;33m\u001b[0m\u001b[0m\n\u001b[0;32m    696\u001b[0m             \u001b[0mpred\u001b[0m \u001b[1;33m=\u001b[0m \u001b[0mself\u001b[0m\u001b[1;33m.\u001b[0m\u001b[0mpredict\u001b[0m\u001b[1;33m(\u001b[0m\u001b[0mdtrain\u001b[0m\u001b[1;33m)\u001b[0m\u001b[1;33m\u001b[0m\u001b[0m\n",
      "\u001b[1;31mKeyboardInterrupt\u001b[0m: "
     ]
    }
   ],
   "source": [
    "trials = Trials()\n",
    "\n",
    "optimize(trials)"
   ]
  },
  {
   "cell_type": "code",
   "execution_count": 376,
   "metadata": {
    "collapsed": false
   },
   "outputs": [],
   "source": [
    "params = {'silent': False, 'nthread': 10, 'max_depth': 8, 'n_estimators': 3400, \n",
    "                        'subsample': 0.5, 'learning_rate': 0.01, 'seed': 202, 'eta': 0.007}"
   ]
  },
  {
   "cell_type": "code",
   "execution_count": 282,
   "metadata": {
    "collapsed": true
   },
   "outputs": [
    {
     "name": "stdout",
     "output_type": "stream",
     "text": [
      "Fitting 3 folds for each of 54 candidates, totalling 162 fits\n"
     ]
    },
    {
     "name": "stderr",
     "output_type": "stream",
     "text": [
      "[Parallel(n_jobs=-1)]: Done  42 tasks      | elapsed:  3.7min\n",
      "[Parallel(n_jobs=-1)]: Done 162 out of 162 | elapsed: 16.5min finished\n"
     ]
    },
    {
     "data": {
      "text/plain": [
       "GridSearchCV(cv=None, error_score='raise',\n",
       "       estimator=XGBClassifier(base_score=0.5, colsample_bylevel=1, colsample_bytree=1,\n",
       "       gamma=0, learning_rate=0.1, max_delta_step=0, max_depth=3,\n",
       "       min_child_weight=1, missing=None, n_estimators=100, nthread=-1,\n",
       "       objective='binary:logistic', reg_alpha=0, reg_lambda=1,\n",
       "       scale_pos_weight=1, seed=0, silent=True, subsample=1),\n",
       "       fit_params={}, iid=True, n_jobs=-1,\n",
       "       param_grid={'reg_alpha': [0.0, 0.2, 0.4, 0.6, 0.8, 1.0], 'colsample_bytree': [0.5, 0.6666666666666666, 0.8333333333333334], 'max_delta_step': [0.009], 'nthread': [6], 'n_estimators': [2000], 'subsample': [0.5, 0.6666666666666666, 0.8333333333333334], 'objective': ['binary:logistic']},\n",
       "       pre_dispatch='2*n_jobs', refit=True, scoring='f1', verbose=1)"
      ]
     },
     "execution_count": 282,
     "metadata": {},
     "output_type": "execute_result"
    }
   ],
   "source": [
    "param = {}\n",
    "param['objective'] = ['binary:logistic']\n",
    "param['reg_alpha'] = [float(i)/5 for i in range(0, 6)]\n",
    "param['colsample_bytree'] = [float(i)/6 for i in range(3, 6)]\n",
    "param['subsample'] = [float(i)/6 for i in range(3, 6)]\n",
    "param['nthread'] = [6]\n",
    "param['max_delta_step'] = [0.009]\n",
    "param['n_estimators'] = [2000]\n",
    "\n",
    "dtrain = xgb.DMatrix(train_data_norm, label=train_label[1:])\n",
    "dtest = xgb.DMatrix(test_data_norm)\n",
    "\n",
    "xgc = xgb.XGBClassifier()\n",
    "clf = grid_search.GridSearchCV(xgc, param, n_jobs=-1, verbose=1, scoring='f1')\n",
    "clf.fit(np.array(train_data_norm), train_label[1:].values.T[0])"
   ]
  },
  {
   "cell_type": "code",
   "execution_count": 292,
   "metadata": {
    "collapsed": false
   },
   "outputs": [
    {
     "data": {
      "text/plain": [
       "array([0, 0, 0, ..., 0, 0, 1])"
      ]
     },
     "execution_count": 292,
     "metadata": {},
     "output_type": "execute_result"
    }
   ],
   "source": [
    "clf.predict(test_data_norm)"
   ]
  },
  {
   "cell_type": "code",
   "execution_count": 305,
   "metadata": {
    "collapsed": false
   },
   "outputs": [],
   "source": [
    "y = clf.predict_proba(test_data_norm)"
   ]
  },
  {
   "cell_type": "code",
   "execution_count": 306,
   "metadata": {
    "collapsed": false
   },
   "outputs": [],
   "source": [
    "y = [1-x[0] for x in y]\n",
    "y = prediction(y, 0.4)"
   ]
  },
  {
   "cell_type": "code",
   "execution_count": 233,
   "metadata": {
    "collapsed": false
   },
   "outputs": [],
   "source": [
    "dtrain = xgb.DMatrix(train_data_norm, label=train_label[1:])\n",
    "dtest = xgb.DMatrix(test_data_norm)\n",
    "clf = xgb.train(params, dtrain, num_boost_round=1000)\n",
    "p = clf.predict(dtest)"
   ]
  },
  {
   "cell_type": "code",
   "execution_count": 234,
   "metadata": {
    "collapsed": true
   },
   "outputs": [],
   "source": [
    "p = prediction(p, 0.4)"
   ]
  },
  {
   "cell_type": "code",
   "execution_count": 285,
   "metadata": {
    "collapsed": false
   },
   "outputs": [],
   "source": [
    "wtf = pd.read_csv('test.txt', index_col='id')"
   ]
  },
  {
   "cell_type": "code",
   "execution_count": 307,
   "metadata": {
    "collapsed": true
   },
   "outputs": [],
   "source": [
    "pd.DataFrame(y, columns=['target'], index=wtf.index).to_csv('mm1.csv')"
   ]
  },
  {
   "cell_type": "code",
   "execution_count": 335,
   "metadata": {
    "collapsed": true
   },
   "outputs": [],
   "source": [
    "def validate(train, label, test, val):\n",
    "    dtrain = xgb.DMatrix(train, label=label)\n",
    "    dtest = xgb.DMatrix(test)\n",
    "    \n",
    "    num_boost_round=1500\n",
    "    clf = xgb.train(params, dtrain, num_boost_round=num_boost_round)\n",
    "    errors = np.array([f1_score(val,\n",
    "                                    prediction(clf.predict(dtest, ntree_limit=n + 1), 0.37))\n",
    "                     for n in range(num_boost_round)])\n",
    "    \n",
    "    best_alpha_gbr = np.argmax(errors)\n",
    "    print 'Best n is:', best_alpha_gbr\n",
    "    print 'corresponding f1', max(errors)\n",
    "    \n",
    "    \n",
    "    plt.figure(figsize=(14, 6))\n",
    "    plt.plot(range(num_boost_round), errors)\n",
    "\n",
    "    plt.axvline(x=best_alpha_gbr, color='r')\n",
    "\n",
    "    plt.show()"
   ]
  },
  {
   "cell_type": "code",
   "execution_count": 336,
   "metadata": {
    "collapsed": false
   },
   "outputs": [
    {
     "name": "stdout",
     "output_type": "stream",
     "text": [
      "Best n is: 665\n",
      "corresponding f1 0.708167770419\n"
     ]
    },
    {
     "data": {
      "image/png": "[encoded data removed]",
      "text/plain": [
       "<matplotlib.figure.Figure at 0x7fda6d3aa3d0>"
      ]
     },
     "metadata": {},
     "output_type": "display_data"
    }
   ],
   "source": [
    "train_1 = train_data[len(train_data)/3:]\n",
    "train_label_1 = train_label[len(train_data)/3:]\n",
    "test_1 = train_data[:len(train_data)/3]\n",
    "val_1 = train_label[:len(train_data)/3]\n",
    "#print val_1\n",
    "\n",
    "validate(X_train, y_train, X_test, y_test)"
   ]
  },
  {
   "cell_type": "code",
   "execution_count": 339,
   "metadata": {
    "collapsed": false
   },
   "outputs": [
    {
     "name": "stdout",
     "output_type": "stream",
     "text": [
      "Best n is: 376\n",
      "corresponding f1 0.724266666667\n"
     ]
    },
    {
     "data": {
      "image/png": "[encoded data removed]",
      "text/plain": [
       "<matplotlib.figure.Figure at 0x7fda50383290>"
      ]
     },
     "metadata": {},
     "output_type": "display_data"
    }
   ],
   "source": [
    "train_label = train_label[1:]\n",
    "train_1 = train_data[:2*len(train_data)/3]\n",
    "train_label_1 = train_label[:2*len(train_data)/3]\n",
    "test_1 = train_data[2*len(train_data)/3:]\n",
    "val_1 = train_label[2*len(train_data)/3:]\n",
    "\n",
    "validate(train_1, train_label_1, test_1, val_1)"
   ]
  },
  {
   "cell_type": "code",
   "execution_count": 345,
   "metadata": {
    "collapsed": false
   },
   "outputs": [
    {
     "name": "stdout",
     "output_type": "stream",
     "text": [
      "Best n is: 667\n",
      "corresponding f1 0.721693121693\n"
     ]
    },
    {
     "data": {
      "image/png": "[encoded data removed]",
      "text/plain": [
       "<matplotlib.figure.Figure at 0x7fda503c72d0>"
      ]
     },
     "metadata": {},
     "output_type": "display_data"
    }
   ],
   "source": [
    "train_1 = train[len(train_data)/3:]\n",
    "train_label_1 = train_label[len(train_data)/3:]\n",
    "test_1 = train[:len(train_data)/3]\n",
    "val_1 = train_label[:len(train_data)/3]\n",
    "\n",
    "validate(train_1, train_label_1, test_1, val_1)"
   ]
  },
  {
   "cell_type": "code",
   "execution_count": 372,
   "metadata": {
    "collapsed": false
   },
   "outputs": [
    {
     "name": "stdout",
     "output_type": "stream",
     "text": [
      "Best n is: 366\n",
      "corresponding f1 0.728\n"
     ]
    },
    {
     "data": {
      "image/png": "[encoded data removed]",
      "text/plain": [
       "<matplotlib.figure.Figure at 0x7fda50372b10>"
      ]
     },
     "metadata": {},
     "output_type": "display_data"
    }
   ],
   "source": [
    "train_1 = train[:2*len(train_data)/3]\n",
    "train_label_1 = train_label[:2*len(train_data)/3]\n",
    "test_1 = train[2*len(train_data)/3:]\n",
    "val_1 = train_label[2*len(train_data)/3:]\n",
    "\n",
    "validate(train_1, train_label_1, test_1, val_1)"
   ]
  },
  {
   "cell_type": "code",
   "execution_count": 374,
   "metadata": {
    "collapsed": false
   },
   "outputs": [
    {
     "name": "stdout",
     "output_type": "stream",
     "text": [
      "Best n is: 846\n",
      "corresponding f1 0.723235527359\n"
     ]
    },
    {
     "data": {
      "image/png": "[encoded data removed]",
      "text/plain": [
       "<matplotlib.figure.Figure at 0x7fda502bdcd0>"
      ]
     },
     "metadata": {},
     "output_type": "display_data"
    }
   ],
   "source": [
    "train_1 = train[len(train_data)/3:]\n",
    "train_label_1 = train_label[len(train_data)/3:]\n",
    "test_1 = train[:len(train_data)/3]\n",
    "val_1 = train_label[:len(train_data)/3]\n",
    "\n",
    "validate(train_1, train_label_1, test_1, val_1)"
   ]
  },
  {
   "cell_type": "code",
   "execution_count": 375,
   "metadata": {
    "collapsed": false
   },
   "outputs": [
    {
     "name": "stdout",
     "output_type": "stream",
     "text": [
      "Best n is: 234\n",
      "corresponding f1 0.726271630834\n"
     ]
    },
    {
     "data": {
      "image/png": "[encoded data removed]",
      "text/plain": [
       "<matplotlib.figure.Figure at 0x7fda5037c0d0>"
      ]
     },
     "metadata": {},
     "output_type": "display_data"
    }
   ],
   "source": [
    "train_1 = train[:2*len(train_data)/3]\n",
    "train_label_1 = train_label[:2*len(train_data)/3]\n",
    "test_1 = train[2*len(train_data)/3:]\n",
    "val_1 = train_label[2*len(train_data)/3:]\n",
    "\n",
    "validate(train_1, train_label_1, test_1, val_1)"
   ]
  },
  {
   "cell_type": "code",
   "execution_count": 378,
   "metadata": {
    "collapsed": false
   },
   "outputs": [],
   "source": [
    "dtrain = xgb.DMatrix(train, label=train_label)\n",
    "dtest = xgb.DMatrix(test)\n",
    "\n",
    "num_boost_round=900\n",
    "clf = xgb.train(paramspd.DataFrame(y, columns=['target'], index=wtf.index).to_csv('mm2.csv'), dtrain, num_boost_round=num_boost_round)\n",
    "y = clf.predict(dtest)"
   ]
  },
  {
   "cell_type": "code",
   "execution_count": 379,
   "metadata": {
    "collapsed": true
   },
   "outputs": [],
   "source": [
    "y = prediction(y, 0.37)"
   ]
  },
  {
   "cell_type": "code",
   "execution_count": 380,
   "metadata": {
    "collapsed": true
   },
   "outputs": [],
   "source": [
    "pd.DataFrame(y, columns=['target'], index=wtf.index).to_csv('mm2.csv')"
   ]
  },
  {
   "cell_type": "code",
   "execution_count": null,
   "metadata": {
    "collapsed": true
   },
   "outputs": [],
   "source": []
  }
 ],
 "metadata": {
  "kernelspec": {
   "display_name": "Python 2",
   "language": "python",
   "name": "python2"
  },
  "language_info": {
   "codemirror_mode": {
    "name": "ipython",
    "version": 2
   },
   "file_extension": ".py",
   "mimetype": "text/x-python",
   "name": "python",
   "nbconvert_exporter": "python",
   "pygments_lexer": "ipython2",
   "version": "2.7.11"
  }
 },
 "nbformat": 4,
 "nbformat_minor": 0
}
