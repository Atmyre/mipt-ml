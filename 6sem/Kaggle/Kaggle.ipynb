{
 "cells": [
  {
   "cell_type": "markdown",
   "metadata": {},
   "source": [
    "## Notebook для конкурса"
   ]
  },
  {
   "cell_type": "markdown",
   "metadata": {},
   "source": [
    "Что тут происходит:\n",
    "\n",
    "Сначала из каждого изображения удаляются шумы -- ненулевые пиксели, вокруг которых есть хотя бы 5 нулевых (вокруг -- это -1, 0, +1 по оси х и также по у, удаление шумов делает измерение расстояния между изображениями более точным), а также пиксели, которые темнее, чем 100, обнуляются (это могло помочь там, где изображение состоит из двух изображений цифр, наложенных друг на друга с некоторыми коэффициентами, при обнулении пикселей, которые темнее 100, там во многих случаях остается только одно). Это все делается в функции exclude_noices. Затем на обработанной тренировочной выборке обучается KNeighborsClassifier с параметрами k=3 и weights='distance' и делается predict на тестовой (каждое изображение из тестовой выборки тоже обрабатывается функцией exclude_noices).\n",
    "\n",
    "Вот. Все просто."
   ]
  },
  {
   "cell_type": "markdown",
   "metadata": {},
   "source": [
    "(Лучшая посылка на kaggle была получена именно так, вторая посылка, отобранная на прогон по всей тестовой выборке, \n",
    "была получена тем же алгоритмом, но без обнуления пикселей, которые темнее, чем 100)"
   ]
  },
  {
   "cell_type": "code",
   "execution_count": 1,
   "metadata": {
    "collapsed": false
   },
   "outputs": [],
   "source": [
    "import numpy as np\n",
    "import pandas as pd\n",
    "from sklearn.neighbors import KNeighborsClassifier\n",
    "from matplotlib import pyplot\n",
    "\n",
    "%load_ext autoreload\n",
    "%autoreload 2"
   ]
  },
  {
   "cell_type": "markdown",
   "metadata": {},
   "source": [
    " Считываем данные:"
   ]
  },
  {
   "cell_type": "code",
   "execution_count": 2,
   "metadata": {
    "collapsed": true
   },
   "outputs": [],
   "source": [
    "X_train = pd.read_csv('hard_train.txt', header=None, sep=' ').values\n",
    "Y_train = pd.read_csv('hard_train_labels.txt', header=None, sep=' ').values\n",
    "X_test = pd.read_csv('hard_test.txt', header=None, sep=' ').values"
   ]
  },
  {
   "cell_type": "markdown",
   "metadata": {},
   "source": [
    "Функция, исключающая \"шумы\" и обнуляющая неяркие пиксели:\n",
    "\n",
    "(А, ну еще пиксели на границе -- где х < 2 или х > 25 или у < 2 или у > 25, делаем все нулевыми)"
   ]
  },
  {
   "cell_type": "code",
   "execution_count": 3,
   "metadata": {
    "collapsed": false
   },
   "outputs": [],
   "source": [
    "def exclude_noices(picture):\n",
    "    p = picture\n",
    "    \n",
    "    for i in range(28):\n",
    "        for j in range(28):\n",
    "            if (i<2 or i>25 or j<2 or j>25):\n",
    "                picture[i][j] = 0\n",
    "                continue\n",
    "            if picture[i][j] < 100:\n",
    "                picture[i][j] = 0\n",
    "            sum = 0\n",
    "            for a in range(-1, 2):\n",
    "                for b in range(-1, 2):\n",
    "                    if p[i + a][j + b] == 0:\n",
    "                        sum += 1\n",
    "            if (sum > 5):\n",
    "                picture[i][j] = 0\n",
    "    return picture"
   ]
  },
  {
   "cell_type": "markdown",
   "metadata": {},
   "source": [
    "Применяем к выборкам функцию exclude_noises:\n",
    "\n",
    "reshape, чтобы легче было обрабатывать "
   ]
  },
  {
   "cell_type": "code",
   "execution_count": null,
   "metadata": {
    "collapsed": false
   },
   "outputs": [],
   "source": [
    "X_train_new = [[] for i in range(200000)]\n",
    "for i in range(200000):\n",
    "    picture = X_train[[i]].reshape(28, 28)\n",
    "    X_train_new[i] = exclude_noices(picture)\n",
    "    \n",
    "X_test_new = [[] for i in range(20000)]\n",
    "for i in range(20000):\n",
    "    picture = X_test[[i]].reshape(28, 28)\n",
    "    X_test_new[i] = exclude_noices(picture)"
   ]
  },
  {
   "cell_type": "markdown",
   "metadata": {},
   "source": [
    "reshape обратно:"
   ]
  },
  {
   "cell_type": "code",
   "execution_count": 5,
   "metadata": {
    "collapsed": true
   },
   "outputs": [],
   "source": [
    "for i in range(200000):\n",
    "    X_train_new[i] = X_train_new[i].reshape((784))"
   ]
  },
  {
   "cell_type": "markdown",
   "metadata": {},
   "source": [
    "Обучаем kNN:"
   ]
  },
  {
   "cell_type": "code",
   "execution_count": 8,
   "metadata": {
    "collapsed": false
   },
   "outputs": [
    {
     "data": {
      "text/plain": [
       "KNeighborsClassifier(algorithm='auto', leaf_size=30, metric='minkowski',\n",
       "           metric_params=None, n_jobs=1, n_neighbors=3, p=2,\n",
       "           weights='distance')"
      ]
     },
     "execution_count": 8,
     "metadata": {},
     "output_type": "execute_result"
    }
   ],
   "source": [
    "knn = KNeighborsClassifier(n_neighbors=3, weights='distance')\n",
    "knn.fit(X_train_new, np.ravel(Y_train))        "
   ]
  },
  {
   "cell_type": "markdown",
   "metadata": {},
   "source": [
    "reshape тестовой выборки обратно:"
   ]
  },
  {
   "cell_type": "code",
   "execution_count": 9,
   "metadata": {
    "collapsed": true
   },
   "outputs": [],
   "source": [
    "for i in range(20000):\n",
    "    X_test_new[i] = X_test_new[i].reshape((784))"
   ]
  },
  {
   "cell_type": "markdown",
   "metadata": {},
   "source": [
    "собственно predict:"
   ]
  },
  {
   "cell_type": "code",
   "execution_count": 11,
   "metadata": {
    "collapsed": false
   },
   "outputs": [
    {
     "name": "stdout",
     "output_type": "stream",
     "text": [
      "CPU times: user 1h 35min 17s, sys: 712 ms, total: 1h 35min 18s\n",
      "Wall time: 1h 35min 15s\n"
     ]
    }
   ],
   "source": [
    "% time y_predicted = knn.predict(X_test_new)"
   ]
  },
  {
   "cell_type": "markdown",
   "metadata": {},
   "source": [
    "Сохраняем в файл"
   ]
  },
  {
   "cell_type": "code",
   "execution_count": 12,
   "metadata": {
    "collapsed": true
   },
   "outputs": [],
   "source": [
    "pd.DataFrame(y_predicted).to_csv('y_predicted_k3_exn_3.csv')"
   ]
  },
  {
   "cell_type": "markdown",
   "metadata": {},
   "source": [
    "Все, win"
   ]
  }
 ],
 "metadata": {
  "kernelspec": {
   "display_name": "Python 2",
   "language": "python",
   "name": "python2"
  },
  "language_info": {
   "codemirror_mode": {
    "name": "ipython",
    "version": 2
   },
   "file_extension": ".py",
   "mimetype": "text/x-python",
   "name": "python",
   "nbconvert_exporter": "python",
   "pygments_lexer": "ipython2",
   "version": "2.7.11"
  }
 },
 "nbformat": 4,
 "nbformat_minor": 0
}
