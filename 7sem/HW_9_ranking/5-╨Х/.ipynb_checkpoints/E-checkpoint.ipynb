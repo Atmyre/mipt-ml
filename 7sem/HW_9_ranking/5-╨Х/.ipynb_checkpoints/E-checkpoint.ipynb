{
 "cells": [
  {
   "cell_type": "code",
   "execution_count": 4,
   "metadata": {
    "collapsed": false
   },
   "outputs": [],
   "source": [
    "from page_parser import *\n",
    "from page_rank import page_rank"
   ]
  },
  {
   "cell_type": "code",
   "execution_count": null,
   "metadata": {
    "collapsed": false,
    "scrolled": true
   },
   "outputs": [
    {
     "name": "stdout",
     "output_type": "stream",
     "text": [
      "parsing url: http://print.mipt.ru/login/ of depth: 0\n",
      "parsing url: http://print.mipt.ru/lib/ of depth: 1\n",
      "parsing url: http://print.mipt.ru/news/ of depth: 1\n",
      "parsing url: http://print.mipt.ru/pay/ of depth: 1\n",
      "parsing url: http://print.mipt.ru/doc/ of depth: 1\n",
      "parsing url: http://print.mipt.ru/ of depth: 1\n",
      "parsing url: http://print.mipt.ru/forum/ of depth: 1"
     ]
    }
   ],
   "source": [
    "printmipt = dict()\n",
    "parse_site('http://print.mipt.ru/login/', printmipt, verbose=True)"
   ]
  },
  {
   "cell_type": "code",
   "execution_count": null,
   "metadata": {
    "collapsed": true
   },
   "outputs": [],
   "source": [
    "printmipt"
   ]
  },
  {
   "cell_type": "code",
   "execution_count": 3,
   "metadata": {
    "collapsed": false
   },
   "outputs": [],
   "source": [
    "pr = page_rank(printmipt, damp_factor=0.5, eps=1e-5)"
   ]
  },
  {
   "cell_type": "code",
   "execution_count": 4,
   "metadata": {
    "collapsed": false
   },
   "outputs": [
    {
     "name": "stdout",
     "output_type": "stream",
     "text": [
      "url: http://print.mipt.ru/panel/ page_rank: 5.81%%\n",
      "url: http://print.mipt.ru/ page_rank: 5.81%%\n",
      "url: http://print.mipt.ru/doc/ipp page_rank: 1.43%%\n",
      "url: http://print.mipt.ru/doc/faq page_rank: 1.37%%\n",
      "url: http://print.mipt.ru/color.ppd page_rank: 2.97%%\n",
      "url: http://print.mipt.ru/doc/vista4 page_rank: 1.27%%\n",
      "url: http://print.mipt.ru/doc/refund page_rank: 1.32%%\n",
      "url: http://print.mipt.ru/doc/xp4/ page_rank: 1.27%%\n",
      "url: http://print.mipt.ru/pay/#qiwi page_rank: 1.37%%\n",
      "url: http://print.mipt.ru/pay page_rank: 1.58%%\n",
      "url: http://print.mipt.ru/doc/nodriver page_rank: 1.32%%\n",
      "url: http://print.mipt.ru/doc/ page_rank: 5.81%%\n",
      "url: http://print.mipt.ru/doc/faq/ page_rank: 2.55%%\n",
      "url: http://print.mipt.ru/doc/duplex page_rank: 1.32%%\n",
      "url: http://print.mipt.ru/register/ page_rank: 1.68%%\n",
      "url: http://print.mipt.ru/doc/refund/ page_rank: 1.37%%\n",
      "url: http://print.mipt.ru/doc/card_pay page_rank: 2.39%%\n",
      "url: http://print.mipt.ru/about/ page_rank: 1.68%%\n",
      "url: http://print.mipt.ru/pay/#visa page_rank: 1.37%%\n",
      "url: http://print.mipt.ru/forum/ page_rank: 5.81%%\n",
      "url: http://print.mipt.ru/forum page_rank: 1.41%%\n",
      "url: http://print.mipt.ru/lib/ page_rank: 5.81%%\n",
      "url: http://print.mipt.ru/printer.ppd page_rank: 2.66%%\n",
      "url: http://print.mipt.ru/news/ page_rank: 5.81%%\n",
      "url: http://print.mipt.ru/doc/xp3 page_rank: 1.27%%\n",
      "url: http://print.mipt.ru/doc/delete_shared page_rank: 1.32%%\n",
      "url: http://print.mipt.ru/doc/change_driver page_rank: 1.48%%\n",
      "url: http://print.mipt.ru/doc/xp/ page_rank: 2.70%%\n",
      "url: http://print.mipt.ru/login/ page_rank: 1.28%%\n",
      "url: http://print.mipt.ru/pay/#sms page_rank: 1.37%%\n",
      "url: http://print.mipt.ru/doc/vista2 page_rank: 1.38%%\n",
      "url: http://print.mipt.ru/doc/vista3 page_rank: 1.27%%\n",
      "url: http://print.mipt.ru/doc/change_port page_rank: 1.32%%\n",
      "url: http://print.mipt.ru/driver.tar page_rank: 2.65%%\n",
      "url: http://print.mipt.ru/doc/linux/ page_rank: 2.70%%\n",
      "url: http://print.mipt.ru/doc/vista/ page_rank: 2.70%%\n",
      "url: http://print.mipt.ru/doc/xp2 page_rank: 1.33%%\n",
      "url: http://print.mipt.ru/driver.zip page_rank: 3.27%%\n",
      "url: http://print.mipt.ru page_rank: 1.56%%\n",
      "url: http://print.mipt.ru/pay/#wm page_rank: 1.37%%\n",
      "url: http://print.mipt.ru/pay/ page_rank: 5.81%%\n"
     ]
    }
   ],
   "source": [
    "for url in pr:\n",
    "    print ('url: {0} page_rank: {1:.2f}%%'.format(url, 100 * pr[url]))"
   ]
  }
 ],
 "metadata": {
  "kernelspec": {
   "display_name": "Python 3",
   "language": "python",
   "name": "python3"
  },
  "language_info": {
   "codemirror_mode": {
    "name": "ipython",
    "version": 3
   },
   "file_extension": ".py",
   "mimetype": "text/x-python",
   "name": "python",
   "nbconvert_exporter": "python",
   "pygments_lexer": "ipython3",
   "version": "3.5.2"
  }
 },
 "nbformat": 4,
 "nbformat_minor": 0
}
