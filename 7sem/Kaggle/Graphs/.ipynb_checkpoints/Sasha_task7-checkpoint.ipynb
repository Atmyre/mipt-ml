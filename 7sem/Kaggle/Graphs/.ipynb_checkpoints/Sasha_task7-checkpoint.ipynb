{
 "cells": [
  {
   "cell_type": "markdown",
   "metadata": {},
   "source": [
    "## Домашнее здание №2 / Link Prediction\n",
    "\n",
    "### Фамилия Имя / Группа\n",
    "\n",
    "----\n",
    "План выполнения домашнего задания:\n",
    "\n",
    "1. Краткий обзор исходных данных\n",
    "2. Генерация дополнительных данных\n",
    "3. Создание матрицы признаков для ребер\n",
    "4. Настройка модели и валидация качества модели\n",
    "5. Отправка результатов в контест на Kaggle"
   ]
  },
  {
   "cell_type": "markdown",
   "metadata": {},
   "source": [
    "----\n",
    "\n",
    "В данном домашнем задании вам предстоит построить классификатор, который бы предсказывал наличие или отсутствия ребра в графе между двумя вершинами. Никакой дополнительной информации о вершинах, кроме ее соседей нет, поэтому вам придется создавать вектор признаков для каждой пары вершин на основе топологии графа.\n",
    "\n",
    "Вершины графа - товары интернет магазина, наличие ребра символизируют о высокой частоте совместной покупки данных товаров вместе. Например если в нашем графе присутствую вершины молоко и хлеб и данные товары часто покупаются вместе, то между данными вершинами будет ребро. Если в нашем графе есть вершины молоко и кроссовки, то между данными вершинами ребра не будет. \n",
    "\n",
    "В данном датасете уровень относительной частоты по которому решается есть ребро между вершинами или его нет был определен за нас. Сам датасет был получен краулингом сайта Amazon.com в марте 2003 года, парсилась секция \"Люди которые купили данный продукт, также преобретали это...\"\n",
    "\n",
    "Мотивация данного задания: Расширить список блока рекомендаций, за счет товаров которые с высокой вероятность могут оказаться в одной корзине покупателя.\n",
    "\n",
    "----\n",
    "Для создания модели и работы с данными мы будем использовать пакет GraphLab, структуры данных SFrame и SGraph идеально подходят для работы с графами. Распределенное хранение данных и применения функций для расчета метрик отдельных вершин сильно облегчают работу с графом.\n",
    "\n",
    "Библиотека платная, но лицензия для академических целей получается в течении 5 минут, чтобы установить пакет следуйте шагам на сайте - https://turi.com/download/academic.html\n",
    "\n",
    "----"
   ]
  },
  {
   "cell_type": "markdown",
   "metadata": {},
   "source": [
    "Описание файлов:\n",
    "\n",
    "1. the_graph.csv - файл содержащий ребра графа, две колонки: src,dst \n",
    "2. suspicions.csv - файл с ребрами, графа. Для данных ребер неизвестно присутствует ли оно в графе или нет.\n",
    "\n",
    "Описание целевой метрики - в качестве целевой метрики будем использовать ROC AUC http://mlwiki.org/index.php/ROC_Analysis"
   ]
  },
  {
   "cell_type": "markdown",
   "metadata": {},
   "source": [
    "----"
   ]
  },
  {
   "cell_type": "code",
   "execution_count": 1,
   "metadata": {
    "collapsed": false
   },
   "outputs": [],
   "source": [
    "import graphlab as gl\n",
    "import numpy as np\n",
    "import pandas as pd\n",
    "import networkx as nx\n",
    "import matplotlib.pyplot as plt\n",
    "%matplotlib inline\n",
    "\n",
    "gl.canvas.set_target('ipynb')"
   ]
  },
  {
   "cell_type": "markdown",
   "metadata": {},
   "source": [
    "### 1. Краткий обзор исходных данных - 10 Баллов\n",
    "\n",
    "Загрузим данные, найдем ряд базовых статистик:\n",
    "\n",
    "1. Количество вершин и ребер\n",
    "2. Распределение степеней вершин графа (График log - log)\n",
    "3. Плотность графа\n",
    "4. Диаметр графа\n",
    "5. Количество треугольников в графе\n",
    "6. Краткие выводы о данных.\n",
    "7. БОНУСЫ - сделайте красивую визулизацию или расчет дополнительных метрик с выводами и вы получите дополнительные баллы за задание"
   ]
  },
  {
   "cell_type": "code",
   "execution_count": 2,
   "metadata": {
    "collapsed": false
   },
   "outputs": [
    {
     "name": "stdout",
     "output_type": "stream",
     "text": [
      "This non-commercial license of GraphLab Create for academic use is assigned to matushkin@phystech.edu and will expire on November 06, 2017.\n"
     ]
    },
    {
     "name": "stderr",
     "output_type": "stream",
     "text": [
      "[INFO] graphlab.cython.cy_server: GraphLab Create v2.1 started. Logging: C:\\Users\\ASUS-PC\\AppData\\Local\\Temp\\graphlab_server_1478871840.log.0\n"
     ]
    }
   ],
   "source": [
    "edges = gl.SFrame.read_csv('the_graph.csv', delimiter=',', verbose=False)\n",
    "g = gl.SGraph().add_edges(edges, src_field='src', dst_field='dst')"
   ]
  },
  {
   "cell_type": "code",
   "execution_count": 3,
   "metadata": {
    "collapsed": true
   },
   "outputs": [],
   "source": [
    "def print_graph_info():\n",
    "    vert_edgs = g.summary()\n",
    "    print 'Number of vertices: {0}'.format(vert_edgs['num_vertices'])\n",
    "    print 'Number of edges: {0}'.format(vert_edgs['num_edges'])\n",
    "    \n",
    "    deg = sorted(gl.degree_counting.create(g).graph.get_vertices()['total_degree'], reverse=True)\n",
    "    plt.hist(deg, bins=20, log=True, facecolor='red', alpha=0.75)\n",
    "    plt.xlabel('Degree')\n",
    "    plt.ylabel('Number of vertices')\n",
    "    plt.title('Histogram of degree distribution')\n",
    "    # plt.xscale('log')\n",
    "    plt.show()\n",
    "    \n",
    "    print 'Graph density: %f' % (float(vert_edgs['num_edges']) / vert_edgs['num_vertices'])\n",
    "    print\n",
    "    \n",
    "    G = nx.Graph()\n",
    "    G.add_nodes_from(range(vert_edgs['num_vertices']))\n",
    "    G.add_edges_from(g.get_edges().to_numpy())\n",
    "    eccs = nx.eccentricity(G, v=np.random.choice(range(vert_edgs['num_vertices']), size=100, replace=False))\n",
    "    print 'Diameter of graph >= ', max(eccs.itervalues())\n",
    "    # print 'Diameter of graph: %d' % nx.diameter(G)\n",
    "    \n",
    "    print 'Number of triangles: %d' % gl.triangle_counting.create(g, verbose=False).num_triangles"
   ]
  },
  {
   "cell_type": "code",
   "execution_count": 4,
   "metadata": {
    "collapsed": false
   },
   "outputs": [
    {
     "name": "stdout",
     "output_type": "stream",
     "text": [
      "Number of vertices: 262111\n",
      "Number of edges: 1384871\n"
     ]
    },
    {
     "data": {
      "image/png": "[encoded data removed]",
      "text/plain": [
       "<matplotlib.figure.Figure at 0x3a38e80>"
      ]
     },
     "metadata": {},
     "output_type": "display_data"
    },
    {
     "name": "stdout",
     "output_type": "stream",
     "text": [
      "Graph density: 5.283529\n",
      "\n",
      "Diameter of graph >=  11\n",
      "Number of triangles: 717754\n"
     ]
    }
   ],
   "source": [
    "vert_edgs = g.summary()\n",
    "print_graph_info()"
   ]
  },
  {
   "cell_type": "markdown",
   "metadata": {},
   "source": [
    "Выводы: большой разреженный граф с малым диаметром."
   ]
  },
  {
   "cell_type": "markdown",
   "metadata": {},
   "source": [
    "----\n",
    "### 2. Генерация дополнительных данных - 20 Баллов\n",
    "\n",
    "Перед нами стоит задача создания модели классификации, которая в дальнейшем будет использоваться для повышения разнообразия блока рекомендаций. Для большинства моделей классификации требуется минимум 2 класса объектов - негативный и позитивный. Но у нас есть только граф, ребра которые в нем присутствуют это позитивные примеры. Получается, что у нас нет негативных примеров. \n",
    "\n",
    "Ответьте на 3 вопроса:\n",
    "\n",
    "1. Можем ли мы сами создать негативные примеры? Граф это описание связей между вершинами, если мы будем случайным образом выбирать две вершины и считать, что это ребро - негативный пример, имеет ли это смысл?\n",
    "2. Если мы решим сгенерировать негативные примеры, как должна быть устроена процедура генерации, чтобы обобщаяющая способность модели была наилучшей?\n",
    "3. Как зависит обобщающая способность модели от негативных примеров, которые мы ей покажем?"
   ]
  },
  {
   "cell_type": "markdown",
   "metadata": {},
   "source": [
    "1. Можем. Имеет, но это не лучший способ.\n",
    "2. Если каждый раз брать две случайные вершины, то мы часто будем получать вершины из разных кластеров, про которые \"и так понятно\", что они не соединены ребром. Стоит взять побольше негативных примеров, которые похожи на позитивные.\n",
    "3. Отрицательные примеры, которые мы выделим на train-графе должны быть похожи на большинство пар несмежных вершин, тогда, возможно, все будет ОК, иначе модель будет обладать низкой обучающей способностью."
   ]
  },
  {
   "cell_type": "markdown",
   "metadata": {},
   "source": [
    "Создадим класс отрицательных примеров, сгенерировав его самым простым образом: берем две вершины, если ребро между ними отсутствует в графе, то это отрицательный пример.\n",
    "\n",
    "1. Попробуйте улучшить генерацию отрицательных примеров"
   ]
  },
  {
   "cell_type": "code",
   "execution_count": 5,
   "metadata": {
    "collapsed": false
   },
   "outputs": [
    {
     "name": "stdout",
     "output_type": "stream",
     "text": [
      "1384871\n"
     ]
    }
   ],
   "source": [
    "# read in existing edges\n",
    "graph_file = open('the_graph.csv')\n",
    "graph_file.readline() # first line is column names\n",
    "existing_edges = set()\n",
    "\n",
    "for x in graph_file:\n",
    "    start, end = x.split(',')\n",
    "    start, end = int(start), int(end)\n",
    "    existing_edges.add((start, end))\n",
    "    \n",
    "print len(existing_edges)"
   ]
  },
  {
   "cell_type": "code",
   "execution_count": 6,
   "metadata": {
    "collapsed": false
   },
   "outputs": [
    {
     "name": "stdout",
     "output_type": "stream",
     "text": [
      "1384836\n"
     ]
    }
   ],
   "source": [
    "# generating negative examples, so that class balance is 50/50 \n",
    "generated_nonexisting_edges = []\n",
    "counter = 0\n",
    "while True:\n",
    "    start = np.random.randint(0, vert_edgs['num_vertices'])\n",
    "    end = np.random.randint(0, vert_edgs['num_vertices'])\n",
    "    \n",
    "    if (start != end) & ((start, end) not in existing_edges):\n",
    "        generated_nonexisting_edges.append([start, end, 0])\n",
    "        \n",
    "    counter += 1\n",
    "    if counter == vert_edgs['num_edges']:\n",
    "        break\n",
    "\n",
    "print len(generated_nonexisting_edges)"
   ]
  },
  {
   "cell_type": "code",
   "execution_count": 7,
   "metadata": {
    "collapsed": false
   },
   "outputs": [],
   "source": [
    "# create SFrame with negative examples\n",
    "generated_nonexisting_edges = pd.DataFrame(data=generated_nonexisting_edges, columns=['src', 'dst', 'class'])\n",
    "generated_nonexisting_edges = gl.SFrame(data=generated_nonexisting_edges)"
   ]
  },
  {
   "cell_type": "code",
   "execution_count": 8,
   "metadata": {
    "collapsed": true
   },
   "outputs": [],
   "source": [
    "# add target function to the original dataset \n",
    "edges['class'] = [1] * edges.shape[0]"
   ]
  },
  {
   "cell_type": "code",
   "execution_count": 9,
   "metadata": {
    "collapsed": false
   },
   "outputs": [],
   "source": [
    "# add negative examples to the main data and shuffle\n",
    "edges = edges.append(generated_nonexisting_edges)\n",
    "edges = gl.cross_validation.shuffle(edges)"
   ]
  },
  {
   "cell_type": "code",
   "execution_count": 10,
   "metadata": {
    "collapsed": false
   },
   "outputs": [],
   "source": [
    "# update our graph g with fake edges\n",
    "g = gl.SGraph().add_edges(edges, src_field='src', dst_field='dst')"
   ]
  },
  {
   "cell_type": "code",
   "execution_count": 11,
   "metadata": {
    "collapsed": false
   },
   "outputs": [
    {
     "name": "stdout",
     "output_type": "stream",
     "text": [
      "Number of vertices = 262111\n",
      "Number of edges = 2769707\n"
     ]
    }
   ],
   "source": [
    "vert_edgs = g.summary()\n",
    "\n",
    "print 'Number of vertices = {0}'.format(vert_edgs['num_vertices'])\n",
    "print 'Number of edges = {0}'.format(vert_edgs['num_edges'])"
   ]
  },
  {
   "cell_type": "markdown",
   "metadata": {},
   "source": [
    "----\n",
    "### 3. Создание матрицы признаков для ребер - 30 Баллов\n",
    "\n",
    "Для создания модели классификации нам необходимы признаки, которые описывают каждое ребро. Вот базовый список того, что можно посчитать:\n",
    "\n",
    "Для вершин:\n",
    "\n",
    "1. Список и количество вершин, из которых ребра приходят в данную вершину\n",
    "2. Список и количество вершин, в которые ребра приходят из данной вершины\n",
    "3. Список и количество вершин связанных с данной вершиной\n",
    "4. Список и количество вершин, которые связанны с данной вершиной как входящими, так и исходящими ребрами\n",
    "\n",
    "Также можно добавить: вершины с которыми данная вершина образует треугольники, кластеризовать вершины и использовать кластер данной вершины и др.\n",
    "\n",
    "Придумайте дополнительные интересные признаки для вершин и вы получите дополнительный балл за домашнюю работу!"
   ]
  },
  {
   "cell_type": "code",
   "execution_count": 12,
   "metadata": {
    "collapsed": false
   },
   "outputs": [],
   "source": [
    "all_vertices = g.get_vertices()\n",
    "_ = all_vertices.rename({\"__id\": \"id\"}) "
   ]
  },
  {
   "cell_type": "code",
   "execution_count": 13,
   "metadata": {
    "collapsed": false
   },
   "outputs": [
    {
     "name": "stdout",
     "output_type": "stream",
     "text": [
      "\n"
     ]
    }
   ],
   "source": [
    "# calculating each vertices in and out connections\n",
    "out_vertices = edges.groupby(\"src\", {\"out_vertices\": gl.aggregate.CONCAT(\"dst\")})\n",
    "out_vertices.rename({\"src\": \"id\"})\n",
    "\n",
    "in_vertices = edges.groupby(\"dst\", {\"in_vertices\": gl.aggregate.CONCAT(\"src\")})\n",
    "in_vertices.rename({\"dst\": \"id\"})\n",
    "print"
   ]
  },
  {
   "cell_type": "markdown",
   "metadata": {},
   "source": [
    "Мы получили базовый набор данных - список входящих и исходящих вершин, для каждой вершины. Теперь найдем количества вершин для метрик 1 и 2. Метрики 3 и 4 вы посчитаете сами"
   ]
  },
  {
   "cell_type": "code",
   "execution_count": 14,
   "metadata": {
    "collapsed": false
   },
   "outputs": [],
   "source": [
    "all_vertices = all_vertices.join(in_vertices, on=\"id\", how=\"outer\")\n",
    "all_vertices = all_vertices.fillna('in_vertices', [])\n",
    "all_vertices['in_degree'] = all_vertices[\"in_vertices\"].apply(lambda x: len(x))\n",
    "\n",
    "all_vertices = all_vertices.join(out_vertices, on=\"id\", how=\"outer\")\n",
    "all_vertices = all_vertices.fillna('out_vertices', [])\n",
    "all_vertices['out_degree'] = all_vertices[\"out_vertices\"].apply(lambda x: len(x))\n",
    "\n",
    "all_vertices['adj_vertices'] =  all_vertices.apply(lambda x : list(set(x['in_vertices']) | set(x['out_vertices'])))\n",
    "all_vertices['degree'] =  all_vertices['adj_vertices'].apply(lambda x: len(x))\n",
    "\n",
    "all_vertices['dadj_vertices'] =  all_vertices.apply(lambda x : list(set(x['in_vertices']) & set(x['out_vertices'])))\n",
    "all_vertices['ddegree'] = all_vertices['dadj_vertices'].apply(lambda x: len(x))"
   ]
  },
  {
   "cell_type": "code",
   "execution_count": 15,
   "metadata": {
    "collapsed": false
   },
   "outputs": [
    {
     "data": {
      "text/html": [
       "<div style=\"max-height:1000px;max-width:1500px;overflow:auto;\"><table frame=\"box\" rules=\"cols\">\n",
       "    <tr>\n",
       "        <th style=\"padding-left: 1em; padding-right: 1em; text-align: center\">id</th>\n",
       "        <th style=\"padding-left: 1em; padding-right: 1em; text-align: center\">in_vertices</th>\n",
       "        <th style=\"padding-left: 1em; padding-right: 1em; text-align: center\">in_degree</th>\n",
       "        <th style=\"padding-left: 1em; padding-right: 1em; text-align: center\">out_vertices</th>\n",
       "        <th style=\"padding-left: 1em; padding-right: 1em; text-align: center\">out_degree</th>\n",
       "    </tr>\n",
       "    <tr>\n",
       "        <td style=\"padding-left: 1em; padding-right: 1em; text-align: center; vertical-align: top\">251434</td>\n",
       "        <td style=\"padding-left: 1em; padding-right: 1em; text-align: center; vertical-align: top\">[250137, 255119, 241309,<br>8282, 51611] ...</td>\n",
       "        <td style=\"padding-left: 1em; padding-right: 1em; text-align: center; vertical-align: top\">5</td>\n",
       "        <td style=\"padding-left: 1em; padding-right: 1em; text-align: center; vertical-align: top\">[4126, 250137, 166244,<br>240147, 255119, 255120, ...</td>\n",
       "        <td style=\"padding-left: 1em; padding-right: 1em; text-align: center; vertical-align: top\">7</td>\n",
       "    </tr>\n",
       "    <tr>\n",
       "        <td style=\"padding-left: 1em; padding-right: 1em; text-align: center; vertical-align: top\">211023</td>\n",
       "        <td style=\"padding-left: 1em; padding-right: 1em; text-align: center; vertical-align: top\">[209072, 244460, 236267,<br>130553, 224018, 64011, ...</td>\n",
       "        <td style=\"padding-left: 1em; padding-right: 1em; text-align: center; vertical-align: top\">10</td>\n",
       "        <td style=\"padding-left: 1em; padding-right: 1em; text-align: center; vertical-align: top\">[20596, 181032, 189714,<br>114604, 189713, 210448, ...</td>\n",
       "        <td style=\"padding-left: 1em; padding-right: 1em; text-align: center; vertical-align: top\">11</td>\n",
       "    </tr>\n",
       "    <tr>\n",
       "        <td style=\"padding-left: 1em; padding-right: 1em; text-align: center; vertical-align: top\">21855</td>\n",
       "        <td style=\"padding-left: 1em; padding-right: 1em; text-align: center; vertical-align: top\">[63745, 93708, 21854,<br>233053, 191808, 135483, ...</td>\n",
       "        <td style=\"padding-left: 1em; padding-right: 1em; text-align: center; vertical-align: top\">15</td>\n",
       "        <td style=\"padding-left: 1em; padding-right: 1em; text-align: center; vertical-align: top\">[25116, 162978, 25114,<br>245381, 21854, 15075, ...</td>\n",
       "        <td style=\"padding-left: 1em; padding-right: 1em; text-align: center; vertical-align: top\">9</td>\n",
       "    </tr>\n",
       "</table>\n",
       "<table frame=\"box\" rules=\"cols\">\n",
       "    <tr>\n",
       "        <th style=\"padding-left: 1em; padding-right: 1em; text-align: center\">adj_vertices</th>\n",
       "        <th style=\"padding-left: 1em; padding-right: 1em; text-align: center\">degree</th>\n",
       "        <th style=\"padding-left: 1em; padding-right: 1em; text-align: center\">dadj_vertices</th>\n",
       "        <th style=\"padding-left: 1em; padding-right: 1em; text-align: center\">ddegree</th>\n",
       "    </tr>\n",
       "    <tr>\n",
       "        <td style=\"padding-left: 1em; padding-right: 1em; text-align: center; vertical-align: top\">[166244.0, 95066.0,<br>255119.0, 255120.0, ...</td>\n",
       "        <td style=\"padding-left: 1em; padding-right: 1em; text-align: center; vertical-align: top\">10</td>\n",
       "        <td style=\"padding-left: 1em; padding-right: 1em; text-align: center; vertical-align: top\">[250137.0, 255119.0]</td>\n",
       "        <td style=\"padding-left: 1em; padding-right: 1em; text-align: center; vertical-align: top\">2</td>\n",
       "    </tr>\n",
       "    <tr>\n",
       "        <td style=\"padding-left: 1em; padding-right: 1em; text-align: center; vertical-align: top\">[210448.0, 129442.0,<br>236267.0, 159269.0, ...</td>\n",
       "        <td style=\"padding-left: 1em; padding-right: 1em; text-align: center; vertical-align: top\">19</td>\n",
       "        <td style=\"padding-left: 1em; padding-right: 1em; text-align: center; vertical-align: top\">[233626.0, 198886.0]</td>\n",
       "        <td style=\"padding-left: 1em; padding-right: 1em; text-align: center; vertical-align: top\">2</td>\n",
       "    </tr>\n",
       "    <tr>\n",
       "        <td style=\"padding-left: 1em; padding-right: 1em; text-align: center; vertical-align: top\">[191808.0, 63745.0,<br>116932.0, 245381.0, ...</td>\n",
       "        <td style=\"padding-left: 1em; padding-right: 1em; text-align: center; vertical-align: top\">21</td>\n",
       "        <td style=\"padding-left: 1em; padding-right: 1em; text-align: center; vertical-align: top\">[15075.0, 25116.0,<br>21854.0] ...</td>\n",
       "        <td style=\"padding-left: 1em; padding-right: 1em; text-align: center; vertical-align: top\">3</td>\n",
       "    </tr>\n",
       "</table>\n",
       "[3 rows x 9 columns]<br/>\n",
       "</div>"
      ],
      "text/plain": [
       "Columns:\n",
       "\tid\tint\n",
       "\tin_vertices\tlist\n",
       "\tin_degree\tint\n",
       "\tout_vertices\tlist\n",
       "\tout_degree\tint\n",
       "\tadj_vertices\tarray\n",
       "\tdegree\tint\n",
       "\tdadj_vertices\tarray\n",
       "\tddegree\tint\n",
       "\n",
       "Rows: 3\n",
       "\n",
       "Data:\n",
       "+--------+-------------------------------+-----------+\n",
       "|   id   |          in_vertices          | in_degree |\n",
       "+--------+-------------------------------+-----------+\n",
       "| 251434 | [250137, 255119, 241309, 8... |     5     |\n",
       "| 211023 | [209072, 244460, 236267, 1... |     10    |\n",
       "| 21855  | [63745, 93708, 21854, 2330... |     15    |\n",
       "+--------+-------------------------------+-----------+\n",
       "+-------------------------------+------------+-------------------------------+\n",
       "|          out_vertices         | out_degree |          adj_vertices         |\n",
       "+-------------------------------+------------+-------------------------------+\n",
       "| [4126, 250137, 166244, 240... |     7      | [166244.0, 95066.0, 255119... |\n",
       "| [20596, 181032, 189714, 11... |     11     | [210448.0, 129442.0, 23626... |\n",
       "| [25116, 162978, 25114, 245... |     9      | [191808.0, 63745.0, 116932... |\n",
       "+-------------------------------+------------+-------------------------------+\n",
       "+--------+-----------------------------+---------+\n",
       "| degree |        dadj_vertices        | ddegree |\n",
       "+--------+-----------------------------+---------+\n",
       "|   10   |     [250137.0, 255119.0]    |    2    |\n",
       "|   19   |     [233626.0, 198886.0]    |    2    |\n",
       "|   21   | [15075.0, 25116.0, 21854.0] |    3    |\n",
       "+--------+-----------------------------+---------+\n",
       "[3 rows x 9 columns]"
      ]
     },
     "execution_count": 15,
     "metadata": {},
     "output_type": "execute_result"
    }
   ],
   "source": [
    "all_vertices.head(3)"
   ]
  },
  {
   "cell_type": "markdown",
   "metadata": {},
   "source": [
    "Мы получили характеристики для каждой вершины графа. Так как у нас задача предсказания наличия ребра, мы должны составить описание каждого ребра, используя метрики вершин. После составления характеристик ребер, мы можем перейти к генерации свойств ребер, взяв за основу метрики вершин ребра. Пример метрик для ребер, которые мы можем найти:\n",
    "\n",
    "1. Общие друзья вершин ребра\n",
    "2. Общее количество друзей вершин ребра\n",
    "3. Коэффициенты Жаккара, Пирсона, Адамик - Адара, косинусная мера\n",
    "\n",
    "Данные метрики находятся для каждого списка вершин, пунктов 1 - 4"
   ]
  },
  {
   "cell_type": "code",
   "execution_count": 16,
   "metadata": {
    "collapsed": false
   },
   "outputs": [
    {
     "data": {
      "text/html": [
       "<div style=\"max-height:1000px;max-width:1500px;overflow:auto;\"><table frame=\"box\" rules=\"cols\">\n",
       "    <tr>\n",
       "        <th style=\"padding-left: 1em; padding-right: 1em; text-align: center\">src</th>\n",
       "        <th style=\"padding-left: 1em; padding-right: 1em; text-align: center\">dst</th>\n",
       "        <th style=\"padding-left: 1em; padding-right: 1em; text-align: center\">class</th>\n",
       "        <th style=\"padding-left: 1em; padding-right: 1em; text-align: center\">src_in_vertices</th>\n",
       "        <th style=\"padding-left: 1em; padding-right: 1em; text-align: center\">src_in_degree</th>\n",
       "        <th style=\"padding-left: 1em; padding-right: 1em; text-align: center\">src_out_vertices</th>\n",
       "        <th style=\"padding-left: 1em; padding-right: 1em; text-align: center\">src_out_degree</th>\n",
       "    </tr>\n",
       "    <tr>\n",
       "        <td style=\"padding-left: 1em; padding-right: 1em; text-align: center; vertical-align: top\">252052</td>\n",
       "        <td style=\"padding-left: 1em; padding-right: 1em; text-align: center; vertical-align: top\">251924</td>\n",
       "        <td style=\"padding-left: 1em; padding-right: 1em; text-align: center; vertical-align: top\">1</td>\n",
       "        <td style=\"padding-left: 1em; padding-right: 1em; text-align: center; vertical-align: top\">[87115, 12038, 251922,<br>256696, 178642, 4349, ...</td>\n",
       "        <td style=\"padding-left: 1em; padding-right: 1em; text-align: center; vertical-align: top\">9</td>\n",
       "        <td style=\"padding-left: 1em; padding-right: 1em; text-align: center; vertical-align: top\">[251924, 246918, 90665,<br>45193, 89021, 256696, ...</td>\n",
       "        <td style=\"padding-left: 1em; padding-right: 1em; text-align: center; vertical-align: top\">15</td>\n",
       "    </tr>\n",
       "    <tr>\n",
       "        <td style=\"padding-left: 1em; padding-right: 1em; text-align: center; vertical-align: top\">20261</td>\n",
       "        <td style=\"padding-left: 1em; padding-right: 1em; text-align: center; vertical-align: top\">224050</td>\n",
       "        <td style=\"padding-left: 1em; padding-right: 1em; text-align: center; vertical-align: top\">0</td>\n",
       "        <td style=\"padding-left: 1em; padding-right: 1em; text-align: center; vertical-align: top\">[111798, 249619, 1617,<br>228586, 33221, 35140, ...</td>\n",
       "        <td style=\"padding-left: 1em; padding-right: 1em; text-align: center; vertical-align: top\">11</td>\n",
       "        <td style=\"padding-left: 1em; padding-right: 1em; text-align: center; vertical-align: top\">[224050, 3605, 220011,<br>173016, 5134, 131429, ...</td>\n",
       "        <td style=\"padding-left: 1em; padding-right: 1em; text-align: center; vertical-align: top\">12</td>\n",
       "    </tr>\n",
       "    <tr>\n",
       "        <td style=\"padding-left: 1em; padding-right: 1em; text-align: center; vertical-align: top\">88662</td>\n",
       "        <td style=\"padding-left: 1em; padding-right: 1em; text-align: center; vertical-align: top\">158126</td>\n",
       "        <td style=\"padding-left: 1em; padding-right: 1em; text-align: center; vertical-align: top\">0</td>\n",
       "        <td style=\"padding-left: 1em; padding-right: 1em; text-align: center; vertical-align: top\">[12650, 83634, 83831,<br>33623, 88366, 25997, ...</td>\n",
       "        <td style=\"padding-left: 1em; padding-right: 1em; text-align: center; vertical-align: top\">7</td>\n",
       "        <td style=\"padding-left: 1em; padding-right: 1em; text-align: center; vertical-align: top\">[158126, 213125, 86433,<br>136572, 11603, 117833, ...</td>\n",
       "        <td style=\"padding-left: 1em; padding-right: 1em; text-align: center; vertical-align: top\">12</td>\n",
       "    </tr>\n",
       "</table>\n",
       "<table frame=\"box\" rules=\"cols\">\n",
       "    <tr>\n",
       "        <th style=\"padding-left: 1em; padding-right: 1em; text-align: center\">src_adj_vertices</th>\n",
       "        <th style=\"padding-left: 1em; padding-right: 1em; text-align: center\">src_degree</th>\n",
       "        <th style=\"padding-left: 1em; padding-right: 1em; text-align: center\">src_dadj_vertices</th>\n",
       "        <th style=\"padding-left: 1em; padding-right: 1em; text-align: center\">src_ddegree</th>\n",
       "        <th style=\"padding-left: 1em; padding-right: 1em; text-align: center\">dst_in_vertices</th>\n",
       "        <th style=\"padding-left: 1em; padding-right: 1em; text-align: center\">dst_in_degree</th>\n",
       "    </tr>\n",
       "    <tr>\n",
       "        <td style=\"padding-left: 1em; padding-right: 1em; text-align: center; vertical-align: top\">[89021.0, 12038.0,<br>45193.0, 87115.0, ...</td>\n",
       "        <td style=\"padding-left: 1em; padding-right: 1em; text-align: center; vertical-align: top\">20</td>\n",
       "        <td style=\"padding-left: 1em; padding-right: 1em; text-align: center; vertical-align: top\">[256696.0, 251922.0,<br>251924.0, 256695.0] ...</td>\n",
       "        <td style=\"padding-left: 1em; padding-right: 1em; text-align: center; vertical-align: top\">4</td>\n",
       "        <td style=\"padding-left: 1em; padding-right: 1em; text-align: center; vertical-align: top\">[252052, 256695, 44500,<br>147663, 253148, 154657, ...</td>\n",
       "        <td style=\"padding-left: 1em; padding-right: 1em; text-align: center; vertical-align: top\">10</td>\n",
       "    </tr>\n",
       "    <tr>\n",
       "        <td style=\"padding-left: 1em; padding-right: 1em; text-align: center; vertical-align: top\">[2625.0, 182914.0,<br>63427.0, 35140.0, ...</td>\n",
       "        <td style=\"padding-left: 1em; padding-right: 1em; text-align: center; vertical-align: top\">22</td>\n",
       "        <td style=\"padding-left: 1em; padding-right: 1em; text-align: center; vertical-align: top\">[35140.0]</td>\n",
       "        <td style=\"padding-left: 1em; padding-right: 1em; text-align: center; vertical-align: top\">1</td>\n",
       "        <td style=\"padding-left: 1em; padding-right: 1em; text-align: center; vertical-align: top\">[20261, 224048, 165807,<br>162767, 241207, 22558, ...</td>\n",
       "        <td style=\"padding-left: 1em; padding-right: 1em; text-align: center; vertical-align: top\">9</td>\n",
       "    </tr>\n",
       "    <tr>\n",
       "        <td style=\"padding-left: 1em; padding-right: 1em; text-align: center; vertical-align: top\">[50436.0, 213125.0,<br>117833.0, 127735.0, ...</td>\n",
       "        <td style=\"padding-left: 1em; padding-right: 1em; text-align: center; vertical-align: top\">19</td>\n",
       "        <td style=\"padding-left: 1em; padding-right: 1em; text-align: center; vertical-align: top\">[]</td>\n",
       "        <td style=\"padding-left: 1em; padding-right: 1em; text-align: center; vertical-align: top\">0</td>\n",
       "        <td style=\"padding-left: 1em; padding-right: 1em; text-align: center; vertical-align: top\">[88662, 158124, 155412,<br>158125, 111512, 236076, ...</td>\n",
       "        <td style=\"padding-left: 1em; padding-right: 1em; text-align: center; vertical-align: top\">8</td>\n",
       "    </tr>\n",
       "</table>\n",
       "<table frame=\"box\" rules=\"cols\">\n",
       "    <tr>\n",
       "        <th style=\"padding-left: 1em; padding-right: 1em; text-align: center\">dst_out_vertices</th>\n",
       "        <th style=\"padding-left: 1em; padding-right: 1em; text-align: center\">dst_out_degree</th>\n",
       "        <th style=\"padding-left: 1em; padding-right: 1em; text-align: center\">dst_adj_vertices</th>\n",
       "        <th style=\"padding-left: 1em; padding-right: 1em; text-align: center\">dst_degree</th>\n",
       "        <th style=\"padding-left: 1em; padding-right: 1em; text-align: center\">dst_dadj_vertices</th>\n",
       "        <th style=\"padding-left: 1em; padding-right: 1em; text-align: center\">dst_ddegree</th>\n",
       "    </tr>\n",
       "    <tr>\n",
       "        <td style=\"padding-left: 1em; padding-right: 1em; text-align: center; vertical-align: top\">[226628, 251923, 87542,<br>52769, 252051, 251925, ...</td>\n",
       "        <td style=\"padding-left: 1em; padding-right: 1em; text-align: center; vertical-align: top\">10</td>\n",
       "        <td style=\"padding-left: 1em; padding-right: 1em; text-align: center; vertical-align: top\">[251923.0, 154657.0,<br>226628.0, 243553.0, ...</td>\n",
       "        <td style=\"padding-left: 1em; padding-right: 1em; text-align: center; vertical-align: top\">19</td>\n",
       "        <td style=\"padding-left: 1em; padding-right: 1em; text-align: center; vertical-align: top\">[252052.0]</td>\n",
       "        <td style=\"padding-left: 1em; padding-right: 1em; text-align: center; vertical-align: top\">1</td>\n",
       "    </tr>\n",
       "    <tr>\n",
       "        <td style=\"padding-left: 1em; padding-right: 1em; text-align: center; vertical-align: top\">[6328, 224049, 220296,<br>179619, 205894, 179620, ...</td>\n",
       "        <td style=\"padding-left: 1em; padding-right: 1em; text-align: center; vertical-align: top\">10</td>\n",
       "        <td style=\"padding-left: 1em; padding-right: 1em; text-align: center; vertical-align: top\">[191009.0, 179619.0,<br>179620.0, 20261.0, ...</td>\n",
       "        <td style=\"padding-left: 1em; padding-right: 1em; text-align: center; vertical-align: top\">17</td>\n",
       "        <td style=\"padding-left: 1em; padding-right: 1em; text-align: center; vertical-align: top\">[220296.0, 224049.0]</td>\n",
       "        <td style=\"padding-left: 1em; padding-right: 1em; text-align: center; vertical-align: top\">2</td>\n",
       "    </tr>\n",
       "    <tr>\n",
       "        <td style=\"padding-left: 1em; padding-right: 1em; text-align: center; vertical-align: top\">[48419, 103777, 105762,<br>253362, 204114, 158125, ...</td>\n",
       "        <td style=\"padding-left: 1em; padding-right: 1em; text-align: center; vertical-align: top\">10</td>\n",
       "        <td style=\"padding-left: 1em; padding-right: 1em; text-align: center; vertical-align: top\">[103777.0, 105762.0,<br>48419.0, 65924.0, ...</td>\n",
       "        <td style=\"padding-left: 1em; padding-right: 1em; text-align: center; vertical-align: top\">15</td>\n",
       "        <td style=\"padding-left: 1em; padding-right: 1em; text-align: center; vertical-align: top\">[158124.0, 158125.0,<br>144470.0] ...</td>\n",
       "        <td style=\"padding-left: 1em; padding-right: 1em; text-align: center; vertical-align: top\">3</td>\n",
       "    </tr>\n",
       "</table>\n",
       "[3 rows x 19 columns]<br/>\n",
       "</div>"
      ],
      "text/plain": [
       "Columns:\n",
       "\tsrc\tint\n",
       "\tdst\tint\n",
       "\tclass\tint\n",
       "\tsrc_in_vertices\tlist\n",
       "\tsrc_in_degree\tint\n",
       "\tsrc_out_vertices\tlist\n",
       "\tsrc_out_degree\tint\n",
       "\tsrc_adj_vertices\tarray\n",
       "\tsrc_degree\tint\n",
       "\tsrc_dadj_vertices\tarray\n",
       "\tsrc_ddegree\tint\n",
       "\tdst_in_vertices\tlist\n",
       "\tdst_in_degree\tint\n",
       "\tdst_out_vertices\tlist\n",
       "\tdst_out_degree\tint\n",
       "\tdst_adj_vertices\tarray\n",
       "\tdst_degree\tint\n",
       "\tdst_dadj_vertices\tarray\n",
       "\tdst_ddegree\tint\n",
       "\n",
       "Rows: 3\n",
       "\n",
       "Data:\n",
       "+--------+--------+-------+-------------------------------+---------------+\n",
       "|  src   |  dst   | class |        src_in_vertices        | src_in_degree |\n",
       "+--------+--------+-------+-------------------------------+---------------+\n",
       "| 252052 | 251924 |   1   | [87115, 12038, 251922, 256... |       9       |\n",
       "| 20261  | 224050 |   0   | [111798, 249619, 1617, 228... |       11      |\n",
       "| 88662  | 158126 |   0   | [12650, 83634, 83831, 3362... |       7       |\n",
       "+--------+--------+-------+-------------------------------+---------------+\n",
       "+-------------------------------+----------------+\n",
       "|        src_out_vertices       | src_out_degree |\n",
       "+-------------------------------+----------------+\n",
       "| [251924, 246918, 90665, 45... |       15       |\n",
       "| [224050, 3605, 220011, 173... |       12       |\n",
       "| [158126, 213125, 86433, 13... |       12       |\n",
       "+-------------------------------+----------------+\n",
       "+-------------------------------+------------+-------------------------------+-------------+\n",
       "|        src_adj_vertices       | src_degree |       src_dadj_vertices       | src_ddegree |\n",
       "+-------------------------------+------------+-------------------------------+-------------+\n",
       "| [89021.0, 12038.0, 45193.0... |     20     | [256696.0, 251922.0, 25192... |      4      |\n",
       "| [2625.0, 182914.0, 63427.0... |     22     |           [35140.0]           |      1      |\n",
       "| [50436.0, 213125.0, 117833... |     19     |               []              |      0      |\n",
       "+-------------------------------+------------+-------------------------------+-------------+\n",
       "+-------------------------------+---------------+-------------------------------+\n",
       "|        dst_in_vertices        | dst_in_degree |        dst_out_vertices       |\n",
       "+-------------------------------+---------------+-------------------------------+\n",
       "| [252052, 256695, 44500, 14... |       10      | [226628, 251923, 87542, 52... |\n",
       "| [20261, 224048, 165807, 16... |       9       | [6328, 224049, 220296, 179... |\n",
       "| [88662, 158124, 155412, 15... |       8       | [48419, 103777, 105762, 25... |\n",
       "+-------------------------------+---------------+-------------------------------+\n",
       "+----------------+-------------------------------+------------+\n",
       "| dst_out_degree |        dst_adj_vertices       | dst_degree |\n",
       "+----------------+-------------------------------+------------+\n",
       "|       10       | [251923.0, 154657.0, 22662... |     19     |\n",
       "|       10       | [191009.0, 179619.0, 17962... |     17     |\n",
       "|       10       | [103777.0, 105762.0, 48419... |     15     |\n",
       "+----------------+-------------------------------+------------+\n",
       "+--------------------------------+-------------+\n",
       "|       dst_dadj_vertices        | dst_ddegree |\n",
       "+--------------------------------+-------------+\n",
       "|           [252052.0]           |      1      |\n",
       "|      [220296.0, 224049.0]      |      2      |\n",
       "| [158124.0, 158125.0, 144470.0] |      3      |\n",
       "+--------------------------------+-------------+\n",
       "[3 rows x 19 columns]"
      ]
     },
     "execution_count": 16,
     "metadata": {},
     "output_type": "execute_result"
    }
   ],
   "source": [
    "edges = edges.join(all_vertices, on={\"src\": \"id\"}, how=\"right\")\n",
    "edges.rename({\"in_vertices\": \"src_in_vertices\", \"out_vertices\": \"src_out_vertices\",\n",
    "                  \"in_degree\": \"src_in_degree\", \"out_degree\": \"src_out_degree\",\n",
    "              \"adj_vertices\": \"src_adj_vertices\", \"dadj_vertices\": \"src_dadj_vertices\",\n",
    "                  \"degree\": \"src_degree\", \"ddegree\": \"src_ddegree\"\n",
    "                 })\n",
    "\n",
    "edges = edges.join(all_vertices, on={\"dst\": \"id\"}, how=\"right\")\n",
    "edges.rename({\"in_vertices\": \"dst_in_vertices\", \"out_vertices\": \"dst_out_vertices\",\n",
    "                  \"in_degree\": \"dst_in_degree\", \"out_degree\": \"dst_out_degree\",\n",
    "              \"adj_vertices\": \"dst_adj_vertices\", \"dadj_vertices\": \"dst_dadj_vertices\",\n",
    "                  \"degree\": \"dst_degree\", \"ddegree\": \"dst_ddegree\"\n",
    "                 })\n",
    "\n",
    "edges.head(3)"
   ]
  },
  {
   "cell_type": "markdown",
   "metadata": {},
   "source": [
    "Найдем пункт 1 - общих друзей для списков вершин из пункта 1. Пункты 2 и 3 вы посчитаете самостоятельно"
   ]
  },
  {
   "cell_type": "code",
   "execution_count": 17,
   "metadata": {
    "collapsed": true
   },
   "outputs": [],
   "source": [
    "def common_friends(u, v, u_neighbors, v_neighbors):\n",
    "    u_neighbors = set(u_neighbors)\n",
    "    if v in u_neighbors:\n",
    "            u_neighbors.remove(v)\n",
    "\n",
    "    v_neighbors = set(v_neighbors)\n",
    "    if u in v_neighbors:\n",
    "        v_neighbors.remove(u)\n",
    "        \n",
    "    return len(u_neighbors & v_neighbors)"
   ]
  },
  {
   "cell_type": "code",
   "execution_count": 18,
   "metadata": {
    "collapsed": false
   },
   "outputs": [],
   "source": [
    "edges['common_in_vertices'] = (edges[['src', 'dst', 'src_in_vertices', 'dst_in_vertices']]\n",
    "                               .apply(lambda x: common_friends(x['src'],\n",
    "                                                               x['dst'],\n",
    "                                                               x['src_in_vertices'],\n",
    "                                                               x['dst_in_vertices'])))\n",
    "\n",
    "edges['common_out_vertices'] = (edges[['src', 'dst', 'src_out_vertices', 'dst_out_vertices']]\n",
    "                               .apply(lambda x: common_friends(x['src'],\n",
    "                                                               x['dst'],\n",
    "                                                               x['src_out_vertices'],\n",
    "                                                               x['dst_out_vertices'])))\n",
    "\n",
    "edges['common_vertices'] = (edges[['src', 'dst', 'src_adj_vertices', 'dst_adj_vertices']]\n",
    "                               .apply(lambda x: common_friends(x['src'],\n",
    "                                                               x['dst'],\n",
    "                                                               x['src_adj_vertices'],\n",
    "                                                               x['dst_adj_vertices'])))\n",
    "\n",
    "edges['dcommon_out_vertices'] = (edges[['src', 'dst', 'src_dadj_vertices', 'dst_dadj_vertices']]\n",
    "                               .apply(lambda x: common_friends(x['src'],\n",
    "                                                               x['dst'],\n",
    "                                                               x['src_dadj_vertices'],\n",
    "                                                               x['dst_dadj_vertices'])))"
   ]
  },
  {
   "cell_type": "code",
   "execution_count": 19,
   "metadata": {
    "collapsed": true
   },
   "outputs": [],
   "source": [
    "def Jaccard(u_neighbors, v_neighbors):\n",
    "    u_neighbors = set(u_neighbors)\n",
    "    v_neighbors = set(v_neighbors)\n",
    "    return len(u_neighbors & v_neighbors) / float(len(u_neighbors | v_neighbors))"
   ]
  },
  {
   "cell_type": "code",
   "execution_count": 20,
   "metadata": {
    "collapsed": false
   },
   "outputs": [],
   "source": [
    "edges['Jaccard_in_vertices'] = (edges[['src','dst', 'src_in_vertices', 'dst_in_vertices']]\n",
    "                               .apply(lambda x: Jaccard(x['src_in_vertices'],\n",
    "                                                        x['dst_in_vertices'])))\n",
    "edges['Jaccard_out_vertices'] = (edges[['src','dst', 'src_out_vertices', 'dst_out_vertices']]\n",
    "                               .apply(lambda x: Jaccard(x['src_out_vertices'],\n",
    "                                                        x['dst_out_vertices'])))\n",
    "edges['Jaccard_vertices'] = (edges[['src','dst', 'src_in_vertices', 'dst_in_vertices',\n",
    "                                    'src_out_vertices', 'dst_out_vertices']]\n",
    "                               .apply(lambda x: Jaccard(x['src_out_vertices']+(x['src_in_vertices']),\n",
    "                                                        x['dst_out_vertices']+(x['dst_in_vertices']))))"
   ]
  },
  {
   "cell_type": "code",
   "execution_count": null,
   "metadata": {
    "collapsed": true
   },
   "outputs": [],
   "source": [
    "def cosine(u_neighbors, v_neighbors):\n",
    "    u_neighbors = set(u_neighbors)\n",
    "    v_neighbors = set(v_neighbors)\n",
    "    inter_len = len(u_neighbors & v_neighbors)\n",
    "    return inter_len / np.sqrt(len(u_neighbors) + len (v_neighbors))"
   ]
  },
  {
   "cell_type": "code",
   "execution_count": null,
   "metadata": {
    "collapsed": true
   },
   "outputs": [],
   "source": [
    "edges['cosine_in_vertices'] = (edges[['src','dst', 'src_in_vertices', 'dst_in_vertices']]\n",
    "                               .apply(lambda x: cosine(x['src_in_vertices'],\n",
    "                                                       x['dst_in_vertices'])))\n",
    "edges['cosine_out_vertices'] = (edges[['src','dst', 'src_out_vertices', 'dst_out_vertices']]\n",
    "                               .apply(lambda x: cosine(x['src_out_vertices'],\n",
    "                                                       x['dst_out_vertices'])))\n",
    "edges['cosine_vertices'] = (edges[['src','dst', 'src_in_vertices', 'dst_in_vertices',\n",
    "                                    'src_out_vertices', 'dst_out_vertices']]\n",
    "                               .apply(lambda x: cosine(x['src_out_vertices']+(x['src_in_vertices']),\n",
    "                                                       x['dst_out_vertices']+(x['dst_in_vertices']))))"
   ]
  },
  {
   "cell_type": "code",
   "execution_count": 21,
   "metadata": {
    "collapsed": false
   },
   "outputs": [
    {
     "data": {
      "text/html": [
       "<div style=\"max-height:1000px;max-width:1500px;overflow:auto;\"><table frame=\"box\" rules=\"cols\">\n",
       "    <tr>\n",
       "        <th style=\"padding-left: 1em; padding-right: 1em; text-align: center\">src</th>\n",
       "        <th style=\"padding-left: 1em; padding-right: 1em; text-align: center\">dst</th>\n",
       "        <th style=\"padding-left: 1em; padding-right: 1em; text-align: center\">class</th>\n",
       "        <th style=\"padding-left: 1em; padding-right: 1em; text-align: center\">src_in_degree</th>\n",
       "        <th style=\"padding-left: 1em; padding-right: 1em; text-align: center\">src_out_degree</th>\n",
       "        <th style=\"padding-left: 1em; padding-right: 1em; text-align: center\">src_degree</th>\n",
       "        <th style=\"padding-left: 1em; padding-right: 1em; text-align: center\">src_ddegree</th>\n",
       "        <th style=\"padding-left: 1em; padding-right: 1em; text-align: center\">dst_in_degree</th>\n",
       "        <th style=\"padding-left: 1em; padding-right: 1em; text-align: center\">dst_out_degree</th>\n",
       "    </tr>\n",
       "    <tr>\n",
       "        <td style=\"padding-left: 1em; padding-right: 1em; text-align: center; vertical-align: top\">252052</td>\n",
       "        <td style=\"padding-left: 1em; padding-right: 1em; text-align: center; vertical-align: top\">251924</td>\n",
       "        <td style=\"padding-left: 1em; padding-right: 1em; text-align: center; vertical-align: top\">1</td>\n",
       "        <td style=\"padding-left: 1em; padding-right: 1em; text-align: center; vertical-align: top\">9</td>\n",
       "        <td style=\"padding-left: 1em; padding-right: 1em; text-align: center; vertical-align: top\">15</td>\n",
       "        <td style=\"padding-left: 1em; padding-right: 1em; text-align: center; vertical-align: top\">20</td>\n",
       "        <td style=\"padding-left: 1em; padding-right: 1em; text-align: center; vertical-align: top\">4</td>\n",
       "        <td style=\"padding-left: 1em; padding-right: 1em; text-align: center; vertical-align: top\">10</td>\n",
       "        <td style=\"padding-left: 1em; padding-right: 1em; text-align: center; vertical-align: top\">10</td>\n",
       "    </tr>\n",
       "    <tr>\n",
       "        <td style=\"padding-left: 1em; padding-right: 1em; text-align: center; vertical-align: top\">20261</td>\n",
       "        <td style=\"padding-left: 1em; padding-right: 1em; text-align: center; vertical-align: top\">224050</td>\n",
       "        <td style=\"padding-left: 1em; padding-right: 1em; text-align: center; vertical-align: top\">0</td>\n",
       "        <td style=\"padding-left: 1em; padding-right: 1em; text-align: center; vertical-align: top\">11</td>\n",
       "        <td style=\"padding-left: 1em; padding-right: 1em; text-align: center; vertical-align: top\">12</td>\n",
       "        <td style=\"padding-left: 1em; padding-right: 1em; text-align: center; vertical-align: top\">22</td>\n",
       "        <td style=\"padding-left: 1em; padding-right: 1em; text-align: center; vertical-align: top\">1</td>\n",
       "        <td style=\"padding-left: 1em; padding-right: 1em; text-align: center; vertical-align: top\">9</td>\n",
       "        <td style=\"padding-left: 1em; padding-right: 1em; text-align: center; vertical-align: top\">10</td>\n",
       "    </tr>\n",
       "    <tr>\n",
       "        <td style=\"padding-left: 1em; padding-right: 1em; text-align: center; vertical-align: top\">88662</td>\n",
       "        <td style=\"padding-left: 1em; padding-right: 1em; text-align: center; vertical-align: top\">158126</td>\n",
       "        <td style=\"padding-left: 1em; padding-right: 1em; text-align: center; vertical-align: top\">0</td>\n",
       "        <td style=\"padding-left: 1em; padding-right: 1em; text-align: center; vertical-align: top\">7</td>\n",
       "        <td style=\"padding-left: 1em; padding-right: 1em; text-align: center; vertical-align: top\">12</td>\n",
       "        <td style=\"padding-left: 1em; padding-right: 1em; text-align: center; vertical-align: top\">19</td>\n",
       "        <td style=\"padding-left: 1em; padding-right: 1em; text-align: center; vertical-align: top\">0</td>\n",
       "        <td style=\"padding-left: 1em; padding-right: 1em; text-align: center; vertical-align: top\">8</td>\n",
       "        <td style=\"padding-left: 1em; padding-right: 1em; text-align: center; vertical-align: top\">10</td>\n",
       "    </tr>\n",
       "    <tr>\n",
       "        <td style=\"padding-left: 1em; padding-right: 1em; text-align: center; vertical-align: top\">160032</td>\n",
       "        <td style=\"padding-left: 1em; padding-right: 1em; text-align: center; vertical-align: top\">172132</td>\n",
       "        <td style=\"padding-left: 1em; padding-right: 1em; text-align: center; vertical-align: top\">1</td>\n",
       "        <td style=\"padding-left: 1em; padding-right: 1em; text-align: center; vertical-align: top\">10</td>\n",
       "        <td style=\"padding-left: 1em; padding-right: 1em; text-align: center; vertical-align: top\">11</td>\n",
       "        <td style=\"padding-left: 1em; padding-right: 1em; text-align: center; vertical-align: top\">17</td>\n",
       "        <td style=\"padding-left: 1em; padding-right: 1em; text-align: center; vertical-align: top\">4</td>\n",
       "        <td style=\"padding-left: 1em; padding-right: 1em; text-align: center; vertical-align: top\">7</td>\n",
       "        <td style=\"padding-left: 1em; padding-right: 1em; text-align: center; vertical-align: top\">12</td>\n",
       "    </tr>\n",
       "    <tr>\n",
       "        <td style=\"padding-left: 1em; padding-right: 1em; text-align: center; vertical-align: top\">54522</td>\n",
       "        <td style=\"padding-left: 1em; padding-right: 1em; text-align: center; vertical-align: top\">76629</td>\n",
       "        <td style=\"padding-left: 1em; padding-right: 1em; text-align: center; vertical-align: top\">0</td>\n",
       "        <td style=\"padding-left: 1em; padding-right: 1em; text-align: center; vertical-align: top\">11</td>\n",
       "        <td style=\"padding-left: 1em; padding-right: 1em; text-align: center; vertical-align: top\">11</td>\n",
       "        <td style=\"padding-left: 1em; padding-right: 1em; text-align: center; vertical-align: top\">18</td>\n",
       "        <td style=\"padding-left: 1em; padding-right: 1em; text-align: center; vertical-align: top\">4</td>\n",
       "        <td style=\"padding-left: 1em; padding-right: 1em; text-align: center; vertical-align: top\">8</td>\n",
       "        <td style=\"padding-left: 1em; padding-right: 1em; text-align: center; vertical-align: top\">13</td>\n",
       "    </tr>\n",
       "    <tr>\n",
       "        <td style=\"padding-left: 1em; padding-right: 1em; text-align: center; vertical-align: top\">183360</td>\n",
       "        <td style=\"padding-left: 1em; padding-right: 1em; text-align: center; vertical-align: top\">216414</td>\n",
       "        <td style=\"padding-left: 1em; padding-right: 1em; text-align: center; vertical-align: top\">1</td>\n",
       "        <td style=\"padding-left: 1em; padding-right: 1em; text-align: center; vertical-align: top\">12</td>\n",
       "        <td style=\"padding-left: 1em; padding-right: 1em; text-align: center; vertical-align: top\">16</td>\n",
       "        <td style=\"padding-left: 1em; padding-right: 1em; text-align: center; vertical-align: top\">25</td>\n",
       "        <td style=\"padding-left: 1em; padding-right: 1em; text-align: center; vertical-align: top\">3</td>\n",
       "        <td style=\"padding-left: 1em; padding-right: 1em; text-align: center; vertical-align: top\">10</td>\n",
       "        <td style=\"padding-left: 1em; padding-right: 1em; text-align: center; vertical-align: top\">9</td>\n",
       "    </tr>\n",
       "    <tr>\n",
       "        <td style=\"padding-left: 1em; padding-right: 1em; text-align: center; vertical-align: top\">115712</td>\n",
       "        <td style=\"padding-left: 1em; padding-right: 1em; text-align: center; vertical-align: top\">249574</td>\n",
       "        <td style=\"padding-left: 1em; padding-right: 1em; text-align: center; vertical-align: top\">0</td>\n",
       "        <td style=\"padding-left: 1em; padding-right: 1em; text-align: center; vertical-align: top\">3</td>\n",
       "        <td style=\"padding-left: 1em; padding-right: 1em; text-align: center; vertical-align: top\">11</td>\n",
       "        <td style=\"padding-left: 1em; padding-right: 1em; text-align: center; vertical-align: top\">13</td>\n",
       "        <td style=\"padding-left: 1em; padding-right: 1em; text-align: center; vertical-align: top\">1</td>\n",
       "        <td style=\"padding-left: 1em; padding-right: 1em; text-align: center; vertical-align: top\">7</td>\n",
       "        <td style=\"padding-left: 1em; padding-right: 1em; text-align: center; vertical-align: top\">8</td>\n",
       "    </tr>\n",
       "    <tr>\n",
       "        <td style=\"padding-left: 1em; padding-right: 1em; text-align: center; vertical-align: top\">237299</td>\n",
       "        <td style=\"padding-left: 1em; padding-right: 1em; text-align: center; vertical-align: top\">245175</td>\n",
       "        <td style=\"padding-left: 1em; padding-right: 1em; text-align: center; vertical-align: top\">1</td>\n",
       "        <td style=\"padding-left: 1em; padding-right: 1em; text-align: center; vertical-align: top\">8</td>\n",
       "        <td style=\"padding-left: 1em; padding-right: 1em; text-align: center; vertical-align: top\">9</td>\n",
       "        <td style=\"padding-left: 1em; padding-right: 1em; text-align: center; vertical-align: top\">14</td>\n",
       "        <td style=\"padding-left: 1em; padding-right: 1em; text-align: center; vertical-align: top\">3</td>\n",
       "        <td style=\"padding-left: 1em; padding-right: 1em; text-align: center; vertical-align: top\">4</td>\n",
       "        <td style=\"padding-left: 1em; padding-right: 1em; text-align: center; vertical-align: top\">9</td>\n",
       "    </tr>\n",
       "    <tr>\n",
       "        <td style=\"padding-left: 1em; padding-right: 1em; text-align: center; vertical-align: top\">236578</td>\n",
       "        <td style=\"padding-left: 1em; padding-right: 1em; text-align: center; vertical-align: top\">209675</td>\n",
       "        <td style=\"padding-left: 1em; padding-right: 1em; text-align: center; vertical-align: top\">1</td>\n",
       "        <td style=\"padding-left: 1em; padding-right: 1em; text-align: center; vertical-align: top\">7</td>\n",
       "        <td style=\"padding-left: 1em; padding-right: 1em; text-align: center; vertical-align: top\">8</td>\n",
       "        <td style=\"padding-left: 1em; padding-right: 1em; text-align: center; vertical-align: top\">13</td>\n",
       "        <td style=\"padding-left: 1em; padding-right: 1em; text-align: center; vertical-align: top\">2</td>\n",
       "        <td style=\"padding-left: 1em; padding-right: 1em; text-align: center; vertical-align: top\">11</td>\n",
       "        <td style=\"padding-left: 1em; padding-right: 1em; text-align: center; vertical-align: top\">8</td>\n",
       "    </tr>\n",
       "    <tr>\n",
       "        <td style=\"padding-left: 1em; padding-right: 1em; text-align: center; vertical-align: top\">147707</td>\n",
       "        <td style=\"padding-left: 1em; padding-right: 1em; text-align: center; vertical-align: top\">139262</td>\n",
       "        <td style=\"padding-left: 1em; padding-right: 1em; text-align: center; vertical-align: top\">1</td>\n",
       "        <td style=\"padding-left: 1em; padding-right: 1em; text-align: center; vertical-align: top\">9</td>\n",
       "        <td style=\"padding-left: 1em; padding-right: 1em; text-align: center; vertical-align: top\">8</td>\n",
       "        <td style=\"padding-left: 1em; padding-right: 1em; text-align: center; vertical-align: top\">13</td>\n",
       "        <td style=\"padding-left: 1em; padding-right: 1em; text-align: center; vertical-align: top\">4</td>\n",
       "        <td style=\"padding-left: 1em; padding-right: 1em; text-align: center; vertical-align: top\">15</td>\n",
       "        <td style=\"padding-left: 1em; padding-right: 1em; text-align: center; vertical-align: top\">11</td>\n",
       "    </tr>\n",
       "</table>\n",
       "<table frame=\"box\" rules=\"cols\">\n",
       "    <tr>\n",
       "        <th style=\"padding-left: 1em; padding-right: 1em; text-align: center\">dst_degree</th>\n",
       "        <th style=\"padding-left: 1em; padding-right: 1em; text-align: center\">dst_ddegree</th>\n",
       "        <th style=\"padding-left: 1em; padding-right: 1em; text-align: center\">common_in_vertices</th>\n",
       "        <th style=\"padding-left: 1em; padding-right: 1em; text-align: center\">common_out_vertices</th>\n",
       "        <th style=\"padding-left: 1em; padding-right: 1em; text-align: center\">common_vertices</th>\n",
       "        <th style=\"padding-left: 1em; padding-right: 1em; text-align: center\">dcommon_out_vertices</th>\n",
       "    </tr>\n",
       "    <tr>\n",
       "        <td style=\"padding-left: 1em; padding-right: 1em; text-align: center; vertical-align: top\">19</td>\n",
       "        <td style=\"padding-left: 1em; padding-right: 1em; text-align: center; vertical-align: top\">1</td>\n",
       "        <td style=\"padding-left: 1em; padding-right: 1em; text-align: center; vertical-align: top\">1</td>\n",
       "        <td style=\"padding-left: 1em; padding-right: 1em; text-align: center; vertical-align: top\">1</td>\n",
       "        <td style=\"padding-left: 1em; padding-right: 1em; text-align: center; vertical-align: top\">2</td>\n",
       "        <td style=\"padding-left: 1em; padding-right: 1em; text-align: center; vertical-align: top\">0</td>\n",
       "    </tr>\n",
       "    <tr>\n",
       "        <td style=\"padding-left: 1em; padding-right: 1em; text-align: center; vertical-align: top\">17</td>\n",
       "        <td style=\"padding-left: 1em; padding-right: 1em; text-align: center; vertical-align: top\">2</td>\n",
       "        <td style=\"padding-left: 1em; padding-right: 1em; text-align: center; vertical-align: top\">0</td>\n",
       "        <td style=\"padding-left: 1em; padding-right: 1em; text-align: center; vertical-align: top\">0</td>\n",
       "        <td style=\"padding-left: 1em; padding-right: 1em; text-align: center; vertical-align: top\">0</td>\n",
       "        <td style=\"padding-left: 1em; padding-right: 1em; text-align: center; vertical-align: top\">0</td>\n",
       "    </tr>\n",
       "    <tr>\n",
       "        <td style=\"padding-left: 1em; padding-right: 1em; text-align: center; vertical-align: top\">15</td>\n",
       "        <td style=\"padding-left: 1em; padding-right: 1em; text-align: center; vertical-align: top\">3</td>\n",
       "        <td style=\"padding-left: 1em; padding-right: 1em; text-align: center; vertical-align: top\">0</td>\n",
       "        <td style=\"padding-left: 1em; padding-right: 1em; text-align: center; vertical-align: top\">0</td>\n",
       "        <td style=\"padding-left: 1em; padding-right: 1em; text-align: center; vertical-align: top\">0</td>\n",
       "        <td style=\"padding-left: 1em; padding-right: 1em; text-align: center; vertical-align: top\">0</td>\n",
       "    </tr>\n",
       "    <tr>\n",
       "        <td style=\"padding-left: 1em; padding-right: 1em; text-align: center; vertical-align: top\">17</td>\n",
       "        <td style=\"padding-left: 1em; padding-right: 1em; text-align: center; vertical-align: top\">2</td>\n",
       "        <td style=\"padding-left: 1em; padding-right: 1em; text-align: center; vertical-align: top\">0</td>\n",
       "        <td style=\"padding-left: 1em; padding-right: 1em; text-align: center; vertical-align: top\">0</td>\n",
       "        <td style=\"padding-left: 1em; padding-right: 1em; text-align: center; vertical-align: top\">0</td>\n",
       "        <td style=\"padding-left: 1em; padding-right: 1em; text-align: center; vertical-align: top\">0</td>\n",
       "    </tr>\n",
       "    <tr>\n",
       "        <td style=\"padding-left: 1em; padding-right: 1em; text-align: center; vertical-align: top\">19</td>\n",
       "        <td style=\"padding-left: 1em; padding-right: 1em; text-align: center; vertical-align: top\">2</td>\n",
       "        <td style=\"padding-left: 1em; padding-right: 1em; text-align: center; vertical-align: top\">0</td>\n",
       "        <td style=\"padding-left: 1em; padding-right: 1em; text-align: center; vertical-align: top\">0</td>\n",
       "        <td style=\"padding-left: 1em; padding-right: 1em; text-align: center; vertical-align: top\">0</td>\n",
       "        <td style=\"padding-left: 1em; padding-right: 1em; text-align: center; vertical-align: top\">0</td>\n",
       "    </tr>\n",
       "    <tr>\n",
       "        <td style=\"padding-left: 1em; padding-right: 1em; text-align: center; vertical-align: top\">17</td>\n",
       "        <td style=\"padding-left: 1em; padding-right: 1em; text-align: center; vertical-align: top\">2</td>\n",
       "        <td style=\"padding-left: 1em; padding-right: 1em; text-align: center; vertical-align: top\">0</td>\n",
       "        <td style=\"padding-left: 1em; padding-right: 1em; text-align: center; vertical-align: top\">0</td>\n",
       "        <td style=\"padding-left: 1em; padding-right: 1em; text-align: center; vertical-align: top\">0</td>\n",
       "        <td style=\"padding-left: 1em; padding-right: 1em; text-align: center; vertical-align: top\">0</td>\n",
       "    </tr>\n",
       "    <tr>\n",
       "        <td style=\"padding-left: 1em; padding-right: 1em; text-align: center; vertical-align: top\">11</td>\n",
       "        <td style=\"padding-left: 1em; padding-right: 1em; text-align: center; vertical-align: top\">4</td>\n",
       "        <td style=\"padding-left: 1em; padding-right: 1em; text-align: center; vertical-align: top\">0</td>\n",
       "        <td style=\"padding-left: 1em; padding-right: 1em; text-align: center; vertical-align: top\">0</td>\n",
       "        <td style=\"padding-left: 1em; padding-right: 1em; text-align: center; vertical-align: top\">0</td>\n",
       "        <td style=\"padding-left: 1em; padding-right: 1em; text-align: center; vertical-align: top\">0</td>\n",
       "    </tr>\n",
       "    <tr>\n",
       "        <td style=\"padding-left: 1em; padding-right: 1em; text-align: center; vertical-align: top\">12</td>\n",
       "        <td style=\"padding-left: 1em; padding-right: 1em; text-align: center; vertical-align: top\">1</td>\n",
       "        <td style=\"padding-left: 1em; padding-right: 1em; text-align: center; vertical-align: top\">0</td>\n",
       "        <td style=\"padding-left: 1em; padding-right: 1em; text-align: center; vertical-align: top\">3</td>\n",
       "        <td style=\"padding-left: 1em; padding-right: 1em; text-align: center; vertical-align: top\">3</td>\n",
       "        <td style=\"padding-left: 1em; padding-right: 1em; text-align: center; vertical-align: top\">0</td>\n",
       "    </tr>\n",
       "    <tr>\n",
       "        <td style=\"padding-left: 1em; padding-right: 1em; text-align: center; vertical-align: top\">14</td>\n",
       "        <td style=\"padding-left: 1em; padding-right: 1em; text-align: center; vertical-align: top\">5</td>\n",
       "        <td style=\"padding-left: 1em; padding-right: 1em; text-align: center; vertical-align: top\">2</td>\n",
       "        <td style=\"padding-left: 1em; padding-right: 1em; text-align: center; vertical-align: top\">2</td>\n",
       "        <td style=\"padding-left: 1em; padding-right: 1em; text-align: center; vertical-align: top\">3</td>\n",
       "        <td style=\"padding-left: 1em; padding-right: 1em; text-align: center; vertical-align: top\">1</td>\n",
       "    </tr>\n",
       "    <tr>\n",
       "        <td style=\"padding-left: 1em; padding-right: 1em; text-align: center; vertical-align: top\">22</td>\n",
       "        <td style=\"padding-left: 1em; padding-right: 1em; text-align: center; vertical-align: top\">4</td>\n",
       "        <td style=\"padding-left: 1em; padding-right: 1em; text-align: center; vertical-align: top\">1</td>\n",
       "        <td style=\"padding-left: 1em; padding-right: 1em; text-align: center; vertical-align: top\">1</td>\n",
       "        <td style=\"padding-left: 1em; padding-right: 1em; text-align: center; vertical-align: top\">2</td>\n",
       "        <td style=\"padding-left: 1em; padding-right: 1em; text-align: center; vertical-align: top\">0</td>\n",
       "    </tr>\n",
       "</table>\n",
       "<table frame=\"box\" rules=\"cols\">\n",
       "    <tr>\n",
       "        <th style=\"padding-left: 1em; padding-right: 1em; text-align: center\">Jaccard_in_vertices</th>\n",
       "        <th style=\"padding-left: 1em; padding-right: 1em; text-align: center\">Jaccard_out_vertices</th>\n",
       "        <th style=\"padding-left: 1em; padding-right: 1em; text-align: center\">Jaccard_vertices</th>\n",
       "    </tr>\n",
       "    <tr>\n",
       "        <td style=\"padding-left: 1em; padding-right: 1em; text-align: center; vertical-align: top\">0.0555555555556</td>\n",
       "        <td style=\"padding-left: 1em; padding-right: 1em; text-align: center; vertical-align: top\">0.0416666666667</td>\n",
       "        <td style=\"padding-left: 1em; padding-right: 1em; text-align: center; vertical-align: top\">0.0540540540541</td>\n",
       "    </tr>\n",
       "    <tr>\n",
       "        <td style=\"padding-left: 1em; padding-right: 1em; text-align: center; vertical-align: top\">0.0</td>\n",
       "        <td style=\"padding-left: 1em; padding-right: 1em; text-align: center; vertical-align: top\">0.0</td>\n",
       "        <td style=\"padding-left: 1em; padding-right: 1em; text-align: center; vertical-align: top\">0.0</td>\n",
       "    </tr>\n",
       "    <tr>\n",
       "        <td style=\"padding-left: 1em; padding-right: 1em; text-align: center; vertical-align: top\">0.0</td>\n",
       "        <td style=\"padding-left: 1em; padding-right: 1em; text-align: center; vertical-align: top\">0.0</td>\n",
       "        <td style=\"padding-left: 1em; padding-right: 1em; text-align: center; vertical-align: top\">0.0</td>\n",
       "    </tr>\n",
       "    <tr>\n",
       "        <td style=\"padding-left: 1em; padding-right: 1em; text-align: center; vertical-align: top\">0.0</td>\n",
       "        <td style=\"padding-left: 1em; padding-right: 1em; text-align: center; vertical-align: top\">0.0</td>\n",
       "        <td style=\"padding-left: 1em; padding-right: 1em; text-align: center; vertical-align: top\">0.0</td>\n",
       "    </tr>\n",
       "    <tr>\n",
       "        <td style=\"padding-left: 1em; padding-right: 1em; text-align: center; vertical-align: top\">0.0</td>\n",
       "        <td style=\"padding-left: 1em; padding-right: 1em; text-align: center; vertical-align: top\">0.0</td>\n",
       "        <td style=\"padding-left: 1em; padding-right: 1em; text-align: center; vertical-align: top\">0.0</td>\n",
       "    </tr>\n",
       "    <tr>\n",
       "        <td style=\"padding-left: 1em; padding-right: 1em; text-align: center; vertical-align: top\">0.0</td>\n",
       "        <td style=\"padding-left: 1em; padding-right: 1em; text-align: center; vertical-align: top\">0.0</td>\n",
       "        <td style=\"padding-left: 1em; padding-right: 1em; text-align: center; vertical-align: top\">0.0</td>\n",
       "    </tr>\n",
       "    <tr>\n",
       "        <td style=\"padding-left: 1em; padding-right: 1em; text-align: center; vertical-align: top\">0.0</td>\n",
       "        <td style=\"padding-left: 1em; padding-right: 1em; text-align: center; vertical-align: top\">0.0</td>\n",
       "        <td style=\"padding-left: 1em; padding-right: 1em; text-align: center; vertical-align: top\">0.0</td>\n",
       "    </tr>\n",
       "    <tr>\n",
       "        <td style=\"padding-left: 1em; padding-right: 1em; text-align: center; vertical-align: top\">0.0</td>\n",
       "        <td style=\"padding-left: 1em; padding-right: 1em; text-align: center; vertical-align: top\">0.2</td>\n",
       "        <td style=\"padding-left: 1em; padding-right: 1em; text-align: center; vertical-align: top\">0.130434782609</td>\n",
       "    </tr>\n",
       "    <tr>\n",
       "        <td style=\"padding-left: 1em; padding-right: 1em; text-align: center; vertical-align: top\">0.125</td>\n",
       "        <td style=\"padding-left: 1em; padding-right: 1em; text-align: center; vertical-align: top\">0.142857142857</td>\n",
       "        <td style=\"padding-left: 1em; padding-right: 1em; text-align: center; vertical-align: top\">0.125</td>\n",
       "    </tr>\n",
       "    <tr>\n",
       "        <td style=\"padding-left: 1em; padding-right: 1em; text-align: center; vertical-align: top\">0.0434782608696</td>\n",
       "        <td style=\"padding-left: 1em; padding-right: 1em; text-align: center; vertical-align: top\">0.0555555555556</td>\n",
       "        <td style=\"padding-left: 1em; padding-right: 1em; text-align: center; vertical-align: top\">0.0606060606061</td>\n",
       "    </tr>\n",
       "</table>\n",
       "[2769707 rows x 18 columns]<br/>Note: Only the head of the SFrame is printed.<br/>You can use print_rows(num_rows=m, num_columns=n) to print more rows and columns.\n",
       "</div>"
      ],
      "text/plain": [
       "Columns:\n",
       "\tsrc\tint\n",
       "\tdst\tint\n",
       "\tclass\tint\n",
       "\tsrc_in_degree\tint\n",
       "\tsrc_out_degree\tint\n",
       "\tsrc_degree\tint\n",
       "\tsrc_ddegree\tint\n",
       "\tdst_in_degree\tint\n",
       "\tdst_out_degree\tint\n",
       "\tdst_degree\tint\n",
       "\tdst_ddegree\tint\n",
       "\tcommon_in_vertices\tint\n",
       "\tcommon_out_vertices\tint\n",
       "\tcommon_vertices\tint\n",
       "\tdcommon_out_vertices\tint\n",
       "\tJaccard_in_vertices\tfloat\n",
       "\tJaccard_out_vertices\tfloat\n",
       "\tJaccard_vertices\tfloat\n",
       "\n",
       "Rows: 2769707\n",
       "\n",
       "Data:\n",
       "+--------+--------+-------+---------------+----------------+------------+-------------+\n",
       "|  src   |  dst   | class | src_in_degree | src_out_degree | src_degree | src_ddegree |\n",
       "+--------+--------+-------+---------------+----------------+------------+-------------+\n",
       "| 252052 | 251924 |   1   |       9       |       15       |     20     |      4      |\n",
       "| 20261  | 224050 |   0   |       11      |       12       |     22     |      1      |\n",
       "| 88662  | 158126 |   0   |       7       |       12       |     19     |      0      |\n",
       "| 160032 | 172132 |   1   |       10      |       11       |     17     |      4      |\n",
       "| 54522  | 76629  |   0   |       11      |       11       |     18     |      4      |\n",
       "| 183360 | 216414 |   1   |       12      |       16       |     25     |      3      |\n",
       "| 115712 | 249574 |   0   |       3       |       11       |     13     |      1      |\n",
       "| 237299 | 245175 |   1   |       8       |       9        |     14     |      3      |\n",
       "| 236578 | 209675 |   1   |       7       |       8        |     13     |      2      |\n",
       "| 147707 | 139262 |   1   |       9       |       8        |     13     |      4      |\n",
       "+--------+--------+-------+---------------+----------------+------------+-------------+\n",
       "+---------------+----------------+------------+-------------+--------------------+\n",
       "| dst_in_degree | dst_out_degree | dst_degree | dst_ddegree | common_in_vertices |\n",
       "+---------------+----------------+------------+-------------+--------------------+\n",
       "|       10      |       10       |     19     |      1      |         1          |\n",
       "|       9       |       10       |     17     |      2      |         0          |\n",
       "|       8       |       10       |     15     |      3      |         0          |\n",
       "|       7       |       12       |     17     |      2      |         0          |\n",
       "|       8       |       13       |     19     |      2      |         0          |\n",
       "|       10      |       9        |     17     |      2      |         0          |\n",
       "|       7       |       8        |     11     |      4      |         0          |\n",
       "|       4       |       9        |     12     |      1      |         0          |\n",
       "|       11      |       8        |     14     |      5      |         2          |\n",
       "|       15      |       11       |     22     |      4      |         1          |\n",
       "+---------------+----------------+------------+-------------+--------------------+\n",
       "+---------------------+-----------------+----------------------+---------------------+\n",
       "| common_out_vertices | common_vertices | dcommon_out_vertices | Jaccard_in_vertices |\n",
       "+---------------------+-----------------+----------------------+---------------------+\n",
       "|          1          |        2        |          0           |   0.0555555555556   |\n",
       "|          0          |        0        |          0           |         0.0         |\n",
       "|          0          |        0        |          0           |         0.0         |\n",
       "|          0          |        0        |          0           |         0.0         |\n",
       "|          0          |        0        |          0           |         0.0         |\n",
       "|          0          |        0        |          0           |         0.0         |\n",
       "|          0          |        0        |          0           |         0.0         |\n",
       "|          3          |        3        |          0           |         0.0         |\n",
       "|          2          |        3        |          1           |        0.125        |\n",
       "|          1          |        2        |          0           |   0.0434782608696   |\n",
       "+---------------------+-----------------+----------------------+---------------------+\n",
       "+----------------------+------------------+\n",
       "| Jaccard_out_vertices | Jaccard_vertices |\n",
       "+----------------------+------------------+\n",
       "|   0.0416666666667    | 0.0540540540541  |\n",
       "|         0.0          |       0.0        |\n",
       "|         0.0          |       0.0        |\n",
       "|         0.0          |       0.0        |\n",
       "|         0.0          |       0.0        |\n",
       "|         0.0          |       0.0        |\n",
       "|         0.0          |       0.0        |\n",
       "|         0.2          |  0.130434782609  |\n",
       "|    0.142857142857    |      0.125       |\n",
       "|   0.0555555555556    | 0.0606060606061  |\n",
       "+----------------------+------------------+\n",
       "[2769707 rows x 18 columns]\n",
       "Note: Only the head of the SFrame is printed.\n",
       "You can use print_rows(num_rows=m, num_columns=n) to print more rows and columns."
      ]
     },
     "execution_count": 21,
     "metadata": {},
     "output_type": "execute_result"
    }
   ],
   "source": [
    "edges.remove_column('src_in_vertices')\n",
    "edges.remove_column('src_out_vertices')\n",
    "edges.remove_column('src_adj_vertices')\n",
    "edges.remove_column('src_dadj_vertices')\n",
    "edges.remove_column('dst_in_vertices')\n",
    "edges.remove_column('dst_out_vertices')\n",
    "edges.remove_column('dst_adj_vertices')\n",
    "edges.remove_column('dst_dadj_vertices')"
   ]
  },
  {
   "cell_type": "markdown",
   "metadata": {},
   "source": [
    "Результатом пункта 3 является матрица признаков. Теперь мы готовы занятся настройкой моделей. Главная ваша задача в пункте 3 - подготовить как можно больше качественных признаков, которые могли бы использоваться для настройки модели машинного обучения."
   ]
  },
  {
   "cell_type": "markdown",
   "metadata": {},
   "source": [
    "----\n",
    "### 4. Настройка модели и валидация качества модели - 20 Баллов\n",
    "\n",
    "Исключим подозрительные ребра из рассмотрения, а затем разобьем датасет на 2 части, для обучения и проверки результатов. Настроим базовую модель классификации - логистическую регрессию.\n",
    "Для улучшения качества модели вам предстоит выполнить следующие пункты:\n",
    "\n",
    "1. Кросс - валидация для настройки гиперпараметров модели и регуляризации\n",
    "2. Подбор модели машинного обучения (случайный лес, бустинг, нейронная сеть и т.д.)"
   ]
  },
  {
   "cell_type": "code",
   "execution_count": null,
   "metadata": {
    "collapsed": false
   },
   "outputs": [
    {
     "name": "stdout",
     "output_type": "stream",
     "text": [
      "(299994, 3)\n"
     ]
    }
   ],
   "source": [
    "susp = gl.SFrame.read_csv('suspicions.csv', delimiter=',', verbose=False)\n",
    "print susp.shape"
   ]
  },
  {
   "cell_type": "code",
   "execution_count": null,
   "metadata": {
    "collapsed": false
   },
   "outputs": [
    {
     "name": "stdout",
     "output_type": "stream",
     "text": [
      "(2769707, 18)\n"
     ]
    }
   ],
   "source": [
    "print edges.shape\n",
    "edges = edges.join(susp, on=['src', 'dst'], how='left')\n",
    "print edges.shape"
   ]
  },
  {
   "cell_type": "code",
   "execution_count": 24,
   "metadata": {
    "collapsed": false
   },
   "outputs": [
    {
     "name": "stdout",
     "output_type": "stream",
     "text": [
      "(2469722, 19) (299994, 19)\n"
     ]
    }
   ],
   "source": [
    "clean_edges = edges[edges['edge_id'] == None]\n",
    "susp_edges = edges[edges['edge_id'] != None]\n",
    "print clean_edges.shape, susp_edges.shape"
   ]
  },
  {
   "cell_type": "code",
   "execution_count": 25,
   "metadata": {
    "collapsed": false
   },
   "outputs": [
    {
     "name": "stdout",
     "output_type": "stream",
     "text": [
      "\n"
     ]
    }
   ],
   "source": [
    "clean_edges.remove_column('edge_id')\n",
    "print"
   ]
  },
  {
   "cell_type": "code",
   "execution_count": 26,
   "metadata": {
    "collapsed": false
   },
   "outputs": [
    {
     "data": {
      "text/html": [
       "<div style=\"max-height:1000px;max-width:1500px;overflow:auto;\"><table frame=\"box\" rules=\"cols\">\n",
       "    <tr>\n",
       "        <th style=\"padding-left: 1em; padding-right: 1em; text-align: center\">src</th>\n",
       "        <th style=\"padding-left: 1em; padding-right: 1em; text-align: center\">dst</th>\n",
       "        <th style=\"padding-left: 1em; padding-right: 1em; text-align: center\">class</th>\n",
       "        <th style=\"padding-left: 1em; padding-right: 1em; text-align: center\">src_in_degree</th>\n",
       "        <th style=\"padding-left: 1em; padding-right: 1em; text-align: center\">src_out_degree</th>\n",
       "        <th style=\"padding-left: 1em; padding-right: 1em; text-align: center\">src_degree</th>\n",
       "        <th style=\"padding-left: 1em; padding-right: 1em; text-align: center\">src_ddegree</th>\n",
       "        <th style=\"padding-left: 1em; padding-right: 1em; text-align: center\">dst_in_degree</th>\n",
       "        <th style=\"padding-left: 1em; padding-right: 1em; text-align: center\">dst_out_degree</th>\n",
       "    </tr>\n",
       "    <tr>\n",
       "        <td style=\"padding-left: 1em; padding-right: 1em; text-align: center; vertical-align: top\">187692</td>\n",
       "        <td style=\"padding-left: 1em; padding-right: 1em; text-align: center; vertical-align: top\">173667</td>\n",
       "        <td style=\"padding-left: 1em; padding-right: 1em; text-align: center; vertical-align: top\">0</td>\n",
       "        <td style=\"padding-left: 1em; padding-right: 1em; text-align: center; vertical-align: top\">13</td>\n",
       "        <td style=\"padding-left: 1em; padding-right: 1em; text-align: center; vertical-align: top\">13</td>\n",
       "        <td style=\"padding-left: 1em; padding-right: 1em; text-align: center; vertical-align: top\">23</td>\n",
       "        <td style=\"padding-left: 1em; padding-right: 1em; text-align: center; vertical-align: top\">3</td>\n",
       "        <td style=\"padding-left: 1em; padding-right: 1em; text-align: center; vertical-align: top\">15</td>\n",
       "        <td style=\"padding-left: 1em; padding-right: 1em; text-align: center; vertical-align: top\">14</td>\n",
       "    </tr>\n",
       "    <tr>\n",
       "        <td style=\"padding-left: 1em; padding-right: 1em; text-align: center; vertical-align: top\">212562</td>\n",
       "        <td style=\"padding-left: 1em; padding-right: 1em; text-align: center; vertical-align: top\">80964</td>\n",
       "        <td style=\"padding-left: 1em; padding-right: 1em; text-align: center; vertical-align: top\">1</td>\n",
       "        <td style=\"padding-left: 1em; padding-right: 1em; text-align: center; vertical-align: top\">7</td>\n",
       "        <td style=\"padding-left: 1em; padding-right: 1em; text-align: center; vertical-align: top\">10</td>\n",
       "        <td style=\"padding-left: 1em; padding-right: 1em; text-align: center; vertical-align: top\">14</td>\n",
       "        <td style=\"padding-left: 1em; padding-right: 1em; text-align: center; vertical-align: top\">3</td>\n",
       "        <td style=\"padding-left: 1em; padding-right: 1em; text-align: center; vertical-align: top\">25</td>\n",
       "        <td style=\"padding-left: 1em; padding-right: 1em; text-align: center; vertical-align: top\">12</td>\n",
       "    </tr>\n",
       "    <tr>\n",
       "        <td style=\"padding-left: 1em; padding-right: 1em; text-align: center; vertical-align: top\">79888</td>\n",
       "        <td style=\"padding-left: 1em; padding-right: 1em; text-align: center; vertical-align: top\">100577</td>\n",
       "        <td style=\"padding-left: 1em; padding-right: 1em; text-align: center; vertical-align: top\">0</td>\n",
       "        <td style=\"padding-left: 1em; padding-right: 1em; text-align: center; vertical-align: top\">7</td>\n",
       "        <td style=\"padding-left: 1em; padding-right: 1em; text-align: center; vertical-align: top\">11</td>\n",
       "        <td style=\"padding-left: 1em; padding-right: 1em; text-align: center; vertical-align: top\">17</td>\n",
       "        <td style=\"padding-left: 1em; padding-right: 1em; text-align: center; vertical-align: top\">1</td>\n",
       "        <td style=\"padding-left: 1em; padding-right: 1em; text-align: center; vertical-align: top\">7</td>\n",
       "        <td style=\"padding-left: 1em; padding-right: 1em; text-align: center; vertical-align: top\">14</td>\n",
       "    </tr>\n",
       "</table>\n",
       "<table frame=\"box\" rules=\"cols\">\n",
       "    <tr>\n",
       "        <th style=\"padding-left: 1em; padding-right: 1em; text-align: center\">dst_degree</th>\n",
       "        <th style=\"padding-left: 1em; padding-right: 1em; text-align: center\">dst_ddegree</th>\n",
       "        <th style=\"padding-left: 1em; padding-right: 1em; text-align: center\">common_in_vertices</th>\n",
       "        <th style=\"padding-left: 1em; padding-right: 1em; text-align: center\">common_out_vertices</th>\n",
       "        <th style=\"padding-left: 1em; padding-right: 1em; text-align: center\">common_vertices</th>\n",
       "        <th style=\"padding-left: 1em; padding-right: 1em; text-align: center\">dcommon_out_vertices</th>\n",
       "        <th style=\"padding-left: 1em; padding-right: 1em; text-align: center\">Jaccard_in_vertices</th>\n",
       "    </tr>\n",
       "    <tr>\n",
       "        <td style=\"padding-left: 1em; padding-right: 1em; text-align: center; vertical-align: top\">26</td>\n",
       "        <td style=\"padding-left: 1em; padding-right: 1em; text-align: center; vertical-align: top\">3</td>\n",
       "        <td style=\"padding-left: 1em; padding-right: 1em; text-align: center; vertical-align: top\">0</td>\n",
       "        <td style=\"padding-left: 1em; padding-right: 1em; text-align: center; vertical-align: top\">0</td>\n",
       "        <td style=\"padding-left: 1em; padding-right: 1em; text-align: center; vertical-align: top\">0</td>\n",
       "        <td style=\"padding-left: 1em; padding-right: 1em; text-align: center; vertical-align: top\">0</td>\n",
       "        <td style=\"padding-left: 1em; padding-right: 1em; text-align: center; vertical-align: top\">0.0</td>\n",
       "    </tr>\n",
       "    <tr>\n",
       "        <td style=\"padding-left: 1em; padding-right: 1em; text-align: center; vertical-align: top\">34</td>\n",
       "        <td style=\"padding-left: 1em; padding-right: 1em; text-align: center; vertical-align: top\">3</td>\n",
       "        <td style=\"padding-left: 1em; padding-right: 1em; text-align: center; vertical-align: top\">0</td>\n",
       "        <td style=\"padding-left: 1em; padding-right: 1em; text-align: center; vertical-align: top\">0</td>\n",
       "        <td style=\"padding-left: 1em; padding-right: 1em; text-align: center; vertical-align: top\">0</td>\n",
       "        <td style=\"padding-left: 1em; padding-right: 1em; text-align: center; vertical-align: top\">0</td>\n",
       "        <td style=\"padding-left: 1em; padding-right: 1em; text-align: center; vertical-align: top\">0.0</td>\n",
       "    </tr>\n",
       "    <tr>\n",
       "        <td style=\"padding-left: 1em; padding-right: 1em; text-align: center; vertical-align: top\">20</td>\n",
       "        <td style=\"padding-left: 1em; padding-right: 1em; text-align: center; vertical-align: top\">1</td>\n",
       "        <td style=\"padding-left: 1em; padding-right: 1em; text-align: center; vertical-align: top\">0</td>\n",
       "        <td style=\"padding-left: 1em; padding-right: 1em; text-align: center; vertical-align: top\">0</td>\n",
       "        <td style=\"padding-left: 1em; padding-right: 1em; text-align: center; vertical-align: top\">0</td>\n",
       "        <td style=\"padding-left: 1em; padding-right: 1em; text-align: center; vertical-align: top\">0</td>\n",
       "        <td style=\"padding-left: 1em; padding-right: 1em; text-align: center; vertical-align: top\">0.0</td>\n",
       "    </tr>\n",
       "</table>\n",
       "<table frame=\"box\" rules=\"cols\">\n",
       "    <tr>\n",
       "        <th style=\"padding-left: 1em; padding-right: 1em; text-align: center\">Jaccard_out_vertices</th>\n",
       "        <th style=\"padding-left: 1em; padding-right: 1em; text-align: center\">Jaccard_vertices</th>\n",
       "    </tr>\n",
       "    <tr>\n",
       "        <td style=\"padding-left: 1em; padding-right: 1em; text-align: center; vertical-align: top\">0.0</td>\n",
       "        <td style=\"padding-left: 1em; padding-right: 1em; text-align: center; vertical-align: top\">0.0</td>\n",
       "    </tr>\n",
       "    <tr>\n",
       "        <td style=\"padding-left: 1em; padding-right: 1em; text-align: center; vertical-align: top\">0.0</td>\n",
       "        <td style=\"padding-left: 1em; padding-right: 1em; text-align: center; vertical-align: top\">0.0</td>\n",
       "    </tr>\n",
       "    <tr>\n",
       "        <td style=\"padding-left: 1em; padding-right: 1em; text-align: center; vertical-align: top\">0.0</td>\n",
       "        <td style=\"padding-left: 1em; padding-right: 1em; text-align: center; vertical-align: top\">0.0</td>\n",
       "    </tr>\n",
       "</table>\n",
       "[3 rows x 18 columns]<br/>\n",
       "</div>"
      ],
      "text/plain": [
       "Columns:\n",
       "\tsrc\tint\n",
       "\tdst\tint\n",
       "\tclass\tint\n",
       "\tsrc_in_degree\tint\n",
       "\tsrc_out_degree\tint\n",
       "\tsrc_degree\tint\n",
       "\tsrc_ddegree\tint\n",
       "\tdst_in_degree\tint\n",
       "\tdst_out_degree\tint\n",
       "\tdst_degree\tint\n",
       "\tdst_ddegree\tint\n",
       "\tcommon_in_vertices\tint\n",
       "\tcommon_out_vertices\tint\n",
       "\tcommon_vertices\tint\n",
       "\tdcommon_out_vertices\tint\n",
       "\tJaccard_in_vertices\tfloat\n",
       "\tJaccard_out_vertices\tfloat\n",
       "\tJaccard_vertices\tfloat\n",
       "\n",
       "Rows: 3\n",
       "\n",
       "Data:\n",
       "+--------+--------+-------+---------------+----------------+------------+-------------+\n",
       "|  src   |  dst   | class | src_in_degree | src_out_degree | src_degree | src_ddegree |\n",
       "+--------+--------+-------+---------------+----------------+------------+-------------+\n",
       "| 187692 | 173667 |   0   |       13      |       13       |     23     |      3      |\n",
       "| 212562 | 80964  |   1   |       7       |       10       |     14     |      3      |\n",
       "| 79888  | 100577 |   0   |       7       |       11       |     17     |      1      |\n",
       "+--------+--------+-------+---------------+----------------+------------+-------------+\n",
       "+---------------+----------------+------------+-------------+--------------------+\n",
       "| dst_in_degree | dst_out_degree | dst_degree | dst_ddegree | common_in_vertices |\n",
       "+---------------+----------------+------------+-------------+--------------------+\n",
       "|       15      |       14       |     26     |      3      |         0          |\n",
       "|       25      |       12       |     34     |      3      |         0          |\n",
       "|       7       |       14       |     20     |      1      |         0          |\n",
       "+---------------+----------------+------------+-------------+--------------------+\n",
       "+---------------------+-----------------+----------------------+---------------------+\n",
       "| common_out_vertices | common_vertices | dcommon_out_vertices | Jaccard_in_vertices |\n",
       "+---------------------+-----------------+----------------------+---------------------+\n",
       "|          0          |        0        |          0           |         0.0         |\n",
       "|          0          |        0        |          0           |         0.0         |\n",
       "|          0          |        0        |          0           |         0.0         |\n",
       "+---------------------+-----------------+----------------------+---------------------+\n",
       "+----------------------+------------------+\n",
       "| Jaccard_out_vertices | Jaccard_vertices |\n",
       "+----------------------+------------------+\n",
       "|         0.0          |       0.0        |\n",
       "|         0.0          |       0.0        |\n",
       "|         0.0          |       0.0        |\n",
       "+----------------------+------------------+\n",
       "[3 rows x 18 columns]"
      ]
     },
     "execution_count": 26,
     "metadata": {},
     "output_type": "execute_result"
    }
   ],
   "source": [
    "clean_edges.head(3)"
   ]
  },
  {
   "cell_type": "code",
   "execution_count": 27,
   "metadata": {
    "collapsed": true
   },
   "outputs": [],
   "source": [
    "# split on train and test\n",
    "test, train = clean_edges.random_split(0.2)"
   ]
  },
  {
   "cell_type": "code",
   "execution_count": 28,
   "metadata": {
    "collapsed": false
   },
   "outputs": [
    {
     "name": "stdout",
     "output_type": "stream",
     "text": [
      "(493204, 18) (1976518, 18)\n"
     ]
    }
   ],
   "source": [
    "print test.shape, train.shape"
   ]
  },
  {
   "cell_type": "code",
   "execution_count": 38,
   "metadata": {
    "collapsed": false
   },
   "outputs": [],
   "source": [
    "X = clean_edges.to_numpy()"
   ]
  },
  {
   "cell_type": "code",
   "execution_count": 39,
   "metadata": {
    "collapsed": false
   },
   "outputs": [
    {
     "name": "stdout",
     "output_type": "stream",
     "text": [
      "(2469722L, 18L)\n"
     ]
    }
   ],
   "source": [
    "print X.shape"
   ]
  },
  {
   "cell_type": "code",
   "execution_count": 42,
   "metadata": {
    "collapsed": false
   },
   "outputs": [
    {
     "ename": "ImportError",
     "evalue": "No module named xgboost",
     "output_type": "error",
     "traceback": [
      "\u001b[1;31m---------------------------------------------------------------------------\u001b[0m",
      "\u001b[1;31mImportError\u001b[0m                               Traceback (most recent call last)",
      "\u001b[1;32m<ipython-input-42-745aa3a2d734>\u001b[0m in \u001b[0;36m<module>\u001b[1;34m()\u001b[0m\n\u001b[1;32m----> 1\u001b[1;33m \u001b[1;32mimport\u001b[0m \u001b[0mxgboost\u001b[0m \u001b[1;32mas\u001b[0m \u001b[0mxgb\u001b[0m\u001b[1;33m\u001b[0m\u001b[0m\n\u001b[0m",
      "\u001b[1;31mImportError\u001b[0m: No module named xgboost"
     ]
    }
   ],
   "source": [
    "import xgboost as xgb"
   ]
  },
  {
   "cell_type": "code",
   "execution_count": 29,
   "metadata": {
    "collapsed": false
   },
   "outputs": [
    {
     "name": "stdout",
     "output_type": "stream",
     "text": [
      "PROGRESS: Creating a validation set from 5 percent of training data. This may take a while.\n",
      "          You can set ``validation_set=None`` to disable validation tracking.\n",
      "\n"
     ]
    },
    {
     "data": {
      "text/html": [
       "<pre>Logistic regression:</pre>"
      ],
      "text/plain": [
       "Logistic regression:"
      ]
     },
     "metadata": {},
     "output_type": "display_data"
    },
    {
     "data": {
      "text/html": [
       "<pre>--------------------------------------------------------</pre>"
      ],
      "text/plain": [
       "--------------------------------------------------------"
      ]
     },
     "metadata": {},
     "output_type": "display_data"
    },
    {
     "data": {
      "text/html": [
       "<pre>Number of examples          : 2346239</pre>"
      ],
      "text/plain": [
       "Number of examples          : 2346239"
      ]
     },
     "metadata": {},
     "output_type": "display_data"
    },
    {
     "data": {
      "text/html": [
       "<pre>Number of classes           : 2</pre>"
      ],
      "text/plain": [
       "Number of classes           : 2"
      ]
     },
     "metadata": {},
     "output_type": "display_data"
    },
    {
     "data": {
      "text/html": [
       "<pre>Number of feature columns   : 17</pre>"
      ],
      "text/plain": [
       "Number of feature columns   : 17"
      ]
     },
     "metadata": {},
     "output_type": "display_data"
    },
    {
     "data": {
      "text/html": [
       "<pre>Number of unpacked features : 17</pre>"
      ],
      "text/plain": [
       "Number of unpacked features : 17"
      ]
     },
     "metadata": {},
     "output_type": "display_data"
    },
    {
     "data": {
      "text/html": [
       "<pre>Number of coefficients    : 18</pre>"
      ],
      "text/plain": [
       "Number of coefficients    : 18"
      ]
     },
     "metadata": {},
     "output_type": "display_data"
    },
    {
     "data": {
      "text/html": [
       "<pre>Starting Newton Method</pre>"
      ],
      "text/plain": [
       "Starting Newton Method"
      ]
     },
     "metadata": {},
     "output_type": "display_data"
    },
    {
     "data": {
      "text/html": [
       "<pre>--------------------------------------------------------</pre>"
      ],
      "text/plain": [
       "--------------------------------------------------------"
      ]
     },
     "metadata": {},
     "output_type": "display_data"
    },
    {
     "data": {
      "text/html": [
       "<pre>+-----------+----------+--------------+-------------------+---------------------+</pre>"
      ],
      "text/plain": [
       "+-----------+----------+--------------+-------------------+---------------------+"
      ]
     },
     "metadata": {},
     "output_type": "display_data"
    },
    {
     "data": {
      "text/html": [
       "<pre>| Iteration | Passes   | Elapsed Time | Training-accuracy | Validation-accuracy |</pre>"
      ],
      "text/plain": [
       "| Iteration | Passes   | Elapsed Time | Training-accuracy | Validation-accuracy |"
      ]
     },
     "metadata": {},
     "output_type": "display_data"
    },
    {
     "data": {
      "text/html": [
       "<pre>+-----------+----------+--------------+-------------------+---------------------+</pre>"
      ],
      "text/plain": [
       "+-----------+----------+--------------+-------------------+---------------------+"
      ]
     },
     "metadata": {},
     "output_type": "display_data"
    },
    {
     "data": {
      "text/html": [
       "<pre>| 1         | 2        | 9.104342     | 0.884765          | 0.882996            |</pre>"
      ],
      "text/plain": [
       "| 1         | 2        | 9.104342     | 0.884765          | 0.882996            |"
      ]
     },
     "metadata": {},
     "output_type": "display_data"
    },
    {
     "data": {
      "text/html": [
       "<pre>| 2         | 3        | 14.925591    | 0.911509          | 0.909915            |</pre>"
      ],
      "text/plain": [
       "| 2         | 3        | 14.925591    | 0.911509          | 0.909915            |"
      ]
     },
     "metadata": {},
     "output_type": "display_data"
    },
    {
     "data": {
      "text/html": [
       "<pre>| 3         | 4        | 17.692426    | 0.928325          | 0.926702            |</pre>"
      ],
      "text/plain": [
       "| 3         | 4        | 17.692426    | 0.928325          | 0.926702            |"
      ]
     },
     "metadata": {},
     "output_type": "display_data"
    },
    {
     "data": {
      "text/html": [
       "<pre>| 4         | 5        | 20.476487    | 0.935779          | 0.934444            |</pre>"
      ],
      "text/plain": [
       "| 4         | 5        | 20.476487    | 0.935779          | 0.934444            |"
      ]
     },
     "metadata": {},
     "output_type": "display_data"
    },
    {
     "data": {
      "text/html": [
       "<pre>| 5         | 6        | 23.266797    | 0.937216          | 0.935926            |</pre>"
      ],
      "text/plain": [
       "| 5         | 6        | 23.266797    | 0.937216          | 0.935926            |"
      ]
     },
     "metadata": {},
     "output_type": "display_data"
    },
    {
     "data": {
      "text/html": [
       "<pre>| 6         | 7        | 26.218229    | 0.937321          | 0.936064            |</pre>"
      ],
      "text/plain": [
       "| 6         | 7        | 26.218229    | 0.937321          | 0.936064            |"
      ]
     },
     "metadata": {},
     "output_type": "display_data"
    },
    {
     "data": {
      "text/html": [
       "<pre>| 7         | 8        | 28.991736    | 0.937344          | 0.936080            |</pre>"
      ],
      "text/plain": [
       "| 7         | 8        | 28.991736    | 0.937344          | 0.936080            |"
      ]
     },
     "metadata": {},
     "output_type": "display_data"
    },
    {
     "data": {
      "text/html": [
       "<pre>| 8         | 9        | 31.842170    | 0.937348          | 0.936088            |</pre>"
      ],
      "text/plain": [
       "| 8         | 9        | 31.842170    | 0.937348          | 0.936088            |"
      ]
     },
     "metadata": {},
     "output_type": "display_data"
    },
    {
     "data": {
      "text/html": [
       "<pre>| 9         | 10       | 34.677839    | 0.937347          | 0.936088            |</pre>"
      ],
      "text/plain": [
       "| 9         | 10       | 34.677839    | 0.937347          | 0.936088            |"
      ]
     },
     "metadata": {},
     "output_type": "display_data"
    },
    {
     "data": {
      "text/html": [
       "<pre>| 10        | 11       | 37.538890    | 0.937348          | 0.936088            |</pre>"
      ],
      "text/plain": [
       "| 10        | 11       | 37.538890    | 0.937348          | 0.936088            |"
      ]
     },
     "metadata": {},
     "output_type": "display_data"
    },
    {
     "data": {
      "text/html": [
       "<pre>| 11        | 12       | 40.415567    | 0.937348          | 0.936088            |</pre>"
      ],
      "text/plain": [
       "| 11        | 12       | 40.415567    | 0.937348          | 0.936088            |"
      ]
     },
     "metadata": {},
     "output_type": "display_data"
    },
    {
     "data": {
      "text/html": [
       "<pre>| 12        | 13       | 43.242232    | 0.937348          | 0.936088            |</pre>"
      ],
      "text/plain": [
       "| 12        | 13       | 43.242232    | 0.937348          | 0.936088            |"
      ]
     },
     "metadata": {},
     "output_type": "display_data"
    },
    {
     "data": {
      "text/html": [
       "<pre>| 13        | 14       | 46.014224    | 0.937348          | 0.936088            |</pre>"
      ],
      "text/plain": [
       "| 13        | 14       | 46.014224    | 0.937348          | 0.936088            |"
      ]
     },
     "metadata": {},
     "output_type": "display_data"
    },
    {
     "data": {
      "text/html": [
       "<pre>+-----------+----------+--------------+-------------------+---------------------+</pre>"
      ],
      "text/plain": [
       "+-----------+----------+--------------+-------------------+---------------------+"
      ]
     },
     "metadata": {},
     "output_type": "display_data"
    },
    {
     "data": {
      "text/html": [
       "<pre>SUCCESS: Optimal solution found.</pre>"
      ],
      "text/plain": [
       "SUCCESS: Optimal solution found."
      ]
     },
     "metadata": {},
     "output_type": "display_data"
    },
    {
     "data": {
      "text/html": [
       "<pre></pre>"
      ],
      "text/plain": []
     },
     "metadata": {},
     "output_type": "display_data"
    }
   ],
   "source": [
    "# fit basic classification model - LR\n",
    "model = gl.classifier.logistic_classifier.create(clean_edges, \n",
    "                                                 target=\"class\", max_iterations=100, l2_penalty=0.5,\n",
    "                                                 features=[x for x in clean_edges.column_names() if 'class' not in x])\n",
    "# results = model.evaluate(test)\n",
    "# print results"
   ]
  },
  {
   "cell_type": "code",
   "execution_count": 30,
   "metadata": {
    "collapsed": false,
    "scrolled": false
   },
   "outputs": [
    {
     "name": "stdout",
     "output_type": "stream",
     "text": [
      "PROGRESS: Creating a validation set from 5 percent of training data. This may take a while.\n",
      "          You can set ``validation_set=None`` to disable validation tracking.\n",
      "\n"
     ]
    },
    {
     "data": {
      "text/html": [
       "<pre>Logistic regression:</pre>"
      ],
      "text/plain": [
       "Logistic regression:"
      ]
     },
     "metadata": {},
     "output_type": "display_data"
    },
    {
     "data": {
      "text/html": [
       "<pre>--------------------------------------------------------</pre>"
      ],
      "text/plain": [
       "--------------------------------------------------------"
      ]
     },
     "metadata": {},
     "output_type": "display_data"
    },
    {
     "data": {
      "text/html": [
       "<pre>Number of examples          : 1877606</pre>"
      ],
      "text/plain": [
       "Number of examples          : 1877606"
      ]
     },
     "metadata": {},
     "output_type": "display_data"
    },
    {
     "data": {
      "text/html": [
       "<pre>Number of classes           : 2</pre>"
      ],
      "text/plain": [
       "Number of classes           : 2"
      ]
     },
     "metadata": {},
     "output_type": "display_data"
    },
    {
     "data": {
      "text/html": [
       "<pre>Number of feature columns   : 17</pre>"
      ],
      "text/plain": [
       "Number of feature columns   : 17"
      ]
     },
     "metadata": {},
     "output_type": "display_data"
    },
    {
     "data": {
      "text/html": [
       "<pre>Number of unpacked features : 17</pre>"
      ],
      "text/plain": [
       "Number of unpacked features : 17"
      ]
     },
     "metadata": {},
     "output_type": "display_data"
    },
    {
     "data": {
      "text/html": [
       "<pre>Number of coefficients    : 18</pre>"
      ],
      "text/plain": [
       "Number of coefficients    : 18"
      ]
     },
     "metadata": {},
     "output_type": "display_data"
    },
    {
     "data": {
      "text/html": [
       "<pre>Starting Newton Method</pre>"
      ],
      "text/plain": [
       "Starting Newton Method"
      ]
     },
     "metadata": {},
     "output_type": "display_data"
    },
    {
     "data": {
      "text/html": [
       "<pre>--------------------------------------------------------</pre>"
      ],
      "text/plain": [
       "--------------------------------------------------------"
      ]
     },
     "metadata": {},
     "output_type": "display_data"
    },
    {
     "data": {
      "text/html": [
       "<pre>+-----------+----------+--------------+-------------------+---------------------+</pre>"
      ],
      "text/plain": [
       "+-----------+----------+--------------+-------------------+---------------------+"
      ]
     },
     "metadata": {},
     "output_type": "display_data"
    },
    {
     "data": {
      "text/html": [
       "<pre>| Iteration | Passes   | Elapsed Time | Training-accuracy | Validation-accuracy |</pre>"
      ],
      "text/plain": [
       "| Iteration | Passes   | Elapsed Time | Training-accuracy | Validation-accuracy |"
      ]
     },
     "metadata": {},
     "output_type": "display_data"
    },
    {
     "data": {
      "text/html": [
       "<pre>+-----------+----------+--------------+-------------------+---------------------+</pre>"
      ],
      "text/plain": [
       "+-----------+----------+--------------+-------------------+---------------------+"
      ]
     },
     "metadata": {},
     "output_type": "display_data"
    },
    {
     "data": {
      "text/html": [
       "<pre>| 1         | 2        | 5.340262     | 0.884593          | 0.886556            |</pre>"
      ],
      "text/plain": [
       "| 1         | 2        | 5.340262     | 0.884593          | 0.886556            |"
      ]
     },
     "metadata": {},
     "output_type": "display_data"
    },
    {
     "data": {
      "text/html": [
       "<pre>| 2         | 3        | 7.536286     | 0.911401          | 0.912043            |</pre>"
      ],
      "text/plain": [
       "| 2         | 3        | 7.536286     | 0.911401          | 0.912043            |"
      ]
     },
     "metadata": {},
     "output_type": "display_data"
    },
    {
     "data": {
      "text/html": [
       "<pre>| 3         | 4        | 10.066234    | 0.928197          | 0.928391            |</pre>"
      ],
      "text/plain": [
       "| 3         | 4        | 10.066234    | 0.928197          | 0.928391            |"
      ]
     },
     "metadata": {},
     "output_type": "display_data"
    },
    {
     "data": {
      "text/html": [
       "<pre>| 4         | 5        | 12.657262    | 0.935666          | 0.935741            |</pre>"
      ],
      "text/plain": [
       "| 4         | 5        | 12.657262    | 0.935666          | 0.935741            |"
      ]
     },
     "metadata": {},
     "output_type": "display_data"
    },
    {
     "data": {
      "text/html": [
       "<pre>| 5         | 6        | 15.031434    | 0.937106          | 0.937015            |</pre>"
      ],
      "text/plain": [
       "| 5         | 6        | 15.031434    | 0.937106          | 0.937015            |"
      ]
     },
     "metadata": {},
     "output_type": "display_data"
    },
    {
     "data": {
      "text/html": [
       "<pre>| 6         | 7        | 17.308417    | 0.937212          | 0.937065            |</pre>"
      ],
      "text/plain": [
       "| 6         | 7        | 17.308417    | 0.937212          | 0.937065            |"
      ]
     },
     "metadata": {},
     "output_type": "display_data"
    },
    {
     "data": {
      "text/html": [
       "<pre>| 7         | 8        | 20.004838    | 0.937232          | 0.937106            |</pre>"
      ],
      "text/plain": [
       "| 7         | 8        | 20.004838    | 0.937232          | 0.937106            |"
      ]
     },
     "metadata": {},
     "output_type": "display_data"
    },
    {
     "data": {
      "text/html": [
       "<pre>| 8         | 9        | 22.311614    | 0.937238          | 0.937106            |</pre>"
      ],
      "text/plain": [
       "| 8         | 9        | 22.311614    | 0.937238          | 0.937106            |"
      ]
     },
     "metadata": {},
     "output_type": "display_data"
    },
    {
     "data": {
      "text/html": [
       "<pre>| 9         | 10       | 24.554959    | 0.937239          | 0.937106            |</pre>"
      ],
      "text/plain": [
       "| 9         | 10       | 24.554959    | 0.937239          | 0.937106            |"
      ]
     },
     "metadata": {},
     "output_type": "display_data"
    },
    {
     "data": {
      "text/html": [
       "<pre>| 10        | 11       | 27.165026    | 0.937240          | 0.937116            |</pre>"
      ],
      "text/plain": [
       "| 10        | 11       | 27.165026    | 0.937240          | 0.937116            |"
      ]
     },
     "metadata": {},
     "output_type": "display_data"
    },
    {
     "data": {
      "text/html": [
       "<pre>+-----------+----------+--------------+-------------------+---------------------+</pre>"
      ],
      "text/plain": [
       "+-----------+----------+--------------+-------------------+---------------------+"
      ]
     },
     "metadata": {},
     "output_type": "display_data"
    },
    {
     "data": {
      "text/html": [
       "<pre>TERMINATED: Iteration limit reached.</pre>"
      ],
      "text/plain": [
       "TERMINATED: Iteration limit reached."
      ]
     },
     "metadata": {},
     "output_type": "display_data"
    },
    {
     "data": {
      "text/html": [
       "<pre>This model may not be optimal. To improve it, consider increasing `max_iterations`.</pre>"
      ],
      "text/plain": [
       "This model may not be optimal. To improve it, consider increasing `max_iterations`."
      ]
     },
     "metadata": {},
     "output_type": "display_data"
    },
    {
     "name": "stdout",
     "output_type": "stream",
     "text": [
      "{'f1_score': 0.9236312988998843, 'auc': 0.957584143106152, 'recall': 0.8623922842677182, 'precision': 0.9942323596105108, 'log_loss': 0.19076312058012457, 'roc_curve': Columns:\n",
      "\tthreshold\tfloat\n",
      "\tfpr\tfloat\n",
      "\ttpr\tfloat\n",
      "\tp\tint\n",
      "\tn\tint\n",
      "\n",
      "Rows: 100001\n",
      "\n",
      "Data:\n",
      "+-----------+----------------+-----+--------+--------+\n",
      "| threshold |      fpr       | tpr |   p    |   n    |\n",
      "+-----------+----------------+-----+--------+--------+\n",
      "|    0.0    |      1.0       | 1.0 | 216078 | 277126 |\n",
      "|   1e-05   | 0.999963915331 | 1.0 | 216078 | 277126 |\n",
      "|   2e-05   | 0.999949481463 | 1.0 | 216078 | 277126 |\n",
      "|   3e-05   | 0.999949481463 | 1.0 | 216078 | 277126 |\n",
      "|   4e-05   | 0.999945872996 | 1.0 | 216078 | 277126 |\n",
      "|   5e-05   | 0.999942264529 | 1.0 | 216078 | 277126 |\n",
      "|   6e-05   | 0.999942264529 | 1.0 | 216078 | 277126 |\n",
      "|   7e-05   | 0.999938656063 | 1.0 | 216078 | 277126 |\n",
      "|   8e-05   | 0.999938656063 | 1.0 | 216078 | 277126 |\n",
      "|   9e-05   | 0.999931439129 | 1.0 | 216078 | 277126 |\n",
      "+-----------+----------------+-----+--------+--------+\n",
      "[100001 rows x 5 columns]\n",
      "Note: Only the head of the SFrame is printed.\n",
      "You can use print_rows(num_rows=m, num_columns=n) to print more rows and columns., 'confusion_matrix': Columns:\n",
      "\ttarget_label\tint\n",
      "\tpredicted_label\tint\n",
      "\tcount\tint\n",
      "\n",
      "Rows: 4\n",
      "\n",
      "Data:\n",
      "+--------------+-----------------+--------+\n",
      "| target_label | predicted_label | count  |\n",
      "+--------------+-----------------+--------+\n",
      "|      0       |        1        |  1081  |\n",
      "|      1       |        0        | 29734  |\n",
      "|      0       |        0        | 276045 |\n",
      "|      1       |        1        | 186344 |\n",
      "+--------------+-----------------+--------+\n",
      "[4 rows x 3 columns]\n",
      ", 'accuracy': 0.9375207824754057}\n"
     ]
    }
   ],
   "source": [
    "# fit basic classification model - LR\n",
    "model = gl.classifier.logistic_classifier.create(train, \n",
    "                                                 target=\"class\", \n",
    "                                                 features=[x for x in clean_edges.column_names() if 'class' not in x])\n",
    "results = model.evaluate(test)\n",
    "print results"
   ]
  },
  {
   "cell_type": "markdown",
   "metadata": {},
   "source": [
    "----\n",
    "### 5. Отправка результатов в контест на Kaggle - 20 Баллов\n",
    "\n",
    "\n",
    "Завершая домашнюю работу, нам небходимо предсказать вероятности наличия ребер, для заданного списка ребер. Результат отправлется в контест на kaggle.com в формате: edge_id - probability"
   ]
  },
  {
   "cell_type": "code",
   "execution_count": 31,
   "metadata": {
    "collapsed": false
   },
   "outputs": [],
   "source": [
    "predicted = model.predict(susp_edges, output_type='probability')"
   ]
  },
  {
   "cell_type": "code",
   "execution_count": 32,
   "metadata": {
    "collapsed": false
   },
   "outputs": [
    {
     "name": "stdout",
     "output_type": "stream",
     "text": [
      "[0.05099168830008002, 0.9999999999999919, 0.9999999999987988, 0.11516272099099198, 0.20818655058912072, 0.9762792116238059, 0.9999999999997465, 0.1390559088973581, 0.051437460703918456, 0.8961808757886831]\n"
     ]
    }
   ],
   "source": [
    "print predicted[0:10]"
   ]
  },
  {
   "cell_type": "code",
   "execution_count": 33,
   "metadata": {
    "collapsed": true
   },
   "outputs": [],
   "source": [
    "pred = susp_edges['class']"
   ]
  },
  {
   "cell_type": "code",
   "execution_count": 34,
   "metadata": {
    "collapsed": false
   },
   "outputs": [],
   "source": [
    "susp_edges['probability'] = predicted"
   ]
  },
  {
   "cell_type": "code",
   "execution_count": 35,
   "metadata": {
    "collapsed": false
   },
   "outputs": [],
   "source": [
    "result = susp_edges['edge_id', 'probability']"
   ]
  },
  {
   "cell_type": "code",
   "execution_count": 36,
   "metadata": {
    "collapsed": false
   },
   "outputs": [],
   "source": [
    "result.save('result4.csv', format='csv')"
   ]
  },
  {
   "cell_type": "code",
   "execution_count": null,
   "metadata": {
    "collapsed": true
   },
   "outputs": [],
   "source": []
  }
 ],
 "metadata": {
  "anaconda-cloud": {},
  "kernelspec": {
   "display_name": "Python 2",
   "language": "python",
   "name": "python2"
  },
  "language_info": {
   "codemirror_mode": {
    "name": "ipython",
    "version": 2
   },
   "file_extension": ".py",
   "mimetype": "text/x-python",
   "name": "python",
   "nbconvert_exporter": "python",
   "pygments_lexer": "ipython2",
   "version": "2.7.12"
  }
 },
 "nbformat": 4,
 "nbformat_minor": 0
}
